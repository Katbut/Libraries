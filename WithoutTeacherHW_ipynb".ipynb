{
  "cells": [
    {
      "cell_type": "markdown",
      "metadata": {
        "id": "view-in-github",
        "colab_type": "text"
      },
      "source": [
        "<a href=\"https://colab.research.google.com/github/Katbut/Libraries/blob/Katbut-patch-2/WithoutTeacherHW_ipynb%22.ipynb\" target=\"_parent\"><img src=\"https://colab.research.google.com/assets/colab-badge.svg\" alt=\"Open In Colab\"/></a>"
      ]
    },
    {
      "cell_type": "markdown",
      "source": [
        "Задание 1. \n",
        "\n"
      ],
      "metadata": {
        "id": "ZEbpa51MTJ0n"
      },
      "id": "ZEbpa51MTJ0n"
    },
    {
      "cell_type": "code",
      "execution_count": null,
      "id": "261a3f7f",
      "metadata": {
        "id": "261a3f7f"
      },
      "outputs": [],
      "source": [
        "import warnings\n",
        "warnings.filterwarnings('ignore')\n",
        "\n",
        "import numpy as np\n",
        "import pandas as pd\n",
        "import matplotlib.pyplot as plt\n",
        "from sklearn.decomposition import PCA\n",
        "from sklearn.manifold import TSNE\n",
        "\n",
        "\n",
        "from sklearn.model_selection import train_test_split\n",
        "from sklearn.metrics import r2_score as r2, mean_absolute_error as mae, mean_squared_error as mse\n",
        "\n",
        "from sklearn.ensemble import GradientBoostingRegressor\n",
        "\n",
        "import warnings\n",
        "warnings.filterwarnings('ignore')\n",
        "\n",
        "import matplotlib\n",
        "import matplotlib.pyplot as plt\n",
        "import seaborn as sns"
      ]
    },
    {
      "cell_type": "code",
      "source": [
        "#загрузка датасета\n",
        "from sklearn.datasets import load_boston\n",
        "boston = load_boston()"
      ],
      "metadata": {
        "id": "xfkUhGvMNv4D"
      },
      "id": "xfkUhGvMNv4D",
      "execution_count": null,
      "outputs": []
    },
    {
      "cell_type": "code",
      "source": [
        "\n",
        "boston.keys()\n"
      ],
      "metadata": {
        "id": "uIRrQtSAOcB2",
        "colab": {
          "base_uri": "https://localhost:8080/"
        },
        "outputId": "afcc6293-2a0a-478d-b431-829a400d3ee8"
      },
      "id": "uIRrQtSAOcB2",
      "execution_count": 53,
      "outputs": [
        {
          "output_type": "execute_result",
          "data": {
            "text/plain": [
              "dict_keys(['data', 'target', 'feature_names', 'DESCR', 'filename', 'data_module'])"
            ]
          },
          "metadata": {},
          "execution_count": 53
        }
      ]
    },
    {
      "cell_type": "code",
      "source": [
        "#создание датафреймa x y\n",
        "\n",
        "X = pd.DataFrame(boston.data, columns=boston.feature_names)\n",
        "y = boston.target\n",
        "X.info()\n",
        "\n"
      ],
      "metadata": {
        "colab": {
          "base_uri": "https://localhost:8080/"
        },
        "id": "KaGbpLq-OKXc",
        "outputId": "c1484904-7946-430a-88eb-8ee253d897c1"
      },
      "id": "KaGbpLq-OKXc",
      "execution_count": 54,
      "outputs": [
        {
          "output_type": "stream",
          "name": "stdout",
          "text": [
            "<class 'pandas.core.frame.DataFrame'>\n",
            "RangeIndex: 506 entries, 0 to 505\n",
            "Data columns (total 13 columns):\n",
            " #   Column   Non-Null Count  Dtype  \n",
            "---  ------   --------------  -----  \n",
            " 0   CRIM     506 non-null    float64\n",
            " 1   ZN       506 non-null    float64\n",
            " 2   INDUS    506 non-null    float64\n",
            " 3   CHAS     506 non-null    float64\n",
            " 4   NOX      506 non-null    float64\n",
            " 5   RM       506 non-null    float64\n",
            " 6   AGE      506 non-null    float64\n",
            " 7   DIS      506 non-null    float64\n",
            " 8   RAD      506 non-null    float64\n",
            " 9   TAX      506 non-null    float64\n",
            " 10  PTRATIO  506 non-null    float64\n",
            " 11  B        506 non-null    float64\n",
            " 12  LSTAT    506 non-null    float64\n",
            "dtypes: float64(13)\n",
            "memory usage: 51.5 KB\n"
          ]
        }
      ]
    },
    {
      "cell_type": "code",
      "source": [
        "#разделение выборок на тестовую и тренировочную\n",
        "\n",
        "from sklearn.model_selection import train_test_split\n",
        "X_train,X_test,Y_train,Y_test,=train_test_split(X,Y,test_size=0.2,random_state=42)\n",
        "X_train.shape, X_test.shape, Y_train.shape, Y_test.shape\n"
      ],
      "metadata": {
        "id": "c5Z-MV2LORrU",
        "colab": {
          "base_uri": "https://localhost:8080/"
        },
        "outputId": "6b152ba3-7000-4b33-8a4c-85498e9a6ea1"
      },
      "id": "c5Z-MV2LORrU",
      "execution_count": 56,
      "outputs": [
        {
          "output_type": "execute_result",
          "data": {
            "text/plain": [
              "((404, 13), (102, 13), (404, 1), (102, 1))"
            ]
          },
          "metadata": {},
          "execution_count": 56
        }
      ]
    },
    {
      "cell_type": "code",
      "source": [
        "X_test.describe"
      ],
      "metadata": {
        "colab": {
          "base_uri": "https://localhost:8080/"
        },
        "id": "UiLWm8tW8WZ_",
        "outputId": "7034ef0b-c2cf-4f29-9533-fb7d0ed53970"
      },
      "id": "UiLWm8tW8WZ_",
      "execution_count": 57,
      "outputs": [
        {
          "output_type": "execute_result",
          "data": {
            "text/plain": [
              "<bound method NDFrame.describe of          CRIM    ZN  INDUS  CHAS    NOX  ...   RAD    TAX  PTRATIO       B  LSTAT\n",
              "173   0.09178   0.0   4.05   0.0  0.510  ...   5.0  296.0     16.6  395.50   9.04\n",
              "274   0.05644  40.0   6.41   1.0  0.447  ...   4.0  254.0     17.6  396.90   3.53\n",
              "491   0.10574   0.0  27.74   0.0  0.609  ...   4.0  711.0     20.1  390.11  18.07\n",
              "72    0.09164   0.0  10.81   0.0  0.413  ...   4.0  305.0     19.2  390.91   5.52\n",
              "452   5.09017   0.0  18.10   0.0  0.713  ...  24.0  666.0     20.2  385.09  17.27\n",
              "..        ...   ...    ...   ...    ...  ...   ...    ...      ...     ...    ...\n",
              "412  18.81100   0.0  18.10   0.0  0.597  ...  24.0  666.0     20.2   28.79  34.37\n",
              "436  14.42080   0.0  18.10   0.0  0.740  ...  24.0  666.0     20.2   27.49  18.05\n",
              "411  14.05070   0.0  18.10   0.0  0.597  ...  24.0  666.0     20.2   35.05  21.22\n",
              "86    0.05188   0.0   4.49   0.0  0.449  ...   3.0  247.0     18.5  395.99  12.86\n",
              "75    0.09512   0.0  12.83   0.0  0.437  ...   5.0  398.0     18.7  383.23   8.94\n",
              "\n",
              "[102 rows x 13 columns]>"
            ]
          },
          "metadata": {},
          "execution_count": 57
        }
      ]
    },
    {
      "cell_type": "code",
      "source": [
        "X_train.describe"
      ],
      "metadata": {
        "colab": {
          "base_uri": "https://localhost:8080/"
        },
        "id": "FyVJ8nMe8f0S",
        "outputId": "098106d0-4f96-4435-a81d-614be00dd963"
      },
      "id": "FyVJ8nMe8f0S",
      "execution_count": 58,
      "outputs": [
        {
          "output_type": "execute_result",
          "data": {
            "text/plain": [
              "<bound method NDFrame.describe of          CRIM    ZN  INDUS  CHAS     NOX  ...   RAD    TAX  PTRATIO       B  LSTAT\n",
              "477  15.02340   0.0  18.10   0.0  0.6140  ...  24.0  666.0     20.2  349.48  24.91\n",
              "15    0.62739   0.0   8.14   0.0  0.5380  ...   4.0  307.0     21.0  395.62   8.47\n",
              "332   0.03466  35.0   6.06   0.0  0.4379  ...   1.0  304.0     16.9  362.25   7.83\n",
              "423   7.05042   0.0  18.10   0.0  0.6140  ...  24.0  666.0     20.2    2.52  23.29\n",
              "19    0.72580   0.0   8.14   0.0  0.5380  ...   4.0  307.0     21.0  390.95  11.28\n",
              "..        ...   ...    ...   ...     ...  ...   ...    ...      ...     ...    ...\n",
              "106   0.17120   0.0   8.56   0.0  0.5200  ...   5.0  384.0     20.9  395.67  18.66\n",
              "270   0.29916  20.0   6.96   0.0  0.4640  ...   3.0  223.0     18.6  388.65  13.00\n",
              "348   0.01501  80.0   2.01   0.0  0.4350  ...   4.0  280.0     17.0  390.94   5.99\n",
              "435  11.16040   0.0  18.10   0.0  0.7400  ...  24.0  666.0     20.2  109.85  23.27\n",
              "102   0.22876   0.0   8.56   0.0  0.5200  ...   5.0  384.0     20.9   70.80  10.63\n",
              "\n",
              "[404 rows x 13 columns]>"
            ]
          },
          "metadata": {},
          "execution_count": 58
        }
      ]
    },
    {
      "cell_type": "code",
      "source": [
        "#Масштабирование данных\n",
        "\n",
        "from sklearn.preprocessing import StandardScaler\n",
        "scaler = StandardScaler()\n",
        "\n",
        "colnames = X.columns\n",
        "X_train_scaled = pd.DataFrame(scaler.fit_transform(X_train), columns=colnames)\n",
        "X_test_scaled = pd.DataFrame(scaler.fit_transform(X_test), columns=colnames)\n",
        "\n",
        "X_train_scaled.head(2)"
      ],
      "metadata": {
        "colab": {
          "base_uri": "https://localhost:8080/",
          "height": 112
        },
        "id": "uOaHWaqu2vcd",
        "outputId": "d0135b7a-3801-4b97-e0b8-3e5c0b1e0a8d"
      },
      "id": "uOaHWaqu2vcd",
      "execution_count": 59,
      "outputs": [
        {
          "output_type": "execute_result",
          "data": {
            "text/html": [
              "\n",
              "  <div id=\"df-81e74ece-7ed0-4515-886f-af05326f34dc\">\n",
              "    <div class=\"colab-df-container\">\n",
              "      <div>\n",
              "<style scoped>\n",
              "    .dataframe tbody tr th:only-of-type {\n",
              "        vertical-align: middle;\n",
              "    }\n",
              "\n",
              "    .dataframe tbody tr th {\n",
              "        vertical-align: top;\n",
              "    }\n",
              "\n",
              "    .dataframe thead th {\n",
              "        text-align: right;\n",
              "    }\n",
              "</style>\n",
              "<table border=\"1\" class=\"dataframe\">\n",
              "  <thead>\n",
              "    <tr style=\"text-align: right;\">\n",
              "      <th></th>\n",
              "      <th>CRIM</th>\n",
              "      <th>ZN</th>\n",
              "      <th>INDUS</th>\n",
              "      <th>CHAS</th>\n",
              "      <th>NOX</th>\n",
              "      <th>RM</th>\n",
              "      <th>AGE</th>\n",
              "      <th>DIS</th>\n",
              "      <th>RAD</th>\n",
              "      <th>TAX</th>\n",
              "      <th>PTRATIO</th>\n",
              "      <th>B</th>\n",
              "      <th>LSTAT</th>\n",
              "    </tr>\n",
              "  </thead>\n",
              "  <tbody>\n",
              "    <tr>\n",
              "      <th>0</th>\n",
              "      <td>1.287702</td>\n",
              "      <td>-0.50032</td>\n",
              "      <td>1.033237</td>\n",
              "      <td>-0.278089</td>\n",
              "      <td>0.489252</td>\n",
              "      <td>-1.428069</td>\n",
              "      <td>1.028015</td>\n",
              "      <td>-0.802173</td>\n",
              "      <td>1.706891</td>\n",
              "      <td>1.578434</td>\n",
              "      <td>0.845343</td>\n",
              "      <td>-0.074337</td>\n",
              "      <td>1.753505</td>\n",
              "    </tr>\n",
              "    <tr>\n",
              "      <th>1</th>\n",
              "      <td>-0.336384</td>\n",
              "      <td>-0.50032</td>\n",
              "      <td>-0.413160</td>\n",
              "      <td>-0.278089</td>\n",
              "      <td>-0.157233</td>\n",
              "      <td>-0.680087</td>\n",
              "      <td>-0.431199</td>\n",
              "      <td>0.324349</td>\n",
              "      <td>-0.624360</td>\n",
              "      <td>-0.584648</td>\n",
              "      <td>1.204741</td>\n",
              "      <td>0.430184</td>\n",
              "      <td>-0.561474</td>\n",
              "    </tr>\n",
              "  </tbody>\n",
              "</table>\n",
              "</div>\n",
              "      <button class=\"colab-df-convert\" onclick=\"convertToInteractive('df-81e74ece-7ed0-4515-886f-af05326f34dc')\"\n",
              "              title=\"Convert this dataframe to an interactive table.\"\n",
              "              style=\"display:none;\">\n",
              "        \n",
              "  <svg xmlns=\"http://www.w3.org/2000/svg\" height=\"24px\"viewBox=\"0 0 24 24\"\n",
              "       width=\"24px\">\n",
              "    <path d=\"M0 0h24v24H0V0z\" fill=\"none\"/>\n",
              "    <path d=\"M18.56 5.44l.94 2.06.94-2.06 2.06-.94-2.06-.94-.94-2.06-.94 2.06-2.06.94zm-11 1L8.5 8.5l.94-2.06 2.06-.94-2.06-.94L8.5 2.5l-.94 2.06-2.06.94zm10 10l.94 2.06.94-2.06 2.06-.94-2.06-.94-.94-2.06-.94 2.06-2.06.94z\"/><path d=\"M17.41 7.96l-1.37-1.37c-.4-.4-.92-.59-1.43-.59-.52 0-1.04.2-1.43.59L10.3 9.45l-7.72 7.72c-.78.78-.78 2.05 0 2.83L4 21.41c.39.39.9.59 1.41.59.51 0 1.02-.2 1.41-.59l7.78-7.78 2.81-2.81c.8-.78.8-2.07 0-2.86zM5.41 20L4 18.59l7.72-7.72 1.47 1.35L5.41 20z\"/>\n",
              "  </svg>\n",
              "      </button>\n",
              "      \n",
              "  <style>\n",
              "    .colab-df-container {\n",
              "      display:flex;\n",
              "      flex-wrap:wrap;\n",
              "      gap: 12px;\n",
              "    }\n",
              "\n",
              "    .colab-df-convert {\n",
              "      background-color: #E8F0FE;\n",
              "      border: none;\n",
              "      border-radius: 50%;\n",
              "      cursor: pointer;\n",
              "      display: none;\n",
              "      fill: #1967D2;\n",
              "      height: 32px;\n",
              "      padding: 0 0 0 0;\n",
              "      width: 32px;\n",
              "    }\n",
              "\n",
              "    .colab-df-convert:hover {\n",
              "      background-color: #E2EBFA;\n",
              "      box-shadow: 0px 1px 2px rgba(60, 64, 67, 0.3), 0px 1px 3px 1px rgba(60, 64, 67, 0.15);\n",
              "      fill: #174EA6;\n",
              "    }\n",
              "\n",
              "    [theme=dark] .colab-df-convert {\n",
              "      background-color: #3B4455;\n",
              "      fill: #D2E3FC;\n",
              "    }\n",
              "\n",
              "    [theme=dark] .colab-df-convert:hover {\n",
              "      background-color: #434B5C;\n",
              "      box-shadow: 0px 1px 3px 1px rgba(0, 0, 0, 0.15);\n",
              "      filter: drop-shadow(0px 1px 2px rgba(0, 0, 0, 0.3));\n",
              "      fill: #FFFFFF;\n",
              "    }\n",
              "  </style>\n",
              "\n",
              "      <script>\n",
              "        const buttonEl =\n",
              "          document.querySelector('#df-81e74ece-7ed0-4515-886f-af05326f34dc button.colab-df-convert');\n",
              "        buttonEl.style.display =\n",
              "          google.colab.kernel.accessAllowed ? 'block' : 'none';\n",
              "\n",
              "        async function convertToInteractive(key) {\n",
              "          const element = document.querySelector('#df-81e74ece-7ed0-4515-886f-af05326f34dc');\n",
              "          const dataTable =\n",
              "            await google.colab.kernel.invokeFunction('convertToInteractive',\n",
              "                                                     [key], {});\n",
              "          if (!dataTable) return;\n",
              "\n",
              "          const docLinkHtml = 'Like what you see? Visit the ' +\n",
              "            '<a target=\"_blank\" href=https://colab.research.google.com/notebooks/data_table.ipynb>data table notebook</a>'\n",
              "            + ' to learn more about interactive tables.';\n",
              "          element.innerHTML = '';\n",
              "          dataTable['output_type'] = 'display_data';\n",
              "          await google.colab.output.renderOutput(dataTable, element);\n",
              "          const docLink = document.createElement('div');\n",
              "          docLink.innerHTML = docLinkHtml;\n",
              "          element.appendChild(docLink);\n",
              "        }\n",
              "      </script>\n",
              "    </div>\n",
              "  </div>\n",
              "  "
            ],
            "text/plain": [
              "       CRIM       ZN     INDUS  ...   PTRATIO         B     LSTAT\n",
              "0  1.287702 -0.50032  1.033237  ...  0.845343 -0.074337  1.753505\n",
              "1 -0.336384 -0.50032 -0.413160  ...  1.204741  0.430184 -0.561474\n",
              "\n",
              "[2 rows x 13 columns]"
            ]
          },
          "metadata": {},
          "execution_count": 59
        }
      ]
    },
    {
      "cell_type": "code",
      "source": [
        "X_train_scaled.describe()"
      ],
      "metadata": {
        "colab": {
          "base_uri": "https://localhost:8080/",
          "height": 299
        },
        "id": "VnDH_Z_b3su1",
        "outputId": "0a29a8f9-ecf4-419e-a956-c098ddf11fb1"
      },
      "id": "VnDH_Z_b3su1",
      "execution_count": 60,
      "outputs": [
        {
          "output_type": "execute_result",
          "data": {
            "text/html": [
              "\n",
              "  <div id=\"df-b0649b3d-0b48-4097-9fb9-a9a085dcadc5\">\n",
              "    <div class=\"colab-df-container\">\n",
              "      <div>\n",
              "<style scoped>\n",
              "    .dataframe tbody tr th:only-of-type {\n",
              "        vertical-align: middle;\n",
              "    }\n",
              "\n",
              "    .dataframe tbody tr th {\n",
              "        vertical-align: top;\n",
              "    }\n",
              "\n",
              "    .dataframe thead th {\n",
              "        text-align: right;\n",
              "    }\n",
              "</style>\n",
              "<table border=\"1\" class=\"dataframe\">\n",
              "  <thead>\n",
              "    <tr style=\"text-align: right;\">\n",
              "      <th></th>\n",
              "      <th>CRIM</th>\n",
              "      <th>ZN</th>\n",
              "      <th>INDUS</th>\n",
              "      <th>CHAS</th>\n",
              "      <th>NOX</th>\n",
              "      <th>RM</th>\n",
              "      <th>AGE</th>\n",
              "      <th>DIS</th>\n",
              "      <th>RAD</th>\n",
              "      <th>TAX</th>\n",
              "      <th>PTRATIO</th>\n",
              "      <th>B</th>\n",
              "      <th>LSTAT</th>\n",
              "    </tr>\n",
              "  </thead>\n",
              "  <tbody>\n",
              "    <tr>\n",
              "      <th>count</th>\n",
              "      <td>4.040000e+02</td>\n",
              "      <td>4.040000e+02</td>\n",
              "      <td>4.040000e+02</td>\n",
              "      <td>4.040000e+02</td>\n",
              "      <td>4.040000e+02</td>\n",
              "      <td>4.040000e+02</td>\n",
              "      <td>4.040000e+02</td>\n",
              "      <td>4.040000e+02</td>\n",
              "      <td>4.040000e+02</td>\n",
              "      <td>4.040000e+02</td>\n",
              "      <td>4.040000e+02</td>\n",
              "      <td>4.040000e+02</td>\n",
              "      <td>4.040000e+02</td>\n",
              "    </tr>\n",
              "    <tr>\n",
              "      <th>mean</th>\n",
              "      <td>-1.842585e-16</td>\n",
              "      <td>5.056461e-17</td>\n",
              "      <td>3.074548e-15</td>\n",
              "      <td>-5.056461e-17</td>\n",
              "      <td>-5.221483e-15</td>\n",
              "      <td>-4.031016e-15</td>\n",
              "      <td>-1.001124e-15</td>\n",
              "      <td>-3.176777e-16</td>\n",
              "      <td>-3.654942e-17</td>\n",
              "      <td>-1.534457e-16</td>\n",
              "      <td>2.005876e-14</td>\n",
              "      <td>5.754473e-15</td>\n",
              "      <td>-1.853578e-16</td>\n",
              "    </tr>\n",
              "    <tr>\n",
              "      <th>std</th>\n",
              "      <td>1.001240e+00</td>\n",
              "      <td>1.001240e+00</td>\n",
              "      <td>1.001240e+00</td>\n",
              "      <td>1.001240e+00</td>\n",
              "      <td>1.001240e+00</td>\n",
              "      <td>1.001240e+00</td>\n",
              "      <td>1.001240e+00</td>\n",
              "      <td>1.001240e+00</td>\n",
              "      <td>1.001240e+00</td>\n",
              "      <td>1.001240e+00</td>\n",
              "      <td>1.001240e+00</td>\n",
              "      <td>1.001240e+00</td>\n",
              "      <td>1.001240e+00</td>\n",
              "    </tr>\n",
              "    <tr>\n",
              "      <th>min</th>\n",
              "      <td>-4.061414e-01</td>\n",
              "      <td>-5.003201e-01</td>\n",
              "      <td>-1.487791e+00</td>\n",
              "      <td>-2.780887e-01</td>\n",
              "      <td>-1.458711e+00</td>\n",
              "      <td>-3.461733e+00</td>\n",
              "      <td>-2.348206e+00</td>\n",
              "      <td>-1.258391e+00</td>\n",
              "      <td>-9.740476e-01</td>\n",
              "      <td>-1.307684e+00</td>\n",
              "      <td>-2.568944e+00</td>\n",
              "      <td>-3.892249e+00</td>\n",
              "      <td>-1.510559e+00</td>\n",
              "    </tr>\n",
              "    <tr>\n",
              "      <th>25%</th>\n",
              "      <td>-3.979761e-01</td>\n",
              "      <td>-5.003201e-01</td>\n",
              "      <td>-8.502733e-01</td>\n",
              "      <td>-2.780887e-01</td>\n",
              "      <td>-8.887828e-01</td>\n",
              "      <td>-6.003488e-01</td>\n",
              "      <td>-8.228264e-01</td>\n",
              "      <td>-8.081981e-01</td>\n",
              "      <td>-6.243599e-01</td>\n",
              "      <td>-7.533563e-01</td>\n",
              "      <td>-6.821011e-01</td>\n",
              "      <td>2.098797e-01</td>\n",
              "      <td>-8.005057e-01</td>\n",
              "    </tr>\n",
              "    <tr>\n",
              "      <th>50%</th>\n",
              "      <td>-3.776748e-01</td>\n",
              "      <td>-5.003201e-01</td>\n",
              "      <td>-3.521669e-01</td>\n",
              "      <td>-2.780887e-01</td>\n",
              "      <td>-1.572334e-01</td>\n",
              "      <td>-1.494427e-01</td>\n",
              "      <td>3.270201e-01</td>\n",
              "      <td>-2.971196e-01</td>\n",
              "      <td>-5.077973e-01</td>\n",
              "      <td>-4.460660e-01</td>\n",
              "      <td>1.714705e-01</td>\n",
              "      <td>3.830012e-01</td>\n",
              "      <td>-2.157763e-01</td>\n",
              "    </tr>\n",
              "    <tr>\n",
              "      <th>75%</th>\n",
              "      <td>-4.582119e-02</td>\n",
              "      <td>3.645893e-01</td>\n",
              "      <td>1.033237e+00</td>\n",
              "      <td>-2.780887e-01</td>\n",
              "      <td>6.338607e-01</td>\n",
              "      <td>4.528240e-01</td>\n",
              "      <td>8.974727e-01</td>\n",
              "      <td>7.481981e-01</td>\n",
              "      <td>3.081406e-01</td>\n",
              "      <td>1.578434e+00</td>\n",
              "      <td>8.453428e-01</td>\n",
              "      <td>4.316600e-01</td>\n",
              "      <td>5.513070e-01</td>\n",
              "    </tr>\n",
              "    <tr>\n",
              "      <th>max</th>\n",
              "      <td>9.630689e+00</td>\n",
              "      <td>3.824227e+00</td>\n",
              "      <td>2.433163e+00</td>\n",
              "      <td>3.595975e+00</td>\n",
              "      <td>2.675394e+00</td>\n",
              "      <td>3.477564e+00</td>\n",
              "      <td>1.124581e+00</td>\n",
              "      <td>3.907900e+00</td>\n",
              "      <td>1.706891e+00</td>\n",
              "      <td>1.849573e+00</td>\n",
              "      <td>1.653990e+00</td>\n",
              "      <td>4.441800e-01</td>\n",
              "      <td>3.592534e+00</td>\n",
              "    </tr>\n",
              "  </tbody>\n",
              "</table>\n",
              "</div>\n",
              "      <button class=\"colab-df-convert\" onclick=\"convertToInteractive('df-b0649b3d-0b48-4097-9fb9-a9a085dcadc5')\"\n",
              "              title=\"Convert this dataframe to an interactive table.\"\n",
              "              style=\"display:none;\">\n",
              "        \n",
              "  <svg xmlns=\"http://www.w3.org/2000/svg\" height=\"24px\"viewBox=\"0 0 24 24\"\n",
              "       width=\"24px\">\n",
              "    <path d=\"M0 0h24v24H0V0z\" fill=\"none\"/>\n",
              "    <path d=\"M18.56 5.44l.94 2.06.94-2.06 2.06-.94-2.06-.94-.94-2.06-.94 2.06-2.06.94zm-11 1L8.5 8.5l.94-2.06 2.06-.94-2.06-.94L8.5 2.5l-.94 2.06-2.06.94zm10 10l.94 2.06.94-2.06 2.06-.94-2.06-.94-.94-2.06-.94 2.06-2.06.94z\"/><path d=\"M17.41 7.96l-1.37-1.37c-.4-.4-.92-.59-1.43-.59-.52 0-1.04.2-1.43.59L10.3 9.45l-7.72 7.72c-.78.78-.78 2.05 0 2.83L4 21.41c.39.39.9.59 1.41.59.51 0 1.02-.2 1.41-.59l7.78-7.78 2.81-2.81c.8-.78.8-2.07 0-2.86zM5.41 20L4 18.59l7.72-7.72 1.47 1.35L5.41 20z\"/>\n",
              "  </svg>\n",
              "      </button>\n",
              "      \n",
              "  <style>\n",
              "    .colab-df-container {\n",
              "      display:flex;\n",
              "      flex-wrap:wrap;\n",
              "      gap: 12px;\n",
              "    }\n",
              "\n",
              "    .colab-df-convert {\n",
              "      background-color: #E8F0FE;\n",
              "      border: none;\n",
              "      border-radius: 50%;\n",
              "      cursor: pointer;\n",
              "      display: none;\n",
              "      fill: #1967D2;\n",
              "      height: 32px;\n",
              "      padding: 0 0 0 0;\n",
              "      width: 32px;\n",
              "    }\n",
              "\n",
              "    .colab-df-convert:hover {\n",
              "      background-color: #E2EBFA;\n",
              "      box-shadow: 0px 1px 2px rgba(60, 64, 67, 0.3), 0px 1px 3px 1px rgba(60, 64, 67, 0.15);\n",
              "      fill: #174EA6;\n",
              "    }\n",
              "\n",
              "    [theme=dark] .colab-df-convert {\n",
              "      background-color: #3B4455;\n",
              "      fill: #D2E3FC;\n",
              "    }\n",
              "\n",
              "    [theme=dark] .colab-df-convert:hover {\n",
              "      background-color: #434B5C;\n",
              "      box-shadow: 0px 1px 3px 1px rgba(0, 0, 0, 0.15);\n",
              "      filter: drop-shadow(0px 1px 2px rgba(0, 0, 0, 0.3));\n",
              "      fill: #FFFFFF;\n",
              "    }\n",
              "  </style>\n",
              "\n",
              "      <script>\n",
              "        const buttonEl =\n",
              "          document.querySelector('#df-b0649b3d-0b48-4097-9fb9-a9a085dcadc5 button.colab-df-convert');\n",
              "        buttonEl.style.display =\n",
              "          google.colab.kernel.accessAllowed ? 'block' : 'none';\n",
              "\n",
              "        async function convertToInteractive(key) {\n",
              "          const element = document.querySelector('#df-b0649b3d-0b48-4097-9fb9-a9a085dcadc5');\n",
              "          const dataTable =\n",
              "            await google.colab.kernel.invokeFunction('convertToInteractive',\n",
              "                                                     [key], {});\n",
              "          if (!dataTable) return;\n",
              "\n",
              "          const docLinkHtml = 'Like what you see? Visit the ' +\n",
              "            '<a target=\"_blank\" href=https://colab.research.google.com/notebooks/data_table.ipynb>data table notebook</a>'\n",
              "            + ' to learn more about interactive tables.';\n",
              "          element.innerHTML = '';\n",
              "          dataTable['output_type'] = 'display_data';\n",
              "          await google.colab.output.renderOutput(dataTable, element);\n",
              "          const docLink = document.createElement('div');\n",
              "          docLink.innerHTML = docLinkHtml;\n",
              "          element.appendChild(docLink);\n",
              "        }\n",
              "      </script>\n",
              "    </div>\n",
              "  </div>\n",
              "  "
            ],
            "text/plain": [
              "               CRIM            ZN  ...             B         LSTAT\n",
              "count  4.040000e+02  4.040000e+02  ...  4.040000e+02  4.040000e+02\n",
              "mean  -1.842585e-16  5.056461e-17  ...  5.754473e-15 -1.853578e-16\n",
              "std    1.001240e+00  1.001240e+00  ...  1.001240e+00  1.001240e+00\n",
              "min   -4.061414e-01 -5.003201e-01  ... -3.892249e+00 -1.510559e+00\n",
              "25%   -3.979761e-01 -5.003201e-01  ...  2.098797e-01 -8.005057e-01\n",
              "50%   -3.776748e-01 -5.003201e-01  ...  3.830012e-01 -2.157763e-01\n",
              "75%   -4.582119e-02  3.645893e-01  ...  4.316600e-01  5.513070e-01\n",
              "max    9.630689e+00  3.824227e+00  ...  4.441800e-01  3.592534e+00\n",
              "\n",
              "[8 rows x 13 columns]"
            ]
          },
          "metadata": {},
          "execution_count": 60
        }
      ]
    },
    {
      "cell_type": "code",
      "source": [
        "#создание  TSNE\n",
        "\n",
        "from sklearn.manifold import TSNE\n",
        "tsne = TSNE(n_components=2, learning_rate=250, random_state=42)\n",
        "X_train_tsne = tsne.fit_transform(X_train_scaled)\n",
        "X_train_scaled.shape\n",
        "\n"
      ],
      "metadata": {
        "id": "Spb76hkyNwKx",
        "colab": {
          "base_uri": "https://localhost:8080/"
        },
        "outputId": "d135adc8-d47e-4679-a285-1f2695bba5b3"
      },
      "id": "Spb76hkyNwKx",
      "execution_count": 61,
      "outputs": [
        {
          "output_type": "execute_result",
          "data": {
            "text/plain": [
              "(404, 13)"
            ]
          },
          "metadata": {},
          "execution_count": 61
        }
      ]
    },
    {
      "cell_type": "code",
      "source": [
        "X_train_tsne.shape"
      ],
      "metadata": {
        "colab": {
          "base_uri": "https://localhost:8080/"
        },
        "id": "cgkLE7Q1CAdl",
        "outputId": "b04651a3-e11a-43f2-a70a-a5ac77985c36"
      },
      "id": "cgkLE7Q1CAdl",
      "execution_count": 62,
      "outputs": [
        {
          "output_type": "execute_result",
          "data": {
            "text/plain": [
              "(404, 2)"
            ]
          },
          "metadata": {},
          "execution_count": 62
        }
      ]
    },
    {
      "cell_type": "code",
      "source": [
        "plt.style.use('fivethirtyeight')\n",
        "\n",
        "plt.scatter(X_train_tsne[:, 0], X_train_tsne[:, 1])\n",
        "plt.show()\n"
      ],
      "metadata": {
        "colab": {
          "base_uri": "https://localhost:8080/",
          "height": 374
        },
        "id": "6qF0iTHnCA9u",
        "outputId": "409f8c38-5efd-4725-8626-ee6eb04b481f"
      },
      "id": "6qF0iTHnCA9u",
      "execution_count": 63,
      "outputs": [
        {
          "output_type": "display_data",
          "data": {
            "text/plain": [
              "<Figure size 432x288 with 1 Axes>"
            ],
            "image/svg+xml": "<?xml version=\"1.0\" encoding=\"utf-8\" standalone=\"no\"?>\n<!DOCTYPE svg PUBLIC \"-//W3C//DTD SVG 1.1//EN\"\n  \"http://www.w3.org/Graphics/SVG/1.1/DTD/svg11.dtd\">\n<!-- Created with matplotlib (https://matplotlib.org/) -->\n<svg height=\"264.729375pt\" version=\"1.1\" viewBox=\"0 0 423.286562 264.729375\" width=\"423.286562pt\" xmlns=\"http://www.w3.org/2000/svg\" xmlns:xlink=\"http://www.w3.org/1999/xlink\">\n <defs>\n  <style type=\"text/css\">\n*{stroke-linecap:butt;stroke-linejoin:round;}\n  </style>\n </defs>\n <g id=\"figure_1\">\n  <g id=\"patch_1\">\n   <path d=\"M 0 264.729375 \nL 423.286562 264.729375 \nL 423.286562 0 \nL 0 0 \nz\n\" style=\"fill:#f0f0f0;\"/>\n  </g>\n  <g id=\"axes_1\">\n   <g id=\"patch_2\">\n    <path d=\"M 40.246563 240.48 \nL 416.086562 240.48 \nL 416.086562 7.2 \nL 40.246563 7.2 \nz\n\" style=\"fill:#f0f0f0;\"/>\n   </g>\n   <g id=\"matplotlib.axis_1\">\n    <g id=\"xtick_1\">\n     <g id=\"line2d_1\">\n      <path clip-path=\"url(#p8464313f58)\" d=\"M 62.572558 240.48 \nL 62.572558 7.2 \n\" style=\"fill:none;stroke:#cbcbcb;\"/>\n     </g>\n     <g id=\"line2d_2\"/>\n     <g id=\"text_1\">\n      <!-- −30 -->\n      <defs>\n       <path d=\"M 10.59375 35.5 \nL 73.1875 35.5 \nL 73.1875 27.203125 \nL 10.59375 27.203125 \nz\n\" id=\"DejaVuSans-8722\"/>\n       <path d=\"M 40.578125 39.3125 \nQ 47.65625 37.796875 51.625 33 \nQ 55.609375 28.21875 55.609375 21.1875 \nQ 55.609375 10.40625 48.1875 4.484375 \nQ 40.765625 -1.421875 27.09375 -1.421875 \nQ 22.515625 -1.421875 17.65625 -0.515625 \nQ 12.796875 0.390625 7.625 2.203125 \nL 7.625 11.71875 \nQ 11.71875 9.328125 16.59375 8.109375 \nQ 21.484375 6.890625 26.8125 6.890625 \nQ 36.078125 6.890625 40.9375 10.546875 \nQ 45.796875 14.203125 45.796875 21.1875 \nQ 45.796875 27.640625 41.28125 31.265625 \nQ 36.765625 34.90625 28.71875 34.90625 \nL 20.21875 34.90625 \nL 20.21875 43.015625 \nL 29.109375 43.015625 \nQ 36.375 43.015625 40.234375 45.921875 \nQ 44.09375 48.828125 44.09375 54.296875 \nQ 44.09375 59.90625 40.109375 62.90625 \nQ 36.140625 65.921875 28.71875 65.921875 \nQ 24.65625 65.921875 20.015625 65.03125 \nQ 15.375 64.15625 9.8125 62.3125 \nL 9.8125 71.09375 \nQ 15.4375 72.65625 20.34375 73.4375 \nQ 25.25 74.21875 29.59375 74.21875 \nQ 40.828125 74.21875 47.359375 69.109375 \nQ 53.90625 64.015625 53.90625 55.328125 \nQ 53.90625 49.265625 50.4375 45.09375 \nQ 46.96875 40.921875 40.578125 39.3125 \nz\n\" id=\"DejaVuSans-51\"/>\n       <path d=\"M 31.78125 66.40625 \nQ 24.171875 66.40625 20.328125 58.90625 \nQ 16.5 51.421875 16.5 36.375 \nQ 16.5 21.390625 20.328125 13.890625 \nQ 24.171875 6.390625 31.78125 6.390625 \nQ 39.453125 6.390625 43.28125 13.890625 \nQ 47.125 21.390625 47.125 36.375 \nQ 47.125 51.421875 43.28125 58.90625 \nQ 39.453125 66.40625 31.78125 66.40625 \nz\nM 31.78125 74.21875 \nQ 44.046875 74.21875 50.515625 64.515625 \nQ 56.984375 54.828125 56.984375 36.375 \nQ 56.984375 17.96875 50.515625 8.265625 \nQ 44.046875 -1.421875 31.78125 -1.421875 \nQ 19.53125 -1.421875 13.0625 8.265625 \nQ 6.59375 17.96875 6.59375 36.375 \nQ 6.59375 54.828125 13.0625 64.515625 \nQ 19.53125 74.21875 31.78125 74.21875 \nz\n\" id=\"DejaVuSans-48\"/>\n      </defs>\n      <g transform=\"translate(47.799277 254.617813)scale(0.14 -0.14)\">\n       <use xlink:href=\"#DejaVuSans-8722\"/>\n       <use x=\"83.789062\" xlink:href=\"#DejaVuSans-51\"/>\n       <use x=\"147.412109\" xlink:href=\"#DejaVuSans-48\"/>\n      </g>\n     </g>\n    </g>\n    <g id=\"xtick_2\">\n     <g id=\"line2d_3\">\n      <path clip-path=\"url(#p8464313f58)\" d=\"M 118.844241 240.48 \nL 118.844241 7.2 \n\" style=\"fill:none;stroke:#cbcbcb;\"/>\n     </g>\n     <g id=\"line2d_4\"/>\n     <g id=\"text_2\">\n      <!-- −20 -->\n      <defs>\n       <path d=\"M 19.1875 8.296875 \nL 53.609375 8.296875 \nL 53.609375 0 \nL 7.328125 0 \nL 7.328125 8.296875 \nQ 12.9375 14.109375 22.625 23.890625 \nQ 32.328125 33.6875 34.8125 36.53125 \nQ 39.546875 41.84375 41.421875 45.53125 \nQ 43.3125 49.21875 43.3125 52.78125 \nQ 43.3125 58.59375 39.234375 62.25 \nQ 35.15625 65.921875 28.609375 65.921875 \nQ 23.96875 65.921875 18.8125 64.3125 \nQ 13.671875 62.703125 7.8125 59.421875 \nL 7.8125 69.390625 \nQ 13.765625 71.78125 18.9375 73 \nQ 24.125 74.21875 28.421875 74.21875 \nQ 39.75 74.21875 46.484375 68.546875 \nQ 53.21875 62.890625 53.21875 53.421875 \nQ 53.21875 48.921875 51.53125 44.890625 \nQ 49.859375 40.875 45.40625 35.40625 \nQ 44.1875 33.984375 37.640625 27.21875 \nQ 31.109375 20.453125 19.1875 8.296875 \nz\n\" id=\"DejaVuSans-50\"/>\n      </defs>\n      <g transform=\"translate(104.07096 254.617813)scale(0.14 -0.14)\">\n       <use xlink:href=\"#DejaVuSans-8722\"/>\n       <use x=\"83.789062\" xlink:href=\"#DejaVuSans-50\"/>\n       <use x=\"147.412109\" xlink:href=\"#DejaVuSans-48\"/>\n      </g>\n     </g>\n    </g>\n    <g id=\"xtick_3\">\n     <g id=\"line2d_5\">\n      <path clip-path=\"url(#p8464313f58)\" d=\"M 175.115925 240.48 \nL 175.115925 7.2 \n\" style=\"fill:none;stroke:#cbcbcb;\"/>\n     </g>\n     <g id=\"line2d_6\"/>\n     <g id=\"text_3\">\n      <!-- −10 -->\n      <defs>\n       <path d=\"M 12.40625 8.296875 \nL 28.515625 8.296875 \nL 28.515625 63.921875 \nL 10.984375 60.40625 \nL 10.984375 69.390625 \nL 28.421875 72.90625 \nL 38.28125 72.90625 \nL 38.28125 8.296875 \nL 54.390625 8.296875 \nL 54.390625 0 \nL 12.40625 0 \nz\n\" id=\"DejaVuSans-49\"/>\n      </defs>\n      <g transform=\"translate(160.342643 254.617813)scale(0.14 -0.14)\">\n       <use xlink:href=\"#DejaVuSans-8722\"/>\n       <use x=\"83.789062\" xlink:href=\"#DejaVuSans-49\"/>\n       <use x=\"147.412109\" xlink:href=\"#DejaVuSans-48\"/>\n      </g>\n     </g>\n    </g>\n    <g id=\"xtick_4\">\n     <g id=\"line2d_7\">\n      <path clip-path=\"url(#p8464313f58)\" d=\"M 231.387608 240.48 \nL 231.387608 7.2 \n\" style=\"fill:none;stroke:#cbcbcb;\"/>\n     </g>\n     <g id=\"line2d_8\"/>\n     <g id=\"text_4\">\n      <!-- 0 -->\n      <g transform=\"translate(226.933858 254.617813)scale(0.14 -0.14)\">\n       <use xlink:href=\"#DejaVuSans-48\"/>\n      </g>\n     </g>\n    </g>\n    <g id=\"xtick_5\">\n     <g id=\"line2d_9\">\n      <path clip-path=\"url(#p8464313f58)\" d=\"M 287.659291 240.48 \nL 287.659291 7.2 \n\" style=\"fill:none;stroke:#cbcbcb;\"/>\n     </g>\n     <g id=\"line2d_10\"/>\n     <g id=\"text_5\">\n      <!-- 10 -->\n      <g transform=\"translate(278.751791 254.617813)scale(0.14 -0.14)\">\n       <use xlink:href=\"#DejaVuSans-49\"/>\n       <use x=\"63.623047\" xlink:href=\"#DejaVuSans-48\"/>\n      </g>\n     </g>\n    </g>\n    <g id=\"xtick_6\">\n     <g id=\"line2d_11\">\n      <path clip-path=\"url(#p8464313f58)\" d=\"M 343.930974 240.48 \nL 343.930974 7.2 \n\" style=\"fill:none;stroke:#cbcbcb;\"/>\n     </g>\n     <g id=\"line2d_12\"/>\n     <g id=\"text_6\">\n      <!-- 20 -->\n      <g transform=\"translate(335.023474 254.617813)scale(0.14 -0.14)\">\n       <use xlink:href=\"#DejaVuSans-50\"/>\n       <use x=\"63.623047\" xlink:href=\"#DejaVuSans-48\"/>\n      </g>\n     </g>\n    </g>\n    <g id=\"xtick_7\">\n     <g id=\"line2d_13\">\n      <path clip-path=\"url(#p8464313f58)\" d=\"M 400.202658 240.48 \nL 400.202658 7.2 \n\" style=\"fill:none;stroke:#cbcbcb;\"/>\n     </g>\n     <g id=\"line2d_14\"/>\n     <g id=\"text_7\">\n      <!-- 30 -->\n      <g transform=\"translate(391.295158 254.617813)scale(0.14 -0.14)\">\n       <use xlink:href=\"#DejaVuSans-51\"/>\n       <use x=\"63.623047\" xlink:href=\"#DejaVuSans-48\"/>\n      </g>\n     </g>\n    </g>\n   </g>\n   <g id=\"matplotlib.axis_2\">\n    <g id=\"ytick_1\">\n     <g id=\"line2d_15\">\n      <path clip-path=\"url(#p8464313f58)\" d=\"M 40.246563 234.774214 \nL 416.086562 234.774214 \n\" style=\"fill:none;stroke:#cbcbcb;\"/>\n     </g>\n     <g id=\"line2d_16\"/>\n     <g id=\"text_8\">\n      <!-- −20 -->\n      <g transform=\"translate(7.2 240.093121)scale(0.14 -0.14)\">\n       <use xlink:href=\"#DejaVuSans-8722\"/>\n       <use x=\"83.789062\" xlink:href=\"#DejaVuSans-50\"/>\n       <use x=\"147.412109\" xlink:href=\"#DejaVuSans-48\"/>\n      </g>\n     </g>\n    </g>\n    <g id=\"ytick_2\">\n     <g id=\"line2d_17\">\n      <path clip-path=\"url(#p8464313f58)\" d=\"M 40.246563 192.389254 \nL 416.086562 192.389254 \n\" style=\"fill:none;stroke:#cbcbcb;\"/>\n     </g>\n     <g id=\"line2d_18\"/>\n     <g id=\"text_9\">\n      <!-- −10 -->\n      <g transform=\"translate(7.2 197.70816)scale(0.14 -0.14)\">\n       <use xlink:href=\"#DejaVuSans-8722\"/>\n       <use x=\"83.789062\" xlink:href=\"#DejaVuSans-49\"/>\n       <use x=\"147.412109\" xlink:href=\"#DejaVuSans-48\"/>\n      </g>\n     </g>\n    </g>\n    <g id=\"ytick_3\">\n     <g id=\"line2d_19\">\n      <path clip-path=\"url(#p8464313f58)\" d=\"M 40.246563 150.004294 \nL 416.086562 150.004294 \n\" style=\"fill:none;stroke:#cbcbcb;\"/>\n     </g>\n     <g id=\"line2d_20\"/>\n     <g id=\"text_10\">\n      <!-- 0 -->\n      <g transform=\"translate(27.839063 155.3232)scale(0.14 -0.14)\">\n       <use xlink:href=\"#DejaVuSans-48\"/>\n      </g>\n     </g>\n    </g>\n    <g id=\"ytick_4\">\n     <g id=\"line2d_21\">\n      <path clip-path=\"url(#p8464313f58)\" d=\"M 40.246563 107.619334 \nL 416.086562 107.619334 \n\" style=\"fill:none;stroke:#cbcbcb;\"/>\n     </g>\n     <g id=\"line2d_22\"/>\n     <g id=\"text_11\">\n      <!-- 10 -->\n      <g transform=\"translate(18.931563 112.93824)scale(0.14 -0.14)\">\n       <use xlink:href=\"#DejaVuSans-49\"/>\n       <use x=\"63.623047\" xlink:href=\"#DejaVuSans-48\"/>\n      </g>\n     </g>\n    </g>\n    <g id=\"ytick_5\">\n     <g id=\"line2d_23\">\n      <path clip-path=\"url(#p8464313f58)\" d=\"M 40.246563 65.234374 \nL 416.086562 65.234374 \n\" style=\"fill:none;stroke:#cbcbcb;\"/>\n     </g>\n     <g id=\"line2d_24\"/>\n     <g id=\"text_12\">\n      <!-- 20 -->\n      <g transform=\"translate(18.931563 70.55328)scale(0.14 -0.14)\">\n       <use xlink:href=\"#DejaVuSans-50\"/>\n       <use x=\"63.623047\" xlink:href=\"#DejaVuSans-48\"/>\n      </g>\n     </g>\n    </g>\n    <g id=\"ytick_6\">\n     <g id=\"line2d_25\">\n      <path clip-path=\"url(#p8464313f58)\" d=\"M 40.246563 22.849413 \nL 416.086562 22.849413 \n\" style=\"fill:none;stroke:#cbcbcb;\"/>\n     </g>\n     <g id=\"line2d_26\"/>\n     <g id=\"text_13\">\n      <!-- 30 -->\n      <g transform=\"translate(18.931563 28.16832)scale(0.14 -0.14)\">\n       <use xlink:href=\"#DejaVuSans-51\"/>\n       <use x=\"63.623047\" xlink:href=\"#DejaVuSans-48\"/>\n      </g>\n     </g>\n    </g>\n   </g>\n   <g id=\"PathCollection_1\">\n    <defs>\n     <path d=\"M 0 3 \nC 0.795609 3 1.55874 2.683901 2.12132 2.12132 \nC 2.683901 1.55874 3 0.795609 3 0 \nC 3 -0.795609 2.683901 -1.55874 2.12132 -2.12132 \nC 1.55874 -2.683901 0.795609 -3 0 -3 \nC -0.795609 -3 -1.55874 -2.683901 -2.12132 -2.12132 \nC -2.683901 -1.55874 -3 -0.795609 -3 0 \nC -3 0.795609 -2.683901 1.55874 -2.12132 2.12132 \nC -1.55874 2.683901 -0.795609 3 0 3 \nz\n\" id=\"ma3fc85625c\" style=\"stroke:#008fd5;stroke-width:0.5;\"/>\n    </defs>\n    <g clip-path=\"url(#p8464313f58)\">\n     <use style=\"fill:#008fd5;stroke:#008fd5;stroke-width:0.5;\" x=\"333.262701\" xlink:href=\"#ma3fc85625c\" y=\"26.307428\"/>\n     <use style=\"fill:#008fd5;stroke:#008fd5;stroke-width:0.5;\" x=\"250.319997\" xlink:href=\"#ma3fc85625c\" y=\"183.529392\"/>\n     <use style=\"fill:#008fd5;stroke:#008fd5;stroke-width:0.5;\" x=\"114.810962\" xlink:href=\"#ma3fc85625c\" y=\"187.927199\"/>\n     <use style=\"fill:#008fd5;stroke:#008fd5;stroke-width:0.5;\" x=\"387.004623\" xlink:href=\"#ma3fc85625c\" y=\"37.105767\"/>\n     <use style=\"fill:#008fd5;stroke:#008fd5;stroke-width:0.5;\" x=\"255.918794\" xlink:href=\"#ma3fc85625c\" y=\"181.535439\"/>\n     <use style=\"fill:#008fd5;stroke:#008fd5;stroke-width:0.5;\" x=\"164.588242\" xlink:href=\"#ma3fc85625c\" y=\"163.554618\"/>\n     <use style=\"fill:#008fd5;stroke:#008fd5;stroke-width:0.5;\" x=\"175.767448\" xlink:href=\"#ma3fc85625c\" y=\"163.224825\"/>\n     <use style=\"fill:#008fd5;stroke:#008fd5;stroke-width:0.5;\" x=\"80.683976\" xlink:href=\"#ma3fc85625c\" y=\"213.713617\"/>\n     <use style=\"fill:#008fd5;stroke:#008fd5;stroke-width:0.5;\" x=\"391.795575\" xlink:href=\"#ma3fc85625c\" y=\"33.560394\"/>\n     <use style=\"fill:#008fd5;stroke:#008fd5;stroke-width:0.5;\" x=\"399.002926\" xlink:href=\"#ma3fc85625c\" y=\"46.165442\"/>\n     <use style=\"fill:#008fd5;stroke:#008fd5;stroke-width:0.5;\" x=\"173.263677\" xlink:href=\"#ma3fc85625c\" y=\"161.464104\"/>\n     <use style=\"fill:#008fd5;stroke:#008fd5;stroke-width:0.5;\" x=\"197.25628\" xlink:href=\"#ma3fc85625c\" y=\"188.797679\"/>\n     <use style=\"fill:#008fd5;stroke:#008fd5;stroke-width:0.5;\" x=\"199.774715\" xlink:href=\"#ma3fc85625c\" y=\"207.58077\"/>\n     <use style=\"fill:#008fd5;stroke:#008fd5;stroke-width:0.5;\" x=\"392.443342\" xlink:href=\"#ma3fc85625c\" y=\"45.652187\"/>\n     <use style=\"fill:#008fd5;stroke:#008fd5;stroke-width:0.5;\" x=\"191.349998\" xlink:href=\"#ma3fc85625c\" y=\"211.638958\"/>\n     <use style=\"fill:#008fd5;stroke:#008fd5;stroke-width:0.5;\" x=\"273.582537\" xlink:href=\"#ma3fc85625c\" y=\"186.477722\"/>\n     <use style=\"fill:#008fd5;stroke:#008fd5;stroke-width:0.5;\" x=\"238.299549\" xlink:href=\"#ma3fc85625c\" y=\"174.607637\"/>\n     <use style=\"fill:#008fd5;stroke:#008fd5;stroke-width:0.5;\" x=\"108.41337\" xlink:href=\"#ma3fc85625c\" y=\"186.410429\"/>\n     <use style=\"fill:#008fd5;stroke:#008fd5;stroke-width:0.5;\" x=\"136.49047\" xlink:href=\"#ma3fc85625c\" y=\"193.770265\"/>\n     <use style=\"fill:#008fd5;stroke:#008fd5;stroke-width:0.5;\" x=\"126.228837\" xlink:href=\"#ma3fc85625c\" y=\"178.455219\"/>\n     <use style=\"fill:#008fd5;stroke:#008fd5;stroke-width:0.5;\" x=\"367.05293\" xlink:href=\"#ma3fc85625c\" y=\"27.527962\"/>\n     <use style=\"fill:#008fd5;stroke:#008fd5;stroke-width:0.5;\" x=\"227.086019\" xlink:href=\"#ma3fc85625c\" y=\"172.771309\"/>\n     <use style=\"fill:#008fd5;stroke:#008fd5;stroke-width:0.5;\" x=\"155.054465\" xlink:href=\"#ma3fc85625c\" y=\"165.409134\"/>\n     <use style=\"fill:#008fd5;stroke:#008fd5;stroke-width:0.5;\" x=\"184.734943\" xlink:href=\"#ma3fc85625c\" y=\"170.859756\"/>\n     <use style=\"fill:#008fd5;stroke:#008fd5;stroke-width:0.5;\" x=\"78.691067\" xlink:href=\"#ma3fc85625c\" y=\"213.042872\"/>\n     <use style=\"fill:#008fd5;stroke:#008fd5;stroke-width:0.5;\" x=\"194.835732\" xlink:href=\"#ma3fc85625c\" y=\"204.94931\"/>\n     <use style=\"fill:#008fd5;stroke:#008fd5;stroke-width:0.5;\" x=\"226.994737\" xlink:href=\"#ma3fc85625c\" y=\"114.043935\"/>\n     <use style=\"fill:#008fd5;stroke:#008fd5;stroke-width:0.5;\" x=\"185.031548\" xlink:href=\"#ma3fc85625c\" y=\"221.090552\"/>\n     <use style=\"fill:#008fd5;stroke:#008fd5;stroke-width:0.5;\" x=\"289.007648\" xlink:href=\"#ma3fc85625c\" y=\"139.427916\"/>\n     <use style=\"fill:#008fd5;stroke:#008fd5;stroke-width:0.5;\" x=\"150.246679\" xlink:href=\"#ma3fc85625c\" y=\"174.726656\"/>\n     <use style=\"fill:#008fd5;stroke:#008fd5;stroke-width:0.5;\" x=\"268.480206\" xlink:href=\"#ma3fc85625c\" y=\"179.01101\"/>\n     <use style=\"fill:#008fd5;stroke:#008fd5;stroke-width:0.5;\" x=\"234.828592\" xlink:href=\"#ma3fc85625c\" y=\"164.649541\"/>\n     <use style=\"fill:#008fd5;stroke:#008fd5;stroke-width:0.5;\" x=\"258.801021\" xlink:href=\"#ma3fc85625c\" y=\"117.771296\"/>\n     <use style=\"fill:#008fd5;stroke:#008fd5;stroke-width:0.5;\" x=\"386.204931\" xlink:href=\"#ma3fc85625c\" y=\"46.642658\"/>\n     <use style=\"fill:#008fd5;stroke:#008fd5;stroke-width:0.5;\" x=\"179.336956\" xlink:href=\"#ma3fc85625c\" y=\"165.195256\"/>\n     <use style=\"fill:#008fd5;stroke:#008fd5;stroke-width:0.5;\" x=\"73.47612\" xlink:href=\"#ma3fc85625c\" y=\"206.729567\"/>\n     <use style=\"fill:#008fd5;stroke:#008fd5;stroke-width:0.5;\" x=\"84.341182\" xlink:href=\"#ma3fc85625c\" y=\"198.361612\"/>\n     <use style=\"fill:#008fd5;stroke:#008fd5;stroke-width:0.5;\" x=\"271.473546\" xlink:href=\"#ma3fc85625c\" y=\"180.96434\"/>\n     <use style=\"fill:#008fd5;stroke:#008fd5;stroke-width:0.5;\" x=\"265.743459\" xlink:href=\"#ma3fc85625c\" y=\"181.954053\"/>\n     <use style=\"fill:#008fd5;stroke:#008fd5;stroke-width:0.5;\" x=\"80.641881\" xlink:href=\"#ma3fc85625c\" y=\"203.093868\"/>\n     <use style=\"fill:#008fd5;stroke:#008fd5;stroke-width:0.5;\" x=\"85.967667\" xlink:href=\"#ma3fc85625c\" y=\"207.887965\"/>\n     <use style=\"fill:#008fd5;stroke:#008fd5;stroke-width:0.5;\" x=\"195.834478\" xlink:href=\"#ma3fc85625c\" y=\"117.283013\"/>\n     <use style=\"fill:#008fd5;stroke:#008fd5;stroke-width:0.5;\" x=\"350.397128\" xlink:href=\"#ma3fc85625c\" y=\"26.813795\"/>\n     <use style=\"fill:#008fd5;stroke:#008fd5;stroke-width:0.5;\" x=\"219.140876\" xlink:href=\"#ma3fc85625c\" y=\"194.707707\"/>\n     <use style=\"fill:#008fd5;stroke:#008fd5;stroke-width:0.5;\" x=\"223.73347\" xlink:href=\"#ma3fc85625c\" y=\"112.783339\"/>\n     <use style=\"fill:#008fd5;stroke:#008fd5;stroke-width:0.5;\" x=\"318.196281\" xlink:href=\"#ma3fc85625c\" y=\"39.19803\"/>\n     <use style=\"fill:#008fd5;stroke:#008fd5;stroke-width:0.5;\" x=\"276.09511\" xlink:href=\"#ma3fc85625c\" y=\"180.434391\"/>\n     <use style=\"fill:#008fd5;stroke:#008fd5;stroke-width:0.5;\" x=\"196.224769\" xlink:href=\"#ma3fc85625c\" y=\"220.432935\"/>\n     <use style=\"fill:#008fd5;stroke:#008fd5;stroke-width:0.5;\" x=\"391.455833\" xlink:href=\"#ma3fc85625c\" y=\"44.050382\"/>\n     <use style=\"fill:#008fd5;stroke:#008fd5;stroke-width:0.5;\" x=\"316.930252\" xlink:href=\"#ma3fc85625c\" y=\"42.633004\"/>\n     <use style=\"fill:#008fd5;stroke:#008fd5;stroke-width:0.5;\" x=\"174.030671\" xlink:href=\"#ma3fc85625c\" y=\"189.170401\"/>\n     <use style=\"fill:#008fd5;stroke:#008fd5;stroke-width:0.5;\" x=\"228.643842\" xlink:href=\"#ma3fc85625c\" y=\"173.022005\"/>\n     <use style=\"fill:#008fd5;stroke:#008fd5;stroke-width:0.5;\" x=\"166.865097\" xlink:href=\"#ma3fc85625c\" y=\"174.752833\"/>\n     <use style=\"fill:#008fd5;stroke:#008fd5;stroke-width:0.5;\" x=\"180.851539\" xlink:href=\"#ma3fc85625c\" y=\"160.615674\"/>\n     <use style=\"fill:#008fd5;stroke:#008fd5;stroke-width:0.5;\" x=\"329.975685\" xlink:href=\"#ma3fc85625c\" y=\"53.393549\"/>\n     <use style=\"fill:#008fd5;stroke:#008fd5;stroke-width:0.5;\" x=\"305.837768\" xlink:href=\"#ma3fc85625c\" y=\"51.115809\"/>\n     <use style=\"fill:#008fd5;stroke:#008fd5;stroke-width:0.5;\" x=\"172.669274\" xlink:href=\"#ma3fc85625c\" y=\"191.81586\"/>\n     <use style=\"fill:#008fd5;stroke:#008fd5;stroke-width:0.5;\" x=\"359.978667\" xlink:href=\"#ma3fc85625c\" y=\"25.844416\"/>\n     <use style=\"fill:#008fd5;stroke:#008fd5;stroke-width:0.5;\" x=\"197.408836\" xlink:href=\"#ma3fc85625c\" y=\"186.394373\"/>\n     <use style=\"fill:#008fd5;stroke:#008fd5;stroke-width:0.5;\" x=\"136.392167\" xlink:href=\"#ma3fc85625c\" y=\"192.554283\"/>\n     <use style=\"fill:#008fd5;stroke:#008fd5;stroke-width:0.5;\" x=\"248.446843\" xlink:href=\"#ma3fc85625c\" y=\"176.109275\"/>\n     <use style=\"fill:#008fd5;stroke:#008fd5;stroke-width:0.5;\" x=\"186.859467\" xlink:href=\"#ma3fc85625c\" y=\"173.292206\"/>\n     <use style=\"fill:#008fd5;stroke:#008fd5;stroke-width:0.5;\" x=\"227.274698\" xlink:href=\"#ma3fc85625c\" y=\"222.07922\"/>\n     <use style=\"fill:#008fd5;stroke:#008fd5;stroke-width:0.5;\" x=\"262.661961\" xlink:href=\"#ma3fc85625c\" y=\"175.458173\"/>\n     <use style=\"fill:#008fd5;stroke:#008fd5;stroke-width:0.5;\" x=\"211.37118\" xlink:href=\"#ma3fc85625c\" y=\"229.579994\"/>\n     <use style=\"fill:#008fd5;stroke:#008fd5;stroke-width:0.5;\" x=\"325.663875\" xlink:href=\"#ma3fc85625c\" y=\"44.458016\"/>\n     <use style=\"fill:#008fd5;stroke:#008fd5;stroke-width:0.5;\" x=\"269.152068\" xlink:href=\"#ma3fc85625c\" y=\"182.977548\"/>\n     <use style=\"fill:#008fd5;stroke:#008fd5;stroke-width:0.5;\" x=\"233.64569\" xlink:href=\"#ma3fc85625c\" y=\"201.193159\"/>\n     <use style=\"fill:#008fd5;stroke:#008fd5;stroke-width:0.5;\" x=\"304.268978\" xlink:href=\"#ma3fc85625c\" y=\"138.466577\"/>\n     <use style=\"fill:#008fd5;stroke:#008fd5;stroke-width:0.5;\" x=\"267.7785\" xlink:href=\"#ma3fc85625c\" y=\"170.606758\"/>\n     <use style=\"fill:#008fd5;stroke:#008fd5;stroke-width:0.5;\" x=\"180.183846\" xlink:href=\"#ma3fc85625c\" y=\"171.280097\"/>\n     <use style=\"fill:#008fd5;stroke:#008fd5;stroke-width:0.5;\" x=\"239.634733\" xlink:href=\"#ma3fc85625c\" y=\"140.317371\"/>\n     <use style=\"fill:#008fd5;stroke:#008fd5;stroke-width:0.5;\" x=\"318.232312\" xlink:href=\"#ma3fc85625c\" y=\"57.117011\"/>\n     <use style=\"fill:#008fd5;stroke:#008fd5;stroke-width:0.5;\" x=\"231.211726\" xlink:href=\"#ma3fc85625c\" y=\"168.375775\"/>\n     <use style=\"fill:#008fd5;stroke:#008fd5;stroke-width:0.5;\" x=\"227.382532\" xlink:href=\"#ma3fc85625c\" y=\"174.879704\"/>\n     <use style=\"fill:#008fd5;stroke:#008fd5;stroke-width:0.5;\" x=\"182.184708\" xlink:href=\"#ma3fc85625c\" y=\"198.294035\"/>\n     <use style=\"fill:#008fd5;stroke:#008fd5;stroke-width:0.5;\" x=\"89.916628\" xlink:href=\"#ma3fc85625c\" y=\"191.566742\"/>\n     <use style=\"fill:#008fd5;stroke:#008fd5;stroke-width:0.5;\" x=\"165.486243\" xlink:href=\"#ma3fc85625c\" y=\"196.857417\"/>\n     <use style=\"fill:#008fd5;stroke:#008fd5;stroke-width:0.5;\" x=\"261.041255\" xlink:href=\"#ma3fc85625c\" y=\"117.64989\"/>\n     <use style=\"fill:#008fd5;stroke:#008fd5;stroke-width:0.5;\" x=\"333.81517\" xlink:href=\"#ma3fc85625c\" y=\"19.577944\"/>\n     <use style=\"fill:#008fd5;stroke:#008fd5;stroke-width:0.5;\" x=\"326.33402\" xlink:href=\"#ma3fc85625c\" y=\"27.539069\"/>\n     <use style=\"fill:#008fd5;stroke:#008fd5;stroke-width:0.5;\" x=\"280.442795\" xlink:href=\"#ma3fc85625c\" y=\"59.594304\"/>\n     <use style=\"fill:#008fd5;stroke:#008fd5;stroke-width:0.5;\" x=\"144.794206\" xlink:href=\"#ma3fc85625c\" y=\"222.830016\"/>\n     <use style=\"fill:#008fd5;stroke:#008fd5;stroke-width:0.5;\" x=\"202.713317\" xlink:href=\"#ma3fc85625c\" y=\"123.033297\"/>\n     <use style=\"fill:#008fd5;stroke:#008fd5;stroke-width:0.5;\" x=\"389.852155\" xlink:href=\"#ma3fc85625c\" y=\"39.532364\"/>\n     <use style=\"fill:#008fd5;stroke:#008fd5;stroke-width:0.5;\" x=\"310.740343\" xlink:href=\"#ma3fc85625c\" y=\"143.083273\"/>\n     <use style=\"fill:#008fd5;stroke:#008fd5;stroke-width:0.5;\" x=\"276.984766\" xlink:href=\"#ma3fc85625c\" y=\"64.051205\"/>\n     <use style=\"fill:#008fd5;stroke:#008fd5;stroke-width:0.5;\" x=\"137.182372\" xlink:href=\"#ma3fc85625c\" y=\"177.49049\"/>\n     <use style=\"fill:#008fd5;stroke:#008fd5;stroke-width:0.5;\" x=\"308.330002\" xlink:href=\"#ma3fc85625c\" y=\"46.062368\"/>\n     <use style=\"fill:#008fd5;stroke:#008fd5;stroke-width:0.5;\" x=\"243.68008\" xlink:href=\"#ma3fc85625c\" y=\"134.613908\"/>\n     <use style=\"fill:#008fd5;stroke:#008fd5;stroke-width:0.5;\" x=\"238.300878\" xlink:href=\"#ma3fc85625c\" y=\"170.543088\"/>\n     <use style=\"fill:#008fd5;stroke:#008fd5;stroke-width:0.5;\" x=\"328.267254\" xlink:href=\"#ma3fc85625c\" y=\"41.885417\"/>\n     <use style=\"fill:#008fd5;stroke:#008fd5;stroke-width:0.5;\" x=\"339.994131\" xlink:href=\"#ma3fc85625c\" y=\"31.054571\"/>\n     <use style=\"fill:#008fd5;stroke:#008fd5;stroke-width:0.5;\" x=\"83.389683\" xlink:href=\"#ma3fc85625c\" y=\"197.532067\"/>\n     <use style=\"fill:#008fd5;stroke:#008fd5;stroke-width:0.5;\" x=\"124.337054\" xlink:href=\"#ma3fc85625c\" y=\"178.248566\"/>\n     <use style=\"fill:#008fd5;stroke:#008fd5;stroke-width:0.5;\" x=\"271.949955\" xlink:href=\"#ma3fc85625c\" y=\"173.106732\"/>\n     <use style=\"fill:#008fd5;stroke:#008fd5;stroke-width:0.5;\" x=\"311.391861\" xlink:href=\"#ma3fc85625c\" y=\"39.641906\"/>\n     <use style=\"fill:#008fd5;stroke:#008fd5;stroke-width:0.5;\" x=\"251.097483\" xlink:href=\"#ma3fc85625c\" y=\"117.218914\"/>\n     <use style=\"fill:#008fd5;stroke:#008fd5;stroke-width:0.5;\" x=\"218.615088\" xlink:href=\"#ma3fc85625c\" y=\"195.115782\"/>\n     <use style=\"fill:#008fd5;stroke:#008fd5;stroke-width:0.5;\" x=\"223.318558\" xlink:href=\"#ma3fc85625c\" y=\"112.244008\"/>\n     <use style=\"fill:#008fd5;stroke:#008fd5;stroke-width:0.5;\" x=\"201.713949\" xlink:href=\"#ma3fc85625c\" y=\"122.969742\"/>\n     <use style=\"fill:#008fd5;stroke:#008fd5;stroke-width:0.5;\" x=\"162.867162\" xlink:href=\"#ma3fc85625c\" y=\"203.900082\"/>\n     <use style=\"fill:#008fd5;stroke:#008fd5;stroke-width:0.5;\" x=\"152.802232\" xlink:href=\"#ma3fc85625c\" y=\"192.215915\"/>\n     <use style=\"fill:#008fd5;stroke:#008fd5;stroke-width:0.5;\" x=\"133.952949\" xlink:href=\"#ma3fc85625c\" y=\"186.765228\"/>\n     <use style=\"fill:#008fd5;stroke:#008fd5;stroke-width:0.5;\" x=\"242.914063\" xlink:href=\"#ma3fc85625c\" y=\"132.455045\"/>\n     <use style=\"fill:#008fd5;stroke:#008fd5;stroke-width:0.5;\" x=\"214.019246\" xlink:href=\"#ma3fc85625c\" y=\"122.962467\"/>\n     <use style=\"fill:#008fd5;stroke:#008fd5;stroke-width:0.5;\" x=\"71.993102\" xlink:href=\"#ma3fc85625c\" y=\"210.169881\"/>\n     <use style=\"fill:#008fd5;stroke:#008fd5;stroke-width:0.5;\" x=\"197.707344\" xlink:href=\"#ma3fc85625c\" y=\"210.562939\"/>\n     <use style=\"fill:#008fd5;stroke:#008fd5;stroke-width:0.5;\" x=\"161.02547\" xlink:href=\"#ma3fc85625c\" y=\"167.73577\"/>\n     <use style=\"fill:#008fd5;stroke:#008fd5;stroke-width:0.5;\" x=\"210.138666\" xlink:href=\"#ma3fc85625c\" y=\"178.944195\"/>\n     <use style=\"fill:#008fd5;stroke:#008fd5;stroke-width:0.5;\" x=\"390.492635\" xlink:href=\"#ma3fc85625c\" y=\"41.541568\"/>\n     <use style=\"fill:#008fd5;stroke:#008fd5;stroke-width:0.5;\" x=\"118.183691\" xlink:href=\"#ma3fc85625c\" y=\"172.74191\"/>\n     <use style=\"fill:#008fd5;stroke:#008fd5;stroke-width:0.5;\" x=\"232.299977\" xlink:href=\"#ma3fc85625c\" y=\"171.144192\"/>\n     <use style=\"fill:#008fd5;stroke:#008fd5;stroke-width:0.5;\" x=\"70.917991\" xlink:href=\"#ma3fc85625c\" y=\"204.722747\"/>\n     <use style=\"fill:#008fd5;stroke:#008fd5;stroke-width:0.5;\" x=\"105.07709\" xlink:href=\"#ma3fc85625c\" y=\"187.975434\"/>\n     <use style=\"fill:#008fd5;stroke:#008fd5;stroke-width:0.5;\" x=\"323.483364\" xlink:href=\"#ma3fc85625c\" y=\"63.970128\"/>\n     <use style=\"fill:#008fd5;stroke:#008fd5;stroke-width:0.5;\" x=\"278.694614\" xlink:href=\"#ma3fc85625c\" y=\"60.561153\"/>\n     <use style=\"fill:#008fd5;stroke:#008fd5;stroke-width:0.5;\" x=\"342.080707\" xlink:href=\"#ma3fc85625c\" y=\"28.881385\"/>\n     <use style=\"fill:#008fd5;stroke:#008fd5;stroke-width:0.5;\" x=\"178.134723\" xlink:href=\"#ma3fc85625c\" y=\"213.101827\"/>\n     <use style=\"fill:#008fd5;stroke:#008fd5;stroke-width:0.5;\" x=\"216.265685\" xlink:href=\"#ma3fc85625c\" y=\"228.728475\"/>\n     <use style=\"fill:#008fd5;stroke:#008fd5;stroke-width:0.5;\" x=\"197.285782\" xlink:href=\"#ma3fc85625c\" y=\"210.33229\"/>\n     <use style=\"fill:#008fd5;stroke:#008fd5;stroke-width:0.5;\" x=\"341.341044\" xlink:href=\"#ma3fc85625c\" y=\"22.710129\"/>\n     <use style=\"fill:#008fd5;stroke:#008fd5;stroke-width:0.5;\" x=\"322.072902\" xlink:href=\"#ma3fc85625c\" y=\"47.34089\"/>\n     <use style=\"fill:#008fd5;stroke:#008fd5;stroke-width:0.5;\" x=\"201.186933\" xlink:href=\"#ma3fc85625c\" y=\"177.00762\"/>\n     <use style=\"fill:#008fd5;stroke:#008fd5;stroke-width:0.5;\" x=\"68.869818\" xlink:href=\"#ma3fc85625c\" y=\"198.586569\"/>\n     <use style=\"fill:#008fd5;stroke:#008fd5;stroke-width:0.5;\" x=\"296.57838\" xlink:href=\"#ma3fc85625c\" y=\"146.112412\"/>\n     <use style=\"fill:#008fd5;stroke:#008fd5;stroke-width:0.5;\" x=\"341.409767\" xlink:href=\"#ma3fc85625c\" y=\"50.383412\"/>\n     <use style=\"fill:#008fd5;stroke:#008fd5;stroke-width:0.5;\" x=\"138.571261\" xlink:href=\"#ma3fc85625c\" y=\"192.298447\"/>\n     <use style=\"fill:#008fd5;stroke:#008fd5;stroke-width:0.5;\" x=\"94.140707\" xlink:href=\"#ma3fc85625c\" y=\"202.493456\"/>\n     <use style=\"fill:#008fd5;stroke:#008fd5;stroke-width:0.5;\" x=\"337.720072\" xlink:href=\"#ma3fc85625c\" y=\"34.325539\"/>\n     <use style=\"fill:#008fd5;stroke:#008fd5;stroke-width:0.5;\" x=\"136.741429\" xlink:href=\"#ma3fc85625c\" y=\"187.308642\"/>\n     <use style=\"fill:#008fd5;stroke:#008fd5;stroke-width:0.5;\" x=\"226.305709\" xlink:href=\"#ma3fc85625c\" y=\"178.767996\"/>\n     <use style=\"fill:#008fd5;stroke:#008fd5;stroke-width:0.5;\" x=\"188.738567\" xlink:href=\"#ma3fc85625c\" y=\"204.471282\"/>\n     <use style=\"fill:#008fd5;stroke:#008fd5;stroke-width:0.5;\" x=\"221.822467\" xlink:href=\"#ma3fc85625c\" y=\"225.785252\"/>\n     <use style=\"fill:#008fd5;stroke:#008fd5;stroke-width:0.5;\" x=\"137.284721\" xlink:href=\"#ma3fc85625c\" y=\"204.693591\"/>\n     <use style=\"fill:#008fd5;stroke:#008fd5;stroke-width:0.5;\" x=\"272.892225\" xlink:href=\"#ma3fc85625c\" y=\"66.327458\"/>\n     <use style=\"fill:#008fd5;stroke:#008fd5;stroke-width:0.5;\" x=\"260.178456\" xlink:href=\"#ma3fc85625c\" y=\"164.090721\"/>\n     <use style=\"fill:#008fd5;stroke:#008fd5;stroke-width:0.5;\" x=\"98.733614\" xlink:href=\"#ma3fc85625c\" y=\"192.876967\"/>\n     <use style=\"fill:#008fd5;stroke:#008fd5;stroke-width:0.5;\" x=\"245.519237\" xlink:href=\"#ma3fc85625c\" y=\"137.471459\"/>\n     <use style=\"fill:#008fd5;stroke:#008fd5;stroke-width:0.5;\" x=\"254.526663\" xlink:href=\"#ma3fc85625c\" y=\"124.737714\"/>\n     <use style=\"fill:#008fd5;stroke:#008fd5;stroke-width:0.5;\" x=\"201.273902\" xlink:href=\"#ma3fc85625c\" y=\"194.465991\"/>\n     <use style=\"fill:#008fd5;stroke:#008fd5;stroke-width:0.5;\" x=\"324.124101\" xlink:href=\"#ma3fc85625c\" y=\"33.208161\"/>\n     <use style=\"fill:#008fd5;stroke:#008fd5;stroke-width:0.5;\" x=\"198.550005\" xlink:href=\"#ma3fc85625c\" y=\"183.275366\"/>\n     <use style=\"fill:#008fd5;stroke:#008fd5;stroke-width:0.5;\" x=\"215.253234\" xlink:href=\"#ma3fc85625c\" y=\"179.633296\"/>\n     <use style=\"fill:#008fd5;stroke:#008fd5;stroke-width:0.5;\" x=\"233.711491\" xlink:href=\"#ma3fc85625c\" y=\"201.215657\"/>\n     <use style=\"fill:#008fd5;stroke:#008fd5;stroke-width:0.5;\" x=\"341.868634\" xlink:href=\"#ma3fc85625c\" y=\"19.412677\"/>\n     <use style=\"fill:#008fd5;stroke:#008fd5;stroke-width:0.5;\" x=\"269.428064\" xlink:href=\"#ma3fc85625c\" y=\"173.105699\"/>\n     <use style=\"fill:#008fd5;stroke:#008fd5;stroke-width:0.5;\" x=\"158.245979\" xlink:href=\"#ma3fc85625c\" y=\"194.639156\"/>\n     <use style=\"fill:#008fd5;stroke:#008fd5;stroke-width:0.5;\" x=\"176.3554\" xlink:href=\"#ma3fc85625c\" y=\"170.856434\"/>\n     <use style=\"fill:#008fd5;stroke:#008fd5;stroke-width:0.5;\" x=\"215.502716\" xlink:href=\"#ma3fc85625c\" y=\"170.399661\"/>\n     <use style=\"fill:#008fd5;stroke:#008fd5;stroke-width:0.5;\" x=\"243.526449\" xlink:href=\"#ma3fc85625c\" y=\"131.082052\"/>\n     <use style=\"fill:#008fd5;stroke:#008fd5;stroke-width:0.5;\" x=\"314.666346\" xlink:href=\"#ma3fc85625c\" y=\"30.522754\"/>\n     <use style=\"fill:#008fd5;stroke:#008fd5;stroke-width:0.5;\" x=\"75.329092\" xlink:href=\"#ma3fc85625c\" y=\"201.544514\"/>\n     <use style=\"fill:#008fd5;stroke:#008fd5;stroke-width:0.5;\" x=\"139.943944\" xlink:href=\"#ma3fc85625c\" y=\"161.723039\"/>\n     <use style=\"fill:#008fd5;stroke:#008fd5;stroke-width:0.5;\" x=\"69.693917\" xlink:href=\"#ma3fc85625c\" y=\"197.84828\"/>\n     <use style=\"fill:#008fd5;stroke:#008fd5;stroke-width:0.5;\" x=\"319.028773\" xlink:href=\"#ma3fc85625c\" y=\"35.986732\"/>\n     <use style=\"fill:#008fd5;stroke:#008fd5;stroke-width:0.5;\" x=\"248.814184\" xlink:href=\"#ma3fc85625c\" y=\"119.325173\"/>\n     <use style=\"fill:#008fd5;stroke:#008fd5;stroke-width:0.5;\" x=\"319.989584\" xlink:href=\"#ma3fc85625c\" y=\"41.547122\"/>\n     <use style=\"fill:#008fd5;stroke:#008fd5;stroke-width:0.5;\" x=\"260.887905\" xlink:href=\"#ma3fc85625c\" y=\"117.574552\"/>\n     <use style=\"fill:#008fd5;stroke:#008fd5;stroke-width:0.5;\" x=\"393.190893\" xlink:href=\"#ma3fc85625c\" y=\"41.484558\"/>\n     <use style=\"fill:#008fd5;stroke:#008fd5;stroke-width:0.5;\" x=\"92.843338\" xlink:href=\"#ma3fc85625c\" y=\"200.813124\"/>\n     <use style=\"fill:#008fd5;stroke:#008fd5;stroke-width:0.5;\" x=\"288.389675\" xlink:href=\"#ma3fc85625c\" y=\"140.024561\"/>\n     <use style=\"fill:#008fd5;stroke:#008fd5;stroke-width:0.5;\" x=\"310.563453\" xlink:href=\"#ma3fc85625c\" y=\"140.017418\"/>\n     <use style=\"fill:#008fd5;stroke:#008fd5;stroke-width:0.5;\" x=\"194.71487\" xlink:href=\"#ma3fc85625c\" y=\"187.23978\"/>\n     <use style=\"fill:#008fd5;stroke:#008fd5;stroke-width:0.5;\" x=\"259.525392\" xlink:href=\"#ma3fc85625c\" y=\"119.276099\"/>\n     <use style=\"fill:#008fd5;stroke:#008fd5;stroke-width:0.5;\" x=\"109.290512\" xlink:href=\"#ma3fc85625c\" y=\"192.677318\"/>\n     <use style=\"fill:#008fd5;stroke:#008fd5;stroke-width:0.5;\" x=\"156.436808\" xlink:href=\"#ma3fc85625c\" y=\"201.997796\"/>\n     <use style=\"fill:#008fd5;stroke:#008fd5;stroke-width:0.5;\" x=\"189.773335\" xlink:href=\"#ma3fc85625c\" y=\"215.043479\"/>\n     <use style=\"fill:#008fd5;stroke:#008fd5;stroke-width:0.5;\" x=\"78.03569\" xlink:href=\"#ma3fc85625c\" y=\"218.076195\"/>\n     <use style=\"fill:#008fd5;stroke:#008fd5;stroke-width:0.5;\" x=\"285.71116\" xlink:href=\"#ma3fc85625c\" y=\"142.609705\"/>\n     <use style=\"fill:#008fd5;stroke:#008fd5;stroke-width:0.5;\" x=\"196.503713\" xlink:href=\"#ma3fc85625c\" y=\"199.527698\"/>\n     <use style=\"fill:#008fd5;stroke:#008fd5;stroke-width:0.5;\" x=\"66.644808\" xlink:href=\"#ma3fc85625c\" y=\"202.224112\"/>\n     <use style=\"fill:#008fd5;stroke:#008fd5;stroke-width:0.5;\" x=\"132.84404\" xlink:href=\"#ma3fc85625c\" y=\"183.783178\"/>\n     <use style=\"fill:#008fd5;stroke:#008fd5;stroke-width:0.5;\" x=\"325.182362\" xlink:href=\"#ma3fc85625c\" y=\"62.759603\"/>\n     <use style=\"fill:#008fd5;stroke:#008fd5;stroke-width:0.5;\" x=\"106.976612\" xlink:href=\"#ma3fc85625c\" y=\"192.355025\"/>\n     <use style=\"fill:#008fd5;stroke:#008fd5;stroke-width:0.5;\" x=\"91.907927\" xlink:href=\"#ma3fc85625c\" y=\"218.978846\"/>\n     <use style=\"fill:#008fd5;stroke:#008fd5;stroke-width:0.5;\" x=\"371.348931\" xlink:href=\"#ma3fc85625c\" y=\"29.203366\"/>\n     <use style=\"fill:#008fd5;stroke:#008fd5;stroke-width:0.5;\" x=\"325.6657\" xlink:href=\"#ma3fc85625c\" y=\"23.551558\"/>\n     <use style=\"fill:#008fd5;stroke:#008fd5;stroke-width:0.5;\" x=\"84.776436\" xlink:href=\"#ma3fc85625c\" y=\"215.95225\"/>\n     <use style=\"fill:#008fd5;stroke:#008fd5;stroke-width:0.5;\" x=\"284.196861\" xlink:href=\"#ma3fc85625c\" y=\"143.687001\"/>\n     <use style=\"fill:#008fd5;stroke:#008fd5;stroke-width:0.5;\" x=\"164.505293\" xlink:href=\"#ma3fc85625c\" y=\"201.539615\"/>\n     <use style=\"fill:#008fd5;stroke:#008fd5;stroke-width:0.5;\" x=\"203.9361\" xlink:href=\"#ma3fc85625c\" y=\"197.773237\"/>\n     <use style=\"fill:#008fd5;stroke:#008fd5;stroke-width:0.5;\" x=\"335.240305\" xlink:href=\"#ma3fc85625c\" y=\"47.430407\"/>\n     <use style=\"fill:#008fd5;stroke:#008fd5;stroke-width:0.5;\" x=\"204.620716\" xlink:href=\"#ma3fc85625c\" y=\"119.754507\"/>\n     <use style=\"fill:#008fd5;stroke:#008fd5;stroke-width:0.5;\" x=\"301.323684\" xlink:href=\"#ma3fc85625c\" y=\"145.394264\"/>\n     <use style=\"fill:#008fd5;stroke:#008fd5;stroke-width:0.5;\" x=\"381.23931\" xlink:href=\"#ma3fc85625c\" y=\"40.372426\"/>\n     <use style=\"fill:#008fd5;stroke:#008fd5;stroke-width:0.5;\" x=\"62.521877\" xlink:href=\"#ma3fc85625c\" y=\"213.691357\"/>\n     <use style=\"fill:#008fd5;stroke:#008fd5;stroke-width:0.5;\" x=\"119.026648\" xlink:href=\"#ma3fc85625c\" y=\"189.446928\"/>\n     <use style=\"fill:#008fd5;stroke:#008fd5;stroke-width:0.5;\" x=\"361.231827\" xlink:href=\"#ma3fc85625c\" y=\"25.75523\"/>\n     <use style=\"fill:#008fd5;stroke:#008fd5;stroke-width:0.5;\" x=\"319.68451\" xlink:href=\"#ma3fc85625c\" y=\"60.517619\"/>\n     <use style=\"fill:#008fd5;stroke:#008fd5;stroke-width:0.5;\" x=\"279.343175\" xlink:href=\"#ma3fc85625c\" y=\"60.686443\"/>\n     <use style=\"fill:#008fd5;stroke:#008fd5;stroke-width:0.5;\" x=\"143.761694\" xlink:href=\"#ma3fc85625c\" y=\"204.356974\"/>\n     <use style=\"fill:#008fd5;stroke:#008fd5;stroke-width:0.5;\" x=\"141.399383\" xlink:href=\"#ma3fc85625c\" y=\"163.819948\"/>\n     <use style=\"fill:#008fd5;stroke:#008fd5;stroke-width:0.5;\" x=\"276.125256\" xlink:href=\"#ma3fc85625c\" y=\"64.485599\"/>\n     <use style=\"fill:#008fd5;stroke:#008fd5;stroke-width:0.5;\" x=\"394.593403\" xlink:href=\"#ma3fc85625c\" y=\"30.96203\"/>\n     <use style=\"fill:#008fd5;stroke:#008fd5;stroke-width:0.5;\" x=\"234.41384\" xlink:href=\"#ma3fc85625c\" y=\"165.439013\"/>\n     <use style=\"fill:#008fd5;stroke:#008fd5;stroke-width:0.5;\" x=\"187.164413\" xlink:href=\"#ma3fc85625c\" y=\"203.105942\"/>\n     <use style=\"fill:#008fd5;stroke:#008fd5;stroke-width:0.5;\" x=\"222.866562\" xlink:href=\"#ma3fc85625c\" y=\"162.282839\"/>\n     <use style=\"fill:#008fd5;stroke:#008fd5;stroke-width:0.5;\" x=\"152.407859\" xlink:href=\"#ma3fc85625c\" y=\"180.70311\"/>\n     <use style=\"fill:#008fd5;stroke:#008fd5;stroke-width:0.5;\" x=\"172.735609\" xlink:href=\"#ma3fc85625c\" y=\"161.190315\"/>\n     <use style=\"fill:#008fd5;stroke:#008fd5;stroke-width:0.5;\" x=\"323.851334\" xlink:href=\"#ma3fc85625c\" y=\"60.520691\"/>\n     <use style=\"fill:#008fd5;stroke:#008fd5;stroke-width:0.5;\" x=\"385.394377\" xlink:href=\"#ma3fc85625c\" y=\"39.334913\"/>\n     <use style=\"fill:#008fd5;stroke:#008fd5;stroke-width:0.5;\" x=\"192.690573\" xlink:href=\"#ma3fc85625c\" y=\"217.846237\"/>\n     <use style=\"fill:#008fd5;stroke:#008fd5;stroke-width:0.5;\" x=\"220.200519\" xlink:href=\"#ma3fc85625c\" y=\"183.420867\"/>\n     <use style=\"fill:#008fd5;stroke:#008fd5;stroke-width:0.5;\" x=\"249.092015\" xlink:href=\"#ma3fc85625c\" y=\"136.145922\"/>\n     <use style=\"fill:#008fd5;stroke:#008fd5;stroke-width:0.5;\" x=\"299.035216\" xlink:href=\"#ma3fc85625c\" y=\"147.394239\"/>\n     <use style=\"fill:#008fd5;stroke:#008fd5;stroke-width:0.5;\" x=\"71.14802\" xlink:href=\"#ma3fc85625c\" y=\"197.115524\"/>\n     <use style=\"fill:#008fd5;stroke:#008fd5;stroke-width:0.5;\" x=\"218.687003\" xlink:href=\"#ma3fc85625c\" y=\"229.876364\"/>\n     <use style=\"fill:#008fd5;stroke:#008fd5;stroke-width:0.5;\" x=\"192.961374\" xlink:href=\"#ma3fc85625c\" y=\"219.067725\"/>\n     <use style=\"fill:#008fd5;stroke:#008fd5;stroke-width:0.5;\" x=\"232.142374\" xlink:href=\"#ma3fc85625c\" y=\"166.359915\"/>\n     <use style=\"fill:#008fd5;stroke:#008fd5;stroke-width:0.5;\" x=\"282.516631\" xlink:href=\"#ma3fc85625c\" y=\"143.832872\"/>\n     <use style=\"fill:#008fd5;stroke:#008fd5;stroke-width:0.5;\" x=\"89.574697\" xlink:href=\"#ma3fc85625c\" y=\"216.251122\"/>\n     <use style=\"fill:#008fd5;stroke:#008fd5;stroke-width:0.5;\" x=\"195.776477\" xlink:href=\"#ma3fc85625c\" y=\"217.901388\"/>\n     <use style=\"fill:#008fd5;stroke:#008fd5;stroke-width:0.5;\" x=\"343.878426\" xlink:href=\"#ma3fc85625c\" y=\"21.513565\"/>\n     <use style=\"fill:#008fd5;stroke:#008fd5;stroke-width:0.5;\" x=\"188.358118\" xlink:href=\"#ma3fc85625c\" y=\"167.131642\"/>\n     <use style=\"fill:#008fd5;stroke:#008fd5;stroke-width:0.5;\" x=\"300.993828\" xlink:href=\"#ma3fc85625c\" y=\"146.201984\"/>\n     <use style=\"fill:#008fd5;stroke:#008fd5;stroke-width:0.5;\" x=\"87.617433\" xlink:href=\"#ma3fc85625c\" y=\"200.93257\"/>\n     <use style=\"fill:#008fd5;stroke:#008fd5;stroke-width:0.5;\" x=\"395.839501\" xlink:href=\"#ma3fc85625c\" y=\"33.324721\"/>\n     <use style=\"fill:#008fd5;stroke:#008fd5;stroke-width:0.5;\" x=\"271.439012\" xlink:href=\"#ma3fc85625c\" y=\"171.451848\"/>\n     <use style=\"fill:#008fd5;stroke:#008fd5;stroke-width:0.5;\" x=\"337.982246\" xlink:href=\"#ma3fc85625c\" y=\"17.803636\"/>\n     <use style=\"fill:#008fd5;stroke:#008fd5;stroke-width:0.5;\" x=\"311.038307\" xlink:href=\"#ma3fc85625c\" y=\"37.556191\"/>\n     <use style=\"fill:#008fd5;stroke:#008fd5;stroke-width:0.5;\" x=\"299.929831\" xlink:href=\"#ma3fc85625c\" y=\"148.624001\"/>\n     <use style=\"fill:#008fd5;stroke:#008fd5;stroke-width:0.5;\" x=\"357.267626\" xlink:href=\"#ma3fc85625c\" y=\"39.794553\"/>\n     <use style=\"fill:#008fd5;stroke:#008fd5;stroke-width:0.5;\" x=\"165.867124\" xlink:href=\"#ma3fc85625c\" y=\"175.039035\"/>\n     <use style=\"fill:#008fd5;stroke:#008fd5;stroke-width:0.5;\" x=\"238.222104\" xlink:href=\"#ma3fc85625c\" y=\"179.952674\"/>\n     <use style=\"fill:#008fd5;stroke:#008fd5;stroke-width:0.5;\" x=\"80.330163\" xlink:href=\"#ma3fc85625c\" y=\"206.483635\"/>\n     <use style=\"fill:#008fd5;stroke:#008fd5;stroke-width:0.5;\" x=\"57.330199\" xlink:href=\"#ma3fc85625c\" y=\"195.820586\"/>\n     <use style=\"fill:#008fd5;stroke:#008fd5;stroke-width:0.5;\" x=\"181.679416\" xlink:href=\"#ma3fc85625c\" y=\"192.1711\"/>\n     <use style=\"fill:#008fd5;stroke:#008fd5;stroke-width:0.5;\" x=\"118.387478\" xlink:href=\"#ma3fc85625c\" y=\"195.458705\"/>\n     <use style=\"fill:#008fd5;stroke:#008fd5;stroke-width:0.5;\" x=\"185.423125\" xlink:href=\"#ma3fc85625c\" y=\"212.866533\"/>\n     <use style=\"fill:#008fd5;stroke:#008fd5;stroke-width:0.5;\" x=\"388.469577\" xlink:href=\"#ma3fc85625c\" y=\"34.084498\"/>\n     <use style=\"fill:#008fd5;stroke:#008fd5;stroke-width:0.5;\" x=\"253.481519\" xlink:href=\"#ma3fc85625c\" y=\"126.9107\"/>\n     <use style=\"fill:#008fd5;stroke:#008fd5;stroke-width:0.5;\" x=\"137.052792\" xlink:href=\"#ma3fc85625c\" y=\"204.714594\"/>\n     <use style=\"fill:#008fd5;stroke:#008fd5;stroke-width:0.5;\" x=\"201.683319\" xlink:href=\"#ma3fc85625c\" y=\"177.728896\"/>\n     <use style=\"fill:#008fd5;stroke:#008fd5;stroke-width:0.5;\" x=\"264.244814\" xlink:href=\"#ma3fc85625c\" y=\"177.011219\"/>\n     <use style=\"fill:#008fd5;stroke:#008fd5;stroke-width:0.5;\" x=\"246.652254\" xlink:href=\"#ma3fc85625c\" y=\"132.592086\"/>\n     <use style=\"fill:#008fd5;stroke:#008fd5;stroke-width:0.5;\" x=\"223.757427\" xlink:href=\"#ma3fc85625c\" y=\"110.979937\"/>\n     <use style=\"fill:#008fd5;stroke:#008fd5;stroke-width:0.5;\" x=\"321.582394\" xlink:href=\"#ma3fc85625c\" y=\"38.565749\"/>\n     <use style=\"fill:#008fd5;stroke:#008fd5;stroke-width:0.5;\" x=\"115.509979\" xlink:href=\"#ma3fc85625c\" y=\"207.096857\"/>\n     <use style=\"fill:#008fd5;stroke:#008fd5;stroke-width:0.5;\" x=\"198.158472\" xlink:href=\"#ma3fc85625c\" y=\"118.227019\"/>\n     <use style=\"fill:#008fd5;stroke:#008fd5;stroke-width:0.5;\" x=\"186.306148\" xlink:href=\"#ma3fc85625c\" y=\"195.589723\"/>\n     <use style=\"fill:#008fd5;stroke:#008fd5;stroke-width:0.5;\" x=\"124.841107\" xlink:href=\"#ma3fc85625c\" y=\"195.737848\"/>\n     <use style=\"fill:#008fd5;stroke:#008fd5;stroke-width:0.5;\" x=\"112.043594\" xlink:href=\"#ma3fc85625c\" y=\"195.630569\"/>\n     <use style=\"fill:#008fd5;stroke:#008fd5;stroke-width:0.5;\" x=\"329.290331\" xlink:href=\"#ma3fc85625c\" y=\"36.796672\"/>\n     <use style=\"fill:#008fd5;stroke:#008fd5;stroke-width:0.5;\" x=\"327.510697\" xlink:href=\"#ma3fc85625c\" y=\"28.655364\"/>\n     <use style=\"fill:#008fd5;stroke:#008fd5;stroke-width:0.5;\" x=\"200.239399\" xlink:href=\"#ma3fc85625c\" y=\"201.86481\"/>\n     <use style=\"fill:#008fd5;stroke:#008fd5;stroke-width:0.5;\" x=\"154.468805\" xlink:href=\"#ma3fc85625c\" y=\"163.322953\"/>\n     <use style=\"fill:#008fd5;stroke:#008fd5;stroke-width:0.5;\" x=\"338.193697\" xlink:href=\"#ma3fc85625c\" y=\"31.078096\"/>\n     <use style=\"fill:#008fd5;stroke:#008fd5;stroke-width:0.5;\" x=\"317.366488\" xlink:href=\"#ma3fc85625c\" y=\"45.528675\"/>\n     <use style=\"fill:#008fd5;stroke:#008fd5;stroke-width:0.5;\" x=\"184.753119\" xlink:href=\"#ma3fc85625c\" y=\"177.017784\"/>\n     <use style=\"fill:#008fd5;stroke:#008fd5;stroke-width:0.5;\" x=\"147.136892\" xlink:href=\"#ma3fc85625c\" y=\"224.486697\"/>\n     <use style=\"fill:#008fd5;stroke:#008fd5;stroke-width:0.5;\" x=\"83.379937\" xlink:href=\"#ma3fc85625c\" y=\"212.252301\"/>\n     <use style=\"fill:#008fd5;stroke:#008fd5;stroke-width:0.5;\" x=\"397.375561\" xlink:href=\"#ma3fc85625c\" y=\"36.382757\"/>\n     <use style=\"fill:#008fd5;stroke:#008fd5;stroke-width:0.5;\" x=\"173.074546\" xlink:href=\"#ma3fc85625c\" y=\"192.337252\"/>\n     <use style=\"fill:#008fd5;stroke:#008fd5;stroke-width:0.5;\" x=\"66.042678\" xlink:href=\"#ma3fc85625c\" y=\"205.471955\"/>\n     <use style=\"fill:#008fd5;stroke:#008fd5;stroke-width:0.5;\" x=\"304.158552\" xlink:href=\"#ma3fc85625c\" y=\"36.199227\"/>\n     <use style=\"fill:#008fd5;stroke:#008fd5;stroke-width:0.5;\" x=\"263.7049\" xlink:href=\"#ma3fc85625c\" y=\"169.828856\"/>\n     <use style=\"fill:#008fd5;stroke:#008fd5;stroke-width:0.5;\" x=\"196.410269\" xlink:href=\"#ma3fc85625c\" y=\"216.198522\"/>\n     <use style=\"fill:#008fd5;stroke:#008fd5;stroke-width:0.5;\" x=\"396.656656\" xlink:href=\"#ma3fc85625c\" y=\"43.964115\"/>\n     <use style=\"fill:#008fd5;stroke:#008fd5;stroke-width:0.5;\" x=\"176.974854\" xlink:href=\"#ma3fc85625c\" y=\"175.20256\"/>\n     <use style=\"fill:#008fd5;stroke:#008fd5;stroke-width:0.5;\" x=\"381.617744\" xlink:href=\"#ma3fc85625c\" y=\"42.963967\"/>\n     <use style=\"fill:#008fd5;stroke:#008fd5;stroke-width:0.5;\" x=\"247.953612\" xlink:href=\"#ma3fc85625c\" y=\"134.792039\"/>\n     <use style=\"fill:#008fd5;stroke:#008fd5;stroke-width:0.5;\" x=\"181.43603\" xlink:href=\"#ma3fc85625c\" y=\"212.748187\"/>\n     <use style=\"fill:#008fd5;stroke:#008fd5;stroke-width:0.5;\" x=\"63.189693\" xlink:href=\"#ma3fc85625c\" y=\"214.331504\"/>\n     <use style=\"fill:#008fd5;stroke:#008fd5;stroke-width:0.5;\" x=\"180.377356\" xlink:href=\"#ma3fc85625c\" y=\"175.838676\"/>\n     <use style=\"fill:#008fd5;stroke:#008fd5;stroke-width:0.5;\" x=\"138.944897\" xlink:href=\"#ma3fc85625c\" y=\"195.054972\"/>\n     <use style=\"fill:#008fd5;stroke:#008fd5;stroke-width:0.5;\" x=\"207.300114\" xlink:href=\"#ma3fc85625c\" y=\"165.676876\"/>\n     <use style=\"fill:#008fd5;stroke:#008fd5;stroke-width:0.5;\" x=\"281.679384\" xlink:href=\"#ma3fc85625c\" y=\"187.579866\"/>\n     <use style=\"fill:#008fd5;stroke:#008fd5;stroke-width:0.5;\" x=\"209.83147\" xlink:href=\"#ma3fc85625c\" y=\"227.60526\"/>\n     <use style=\"fill:#008fd5;stroke:#008fd5;stroke-width:0.5;\" x=\"180.953234\" xlink:href=\"#ma3fc85625c\" y=\"168.275409\"/>\n     <use style=\"fill:#008fd5;stroke:#008fd5;stroke-width:0.5;\" x=\"70.613518\" xlink:href=\"#ma3fc85625c\" y=\"209.565601\"/>\n     <use style=\"fill:#008fd5;stroke:#008fd5;stroke-width:0.5;\" x=\"312.273779\" xlink:href=\"#ma3fc85625c\" y=\"42.324871\"/>\n     <use style=\"fill:#008fd5;stroke:#008fd5;stroke-width:0.5;\" x=\"274.829555\" xlink:href=\"#ma3fc85625c\" y=\"185.992807\"/>\n     <use style=\"fill:#008fd5;stroke:#008fd5;stroke-width:0.5;\" x=\"320.54838\" xlink:href=\"#ma3fc85625c\" y=\"44.971174\"/>\n     <use style=\"fill:#008fd5;stroke:#008fd5;stroke-width:0.5;\" x=\"205.910299\" xlink:href=\"#ma3fc85625c\" y=\"183.697408\"/>\n     <use style=\"fill:#008fd5;stroke:#008fd5;stroke-width:0.5;\" x=\"219.113518\" xlink:href=\"#ma3fc85625c\" y=\"226.609179\"/>\n     <use style=\"fill:#008fd5;stroke:#008fd5;stroke-width:0.5;\" x=\"96.147365\" xlink:href=\"#ma3fc85625c\" y=\"202.540426\"/>\n     <use style=\"fill:#008fd5;stroke:#008fd5;stroke-width:0.5;\" x=\"213.613093\" xlink:href=\"#ma3fc85625c\" y=\"122.483822\"/>\n     <use style=\"fill:#008fd5;stroke:#008fd5;stroke-width:0.5;\" x=\"393.426643\" xlink:href=\"#ma3fc85625c\" y=\"38.293834\"/>\n     <use style=\"fill:#008fd5;stroke:#008fd5;stroke-width:0.5;\" x=\"299.343\" xlink:href=\"#ma3fc85625c\" y=\"144.207605\"/>\n     <use style=\"fill:#008fd5;stroke:#008fd5;stroke-width:0.5;\" x=\"141.470875\" xlink:href=\"#ma3fc85625c\" y=\"190.129141\"/>\n     <use style=\"fill:#008fd5;stroke:#008fd5;stroke-width:0.5;\" x=\"295.65564\" xlink:href=\"#ma3fc85625c\" y=\"148.110764\"/>\n     <use style=\"fill:#008fd5;stroke:#008fd5;stroke-width:0.5;\" x=\"295.421822\" xlink:href=\"#ma3fc85625c\" y=\"149.45041\"/>\n     <use style=\"fill:#008fd5;stroke:#008fd5;stroke-width:0.5;\" x=\"313.739404\" xlink:href=\"#ma3fc85625c\" y=\"60.750754\"/>\n     <use style=\"fill:#008fd5;stroke:#008fd5;stroke-width:0.5;\" x=\"235.958494\" xlink:href=\"#ma3fc85625c\" y=\"198.535634\"/>\n     <use style=\"fill:#008fd5;stroke:#008fd5;stroke-width:0.5;\" x=\"169.389396\" xlink:href=\"#ma3fc85625c\" y=\"164.781475\"/>\n     <use style=\"fill:#008fd5;stroke:#008fd5;stroke-width:0.5;\" x=\"328.560285\" xlink:href=\"#ma3fc85625c\" y=\"56.73464\"/>\n     <use style=\"fill:#008fd5;stroke:#008fd5;stroke-width:0.5;\" x=\"122.497809\" xlink:href=\"#ma3fc85625c\" y=\"205.529964\"/>\n     <use style=\"fill:#008fd5;stroke:#008fd5;stroke-width:0.5;\" x=\"76.91169\" xlink:href=\"#ma3fc85625c\" y=\"200.021207\"/>\n     <use style=\"fill:#008fd5;stroke:#008fd5;stroke-width:0.5;\" x=\"261.934029\" xlink:href=\"#ma3fc85625c\" y=\"180.176944\"/>\n     <use style=\"fill:#008fd5;stroke:#008fd5;stroke-width:0.5;\" x=\"247.288341\" xlink:href=\"#ma3fc85625c\" y=\"118.649346\"/>\n     <use style=\"fill:#008fd5;stroke:#008fd5;stroke-width:0.5;\" x=\"63.288544\" xlink:href=\"#ma3fc85625c\" y=\"212.632679\"/>\n     <use style=\"fill:#008fd5;stroke:#008fd5;stroke-width:0.5;\" x=\"333.015306\" xlink:href=\"#ma3fc85625c\" y=\"35.483517\"/>\n     <use style=\"fill:#008fd5;stroke:#008fd5;stroke-width:0.5;\" x=\"327.841241\" xlink:href=\"#ma3fc85625c\" y=\"61.436188\"/>\n     <use style=\"fill:#008fd5;stroke:#008fd5;stroke-width:0.5;\" x=\"335.695855\" xlink:href=\"#ma3fc85625c\" y=\"46.37658\"/>\n     <use style=\"fill:#008fd5;stroke:#008fd5;stroke-width:0.5;\" x=\"201.371333\" xlink:href=\"#ma3fc85625c\" y=\"118.42294\"/>\n     <use style=\"fill:#008fd5;stroke:#008fd5;stroke-width:0.5;\" x=\"99.672932\" xlink:href=\"#ma3fc85625c\" y=\"182.118358\"/>\n     <use style=\"fill:#008fd5;stroke:#008fd5;stroke-width:0.5;\" x=\"324.44067\" xlink:href=\"#ma3fc85625c\" y=\"29.487585\"/>\n     <use style=\"fill:#008fd5;stroke:#008fd5;stroke-width:0.5;\" x=\"259.9965\" xlink:href=\"#ma3fc85625c\" y=\"164.718538\"/>\n     <use style=\"fill:#008fd5;stroke:#008fd5;stroke-width:0.5;\" x=\"188.145723\" xlink:href=\"#ma3fc85625c\" y=\"165.268245\"/>\n     <use style=\"fill:#008fd5;stroke:#008fd5;stroke-width:0.5;\" x=\"200.675928\" xlink:href=\"#ma3fc85625c\" y=\"122.611732\"/>\n     <use style=\"fill:#008fd5;stroke:#008fd5;stroke-width:0.5;\" x=\"212.895238\" xlink:href=\"#ma3fc85625c\" y=\"168.42266\"/>\n     <use style=\"fill:#008fd5;stroke:#008fd5;stroke-width:0.5;\" x=\"196.71112\" xlink:href=\"#ma3fc85625c\" y=\"119.713692\"/>\n     <use style=\"fill:#008fd5;stroke:#008fd5;stroke-width:0.5;\" x=\"140.844236\" xlink:href=\"#ma3fc85625c\" y=\"161.571237\"/>\n     <use style=\"fill:#008fd5;stroke:#008fd5;stroke-width:0.5;\" x=\"314.746854\" xlink:href=\"#ma3fc85625c\" y=\"49.937653\"/>\n     <use style=\"fill:#008fd5;stroke:#008fd5;stroke-width:0.5;\" x=\"125.600905\" xlink:href=\"#ma3fc85625c\" y=\"177.279197\"/>\n     <use style=\"fill:#008fd5;stroke:#008fd5;stroke-width:0.5;\" x=\"238.941315\" xlink:href=\"#ma3fc85625c\" y=\"176.752858\"/>\n     <use style=\"fill:#008fd5;stroke:#008fd5;stroke-width:0.5;\" x=\"320.110265\" xlink:href=\"#ma3fc85625c\" y=\"54.614527\"/>\n     <use style=\"fill:#008fd5;stroke:#008fd5;stroke-width:0.5;\" x=\"100.348508\" xlink:href=\"#ma3fc85625c\" y=\"187.38828\"/>\n     <use style=\"fill:#008fd5;stroke:#008fd5;stroke-width:0.5;\" x=\"115.471705\" xlink:href=\"#ma3fc85625c\" y=\"207.209624\"/>\n     <use style=\"fill:#008fd5;stroke:#008fd5;stroke-width:0.5;\" x=\"195.721371\" xlink:href=\"#ma3fc85625c\" y=\"121.187838\"/>\n     <use style=\"fill:#008fd5;stroke:#008fd5;stroke-width:0.5;\" x=\"82.954783\" xlink:href=\"#ma3fc85625c\" y=\"205.572354\"/>\n     <use style=\"fill:#008fd5;stroke:#008fd5;stroke-width:0.5;\" x=\"237.030464\" xlink:href=\"#ma3fc85625c\" y=\"142.421169\"/>\n     <use style=\"fill:#008fd5;stroke:#008fd5;stroke-width:0.5;\" x=\"155.095481\" xlink:href=\"#ma3fc85625c\" y=\"165.614152\"/>\n     <use style=\"fill:#008fd5;stroke:#008fd5;stroke-width:0.5;\" x=\"223.784402\" xlink:href=\"#ma3fc85625c\" y=\"185.599849\"/>\n     <use style=\"fill:#008fd5;stroke:#008fd5;stroke-width:0.5;\" x=\"326.137639\" xlink:href=\"#ma3fc85625c\" y=\"37.832165\"/>\n     <use style=\"fill:#008fd5;stroke:#008fd5;stroke-width:0.5;\" x=\"90.931431\" xlink:href=\"#ma3fc85625c\" y=\"192.447825\"/>\n     <use style=\"fill:#008fd5;stroke:#008fd5;stroke-width:0.5;\" x=\"218.30032\" xlink:href=\"#ma3fc85625c\" y=\"177.088804\"/>\n     <use style=\"fill:#008fd5;stroke:#008fd5;stroke-width:0.5;\" x=\"222.505097\" xlink:href=\"#ma3fc85625c\" y=\"228.456164\"/>\n     <use style=\"fill:#008fd5;stroke:#008fd5;stroke-width:0.5;\" x=\"275.954497\" xlink:href=\"#ma3fc85625c\" y=\"173.371719\"/>\n     <use style=\"fill:#008fd5;stroke:#008fd5;stroke-width:0.5;\" x=\"117.222146\" xlink:href=\"#ma3fc85625c\" y=\"185.584716\"/>\n     <use style=\"fill:#008fd5;stroke:#008fd5;stroke-width:0.5;\" x=\"327.101514\" xlink:href=\"#ma3fc85625c\" y=\"30.534727\"/>\n     <use style=\"fill:#008fd5;stroke:#008fd5;stroke-width:0.5;\" x=\"189.943176\" xlink:href=\"#ma3fc85625c\" y=\"190.288487\"/>\n     <use style=\"fill:#008fd5;stroke:#008fd5;stroke-width:0.5;\" x=\"309.75504\" xlink:href=\"#ma3fc85625c\" y=\"40.945562\"/>\n     <use style=\"fill:#008fd5;stroke:#008fd5;stroke-width:0.5;\" x=\"305.721289\" xlink:href=\"#ma3fc85625c\" y=\"138.925084\"/>\n     <use style=\"fill:#008fd5;stroke:#008fd5;stroke-width:0.5;\" x=\"204.278297\" xlink:href=\"#ma3fc85625c\" y=\"165.554856\"/>\n     <use style=\"fill:#008fd5;stroke:#008fd5;stroke-width:0.5;\" x=\"397.058992\" xlink:href=\"#ma3fc85625c\" y=\"38.871723\"/>\n     <use style=\"fill:#008fd5;stroke:#008fd5;stroke-width:0.5;\" x=\"152.77834\" xlink:href=\"#ma3fc85625c\" y=\"194.158667\"/>\n     <use style=\"fill:#008fd5;stroke:#008fd5;stroke-width:0.5;\" x=\"172.024271\" xlink:href=\"#ma3fc85625c\" y=\"172.164581\"/>\n     <use style=\"fill:#008fd5;stroke:#008fd5;stroke-width:0.5;\" x=\"279.073423\" xlink:href=\"#ma3fc85625c\" y=\"188.57197\"/>\n     <use style=\"fill:#008fd5;stroke:#008fd5;stroke-width:0.5;\" x=\"388.4563\" xlink:href=\"#ma3fc85625c\" y=\"44.795341\"/>\n     <use style=\"fill:#008fd5;stroke:#008fd5;stroke-width:0.5;\" x=\"218.431639\" xlink:href=\"#ma3fc85625c\" y=\"227.186058\"/>\n     <use style=\"fill:#008fd5;stroke:#008fd5;stroke-width:0.5;\" x=\"374.256976\" xlink:href=\"#ma3fc85625c\" y=\"30.33262\"/>\n     <use style=\"fill:#008fd5;stroke:#008fd5;stroke-width:0.5;\" x=\"341.858341\" xlink:href=\"#ma3fc85625c\" y=\"46.326215\"/>\n     <use style=\"fill:#008fd5;stroke:#008fd5;stroke-width:0.5;\" x=\"196.306549\" xlink:href=\"#ma3fc85625c\" y=\"192.8847\"/>\n     <use style=\"fill:#008fd5;stroke:#008fd5;stroke-width:0.5;\" x=\"183.342447\" xlink:href=\"#ma3fc85625c\" y=\"165.982163\"/>\n     <use style=\"fill:#008fd5;stroke:#008fd5;stroke-width:0.5;\" x=\"328.035797\" xlink:href=\"#ma3fc85625c\" y=\"48.614141\"/>\n     <use style=\"fill:#008fd5;stroke:#008fd5;stroke-width:0.5;\" x=\"113.084295\" xlink:href=\"#ma3fc85625c\" y=\"183.718387\"/>\n     <use style=\"fill:#008fd5;stroke:#008fd5;stroke-width:0.5;\" x=\"139.888422\" xlink:href=\"#ma3fc85625c\" y=\"183.027447\"/>\n     <use style=\"fill:#008fd5;stroke:#008fd5;stroke-width:0.5;\" x=\"219.838427\" xlink:href=\"#ma3fc85625c\" y=\"228.948239\"/>\n     <use style=\"fill:#008fd5;stroke:#008fd5;stroke-width:0.5;\" x=\"122.950644\" xlink:href=\"#ma3fc85625c\" y=\"196.400941\"/>\n     <use style=\"fill:#008fd5;stroke:#008fd5;stroke-width:0.5;\" x=\"251.428626\" xlink:href=\"#ma3fc85625c\" y=\"183.541482\"/>\n     <use style=\"fill:#008fd5;stroke:#008fd5;stroke-width:0.5;\" x=\"217.239144\" xlink:href=\"#ma3fc85625c\" y=\"173.47828\"/>\n     <use style=\"fill:#008fd5;stroke:#008fd5;stroke-width:0.5;\" x=\"195.386094\" xlink:href=\"#ma3fc85625c\" y=\"203.509704\"/>\n     <use style=\"fill:#008fd5;stroke:#008fd5;stroke-width:0.5;\" x=\"338.404567\" xlink:href=\"#ma3fc85625c\" y=\"22.085222\"/>\n     <use style=\"fill:#008fd5;stroke:#008fd5;stroke-width:0.5;\" x=\"147.902115\" xlink:href=\"#ma3fc85625c\" y=\"222.69614\"/>\n     <use style=\"fill:#008fd5;stroke:#008fd5;stroke-width:0.5;\" x=\"236.353171\" xlink:href=\"#ma3fc85625c\" y=\"142.951371\"/>\n     <use style=\"fill:#008fd5;stroke:#008fd5;stroke-width:0.5;\" x=\"150.470381\" xlink:href=\"#ma3fc85625c\" y=\"175.440963\"/>\n     <use style=\"fill:#008fd5;stroke:#008fd5;stroke-width:0.5;\" x=\"237.281438\" xlink:href=\"#ma3fc85625c\" y=\"173.280009\"/>\n     <use style=\"fill:#008fd5;stroke:#008fd5;stroke-width:0.5;\" x=\"303.842697\" xlink:href=\"#ma3fc85625c\" y=\"149.932299\"/>\n     <use style=\"fill:#008fd5;stroke:#008fd5;stroke-width:0.5;\" x=\"168.28508\" xlink:href=\"#ma3fc85625c\" y=\"205.724831\"/>\n     <use style=\"fill:#008fd5;stroke:#008fd5;stroke-width:0.5;\" x=\"321.795744\" xlink:href=\"#ma3fc85625c\" y=\"55.994532\"/>\n     <use style=\"fill:#008fd5;stroke:#008fd5;stroke-width:0.5;\" x=\"211.785598\" xlink:href=\"#ma3fc85625c\" y=\"175.212445\"/>\n     <use style=\"fill:#008fd5;stroke:#008fd5;stroke-width:0.5;\" x=\"110.114182\" xlink:href=\"#ma3fc85625c\" y=\"183.907005\"/>\n     <use style=\"fill:#008fd5;stroke:#008fd5;stroke-width:0.5;\" x=\"95.756299\" xlink:href=\"#ma3fc85625c\" y=\"218.645256\"/>\n     <use style=\"fill:#008fd5;stroke:#008fd5;stroke-width:0.5;\" x=\"281.188812\" xlink:href=\"#ma3fc85625c\" y=\"60.353516\"/>\n     <use style=\"fill:#008fd5;stroke:#008fd5;stroke-width:0.5;\" x=\"123.744594\" xlink:href=\"#ma3fc85625c\" y=\"193.499769\"/>\n     <use style=\"fill:#008fd5;stroke:#008fd5;stroke-width:0.5;\" x=\"312.888134\" xlink:href=\"#ma3fc85625c\" y=\"47.707173\"/>\n     <use style=\"fill:#008fd5;stroke:#008fd5;stroke-width:0.5;\" x=\"204.069718\" xlink:href=\"#ma3fc85625c\" y=\"188.216487\"/>\n     <use style=\"fill:#008fd5;stroke:#008fd5;stroke-width:0.5;\" x=\"393.340489\" xlink:href=\"#ma3fc85625c\" y=\"36.676984\"/>\n     <use style=\"fill:#008fd5;stroke:#008fd5;stroke-width:0.5;\" x=\"91.430879\" xlink:href=\"#ma3fc85625c\" y=\"187.369302\"/>\n     <use style=\"fill:#008fd5;stroke:#008fd5;stroke-width:0.5;\" x=\"256.275105\" xlink:href=\"#ma3fc85625c\" y=\"168.774094\"/>\n     <use style=\"fill:#008fd5;stroke:#008fd5;stroke-width:0.5;\" x=\"310.507819\" xlink:href=\"#ma3fc85625c\" y=\"52.104355\"/>\n     <use style=\"fill:#008fd5;stroke:#008fd5;stroke-width:0.5;\" x=\"92.597349\" xlink:href=\"#ma3fc85625c\" y=\"185.7133\"/>\n     <use style=\"fill:#008fd5;stroke:#008fd5;stroke-width:0.5;\" x=\"244.074023\" xlink:href=\"#ma3fc85625c\" y=\"135.911056\"/>\n     <use style=\"fill:#008fd5;stroke:#008fd5;stroke-width:0.5;\" x=\"130.858011\" xlink:href=\"#ma3fc85625c\" y=\"182.232207\"/>\n     <use style=\"fill:#008fd5;stroke:#008fd5;stroke-width:0.5;\" x=\"211.665278\" xlink:href=\"#ma3fc85625c\" y=\"160.512484\"/>\n     <use style=\"fill:#008fd5;stroke:#008fd5;stroke-width:0.5;\" x=\"96.428247\" xlink:href=\"#ma3fc85625c\" y=\"197.113301\"/>\n     <use style=\"fill:#008fd5;stroke:#008fd5;stroke-width:0.5;\" x=\"205.61975\" xlink:href=\"#ma3fc85625c\" y=\"183.863376\"/>\n     <use style=\"fill:#008fd5;stroke:#008fd5;stroke-width:0.5;\" x=\"121.500233\" xlink:href=\"#ma3fc85625c\" y=\"175.442724\"/>\n     <use style=\"fill:#008fd5;stroke:#008fd5;stroke-width:0.5;\" x=\"267.221746\" xlink:href=\"#ma3fc85625c\" y=\"180.122044\"/>\n     <use style=\"fill:#008fd5;stroke:#008fd5;stroke-width:0.5;\" x=\"219.163259\" xlink:href=\"#ma3fc85625c\" y=\"181.530806\"/>\n     <use style=\"fill:#008fd5;stroke:#008fd5;stroke-width:0.5;\" x=\"316.703496\" xlink:href=\"#ma3fc85625c\" y=\"48.977611\"/>\n     <use style=\"fill:#008fd5;stroke:#008fd5;stroke-width:0.5;\" x=\"210.989426\" xlink:href=\"#ma3fc85625c\" y=\"118.440816\"/>\n     <use style=\"fill:#008fd5;stroke:#008fd5;stroke-width:0.5;\" x=\"145.801871\" xlink:href=\"#ma3fc85625c\" y=\"222.916583\"/>\n     <use style=\"fill:#008fd5;stroke:#008fd5;stroke-width:0.5;\" x=\"316.935232\" xlink:href=\"#ma3fc85625c\" y=\"38.922307\"/>\n     <use style=\"fill:#008fd5;stroke:#008fd5;stroke-width:0.5;\" x=\"92.735053\" xlink:href=\"#ma3fc85625c\" y=\"192.741725\"/>\n     <use style=\"fill:#008fd5;stroke:#008fd5;stroke-width:0.5;\" x=\"334.58262\" xlink:href=\"#ma3fc85625c\" y=\"22.914678\"/>\n     <use style=\"fill:#008fd5;stroke:#008fd5;stroke-width:0.5;\" x=\"143.731143\" xlink:href=\"#ma3fc85625c\" y=\"163.197368\"/>\n     <use style=\"fill:#008fd5;stroke:#008fd5;stroke-width:0.5;\" x=\"351.251419\" xlink:href=\"#ma3fc85625c\" y=\"30.980802\"/>\n     <use style=\"fill:#008fd5;stroke:#008fd5;stroke-width:0.5;\" x=\"101.641938\" xlink:href=\"#ma3fc85625c\" y=\"198.700004\"/>\n     <use style=\"fill:#008fd5;stroke:#008fd5;stroke-width:0.5;\" x=\"209.324993\" xlink:href=\"#ma3fc85625c\" y=\"229.607424\"/>\n     <use style=\"fill:#008fd5;stroke:#008fd5;stroke-width:0.5;\" x=\"218.302142\" xlink:href=\"#ma3fc85625c\" y=\"185.753564\"/>\n     <use style=\"fill:#008fd5;stroke:#008fd5;stroke-width:0.5;\" x=\"256.627914\" xlink:href=\"#ma3fc85625c\" y=\"120.559973\"/>\n     <use style=\"fill:#008fd5;stroke:#008fd5;stroke-width:0.5;\" x=\"295.59144\" xlink:href=\"#ma3fc85625c\" y=\"150.853398\"/>\n     <use style=\"fill:#008fd5;stroke:#008fd5;stroke-width:0.5;\" x=\"254.34639\" xlink:href=\"#ma3fc85625c\" y=\"123.060662\"/>\n     <use style=\"fill:#008fd5;stroke:#008fd5;stroke-width:0.5;\" x=\"309.324653\" xlink:href=\"#ma3fc85625c\" y=\"49.312171\"/>\n     <use style=\"fill:#008fd5;stroke:#008fd5;stroke-width:0.5;\" x=\"187.326886\" xlink:href=\"#ma3fc85625c\" y=\"208.34041\"/>\n     <use style=\"fill:#008fd5;stroke:#008fd5;stroke-width:0.5;\" x=\"280.372827\" xlink:href=\"#ma3fc85625c\" y=\"62.76109\"/>\n     <use style=\"fill:#008fd5;stroke:#008fd5;stroke-width:0.5;\" x=\"189.622601\" xlink:href=\"#ma3fc85625c\" y=\"184.79404\"/>\n     <use style=\"fill:#008fd5;stroke:#008fd5;stroke-width:0.5;\" x=\"305.783256\" xlink:href=\"#ma3fc85625c\" y=\"41.701896\"/>\n     <use style=\"fill:#008fd5;stroke:#008fd5;stroke-width:0.5;\" x=\"150.375528\" xlink:href=\"#ma3fc85625c\" y=\"176.341846\"/>\n     <use style=\"fill:#008fd5;stroke:#008fd5;stroke-width:0.5;\" x=\"237.489232\" xlink:href=\"#ma3fc85625c\" y=\"184.255634\"/>\n     <use style=\"fill:#008fd5;stroke:#008fd5;stroke-width:0.5;\" x=\"385.718791\" xlink:href=\"#ma3fc85625c\" y=\"41.874164\"/>\n     <use style=\"fill:#008fd5;stroke:#008fd5;stroke-width:0.5;\" x=\"283.588151\" xlink:href=\"#ma3fc85625c\" y=\"143.794119\"/>\n     <use style=\"fill:#008fd5;stroke:#008fd5;stroke-width:0.5;\" x=\"256.207433\" xlink:href=\"#ma3fc85625c\" y=\"168.811161\"/>\n     <use style=\"fill:#008fd5;stroke:#008fd5;stroke-width:0.5;\" x=\"278.197178\" xlink:href=\"#ma3fc85625c\" y=\"180.894253\"/>\n     <use style=\"fill:#008fd5;stroke:#008fd5;stroke-width:0.5;\" x=\"93.979283\" xlink:href=\"#ma3fc85625c\" y=\"187.766488\"/>\n     <use style=\"fill:#008fd5;stroke:#008fd5;stroke-width:0.5;\" x=\"162.993843\" xlink:href=\"#ma3fc85625c\" y=\"169.44335\"/>\n     <use style=\"fill:#008fd5;stroke:#008fd5;stroke-width:0.5;\" x=\"277.144692\" xlink:href=\"#ma3fc85625c\" y=\"174.434459\"/>\n     <use style=\"fill:#008fd5;stroke:#008fd5;stroke-width:0.5;\" x=\"170.933328\" xlink:href=\"#ma3fc85625c\" y=\"178.689948\"/>\n     <use style=\"fill:#008fd5;stroke:#008fd5;stroke-width:0.5;\" x=\"78.309756\" xlink:href=\"#ma3fc85625c\" y=\"210.891024\"/>\n     <use style=\"fill:#008fd5;stroke:#008fd5;stroke-width:0.5;\" x=\"398.315984\" xlink:href=\"#ma3fc85625c\" y=\"40.245899\"/>\n     <use style=\"fill:#008fd5;stroke:#008fd5;stroke-width:0.5;\" x=\"279.707404\" xlink:href=\"#ma3fc85625c\" y=\"192.381133\"/>\n    </g>\n   </g>\n   <g id=\"patch_3\">\n    <path d=\"M 40.246563 240.48 \nL 40.246563 7.2 \n\" style=\"fill:none;stroke:#f0f0f0;stroke-linecap:square;stroke-linejoin:miter;stroke-width:3;\"/>\n   </g>\n   <g id=\"patch_4\">\n    <path d=\"M 416.086562 240.48 \nL 416.086562 7.2 \n\" style=\"fill:none;stroke:#f0f0f0;stroke-linecap:square;stroke-linejoin:miter;stroke-width:3;\"/>\n   </g>\n   <g id=\"patch_5\">\n    <path d=\"M 40.246563 240.48 \nL 416.086562 240.48 \n\" style=\"fill:none;stroke:#f0f0f0;stroke-linecap:square;stroke-linejoin:miter;stroke-width:3;\"/>\n   </g>\n   <g id=\"patch_6\">\n    <path d=\"M 40.246563 7.2 \nL 416.086562 7.2 \n\" style=\"fill:none;stroke:#f0f0f0;stroke-linecap:square;stroke-linejoin:miter;stroke-width:3;\"/>\n   </g>\n  </g>\n </g>\n <defs>\n  <clipPath id=\"p8464313f58\">\n   <rect height=\"233.28\" width=\"375.84\" x=\"40.246563\" y=\"7.2\"/>\n  </clipPath>\n </defs>\n</svg>\n"
          },
          "metadata": {}
        }
      ]
    },
    {
      "cell_type": "markdown",
      "source": [
        "Задание 2. "
      ],
      "metadata": {
        "id": "EoTsLtl9UW6M"
      },
      "id": "EoTsLtl9UW6M"
    },
    {
      "cell_type": "code",
      "source": [
        "from sklearn.cluster import KMeans\n",
        "kmeans = KMeans(n_clusters=3, max_iter=100, random_state=42)\n",
        "labels_train = kmeans.fit_predict(X_train_scaled)"
      ],
      "metadata": {
        "id": "WvwE8jN2UY2c"
      },
      "id": "WvwE8jN2UY2c",
      "execution_count": 41,
      "outputs": []
    },
    {
      "cell_type": "code",
      "source": [
        "plt.scatter(X_train_tsne[:, 0], X_train_tsne[:, 1], c=labels_train)\n",
        "plt.show()\n"
      ],
      "metadata": {
        "id": "7l_2snKMWpEd",
        "colab": {
          "base_uri": "https://localhost:8080/",
          "height": 374
        },
        "outputId": "8dd408c2-5274-4535-b09a-76ec20875d2b"
      },
      "id": "7l_2snKMWpEd",
      "execution_count": 42,
      "outputs": [
        {
          "output_type": "display_data",
          "data": {
            "text/plain": [
              "<Figure size 432x288 with 1 Axes>"
            ],
            "image/svg+xml": "<?xml version=\"1.0\" encoding=\"utf-8\" standalone=\"no\"?>\n<!DOCTYPE svg PUBLIC \"-//W3C//DTD SVG 1.1//EN\"\n  \"http://www.w3.org/Graphics/SVG/1.1/DTD/svg11.dtd\">\n<!-- Created with matplotlib (https://matplotlib.org/) -->\n<svg height=\"264.729375pt\" version=\"1.1\" viewBox=\"0 0 423.286562 264.729375\" width=\"423.286562pt\" xmlns=\"http://www.w3.org/2000/svg\" xmlns:xlink=\"http://www.w3.org/1999/xlink\">\n <defs>\n  <style type=\"text/css\">\n*{stroke-linecap:butt;stroke-linejoin:round;}\n  </style>\n </defs>\n <g id=\"figure_1\">\n  <g id=\"patch_1\">\n   <path d=\"M 0 264.729375 \nL 423.286562 264.729375 \nL 423.286562 0 \nL 0 0 \nz\n\" style=\"fill:#f0f0f0;\"/>\n  </g>\n  <g id=\"axes_1\">\n   <g id=\"patch_2\">\n    <path d=\"M 40.246563 240.48 \nL 416.086562 240.48 \nL 416.086562 7.2 \nL 40.246563 7.2 \nz\n\" style=\"fill:#f0f0f0;\"/>\n   </g>\n   <g id=\"matplotlib.axis_1\">\n    <g id=\"xtick_1\">\n     <g id=\"line2d_1\">\n      <path clip-path=\"url(#pa5c0957ffd)\" d=\"M 62.572558 240.48 \nL 62.572558 7.2 \n\" style=\"fill:none;stroke:#cbcbcb;\"/>\n     </g>\n     <g id=\"line2d_2\"/>\n     <g id=\"text_1\">\n      <!-- −30 -->\n      <defs>\n       <path d=\"M 10.59375 35.5 \nL 73.1875 35.5 \nL 73.1875 27.203125 \nL 10.59375 27.203125 \nz\n\" id=\"DejaVuSans-8722\"/>\n       <path d=\"M 40.578125 39.3125 \nQ 47.65625 37.796875 51.625 33 \nQ 55.609375 28.21875 55.609375 21.1875 \nQ 55.609375 10.40625 48.1875 4.484375 \nQ 40.765625 -1.421875 27.09375 -1.421875 \nQ 22.515625 -1.421875 17.65625 -0.515625 \nQ 12.796875 0.390625 7.625 2.203125 \nL 7.625 11.71875 \nQ 11.71875 9.328125 16.59375 8.109375 \nQ 21.484375 6.890625 26.8125 6.890625 \nQ 36.078125 6.890625 40.9375 10.546875 \nQ 45.796875 14.203125 45.796875 21.1875 \nQ 45.796875 27.640625 41.28125 31.265625 \nQ 36.765625 34.90625 28.71875 34.90625 \nL 20.21875 34.90625 \nL 20.21875 43.015625 \nL 29.109375 43.015625 \nQ 36.375 43.015625 40.234375 45.921875 \nQ 44.09375 48.828125 44.09375 54.296875 \nQ 44.09375 59.90625 40.109375 62.90625 \nQ 36.140625 65.921875 28.71875 65.921875 \nQ 24.65625 65.921875 20.015625 65.03125 \nQ 15.375 64.15625 9.8125 62.3125 \nL 9.8125 71.09375 \nQ 15.4375 72.65625 20.34375 73.4375 \nQ 25.25 74.21875 29.59375 74.21875 \nQ 40.828125 74.21875 47.359375 69.109375 \nQ 53.90625 64.015625 53.90625 55.328125 \nQ 53.90625 49.265625 50.4375 45.09375 \nQ 46.96875 40.921875 40.578125 39.3125 \nz\n\" id=\"DejaVuSans-51\"/>\n       <path d=\"M 31.78125 66.40625 \nQ 24.171875 66.40625 20.328125 58.90625 \nQ 16.5 51.421875 16.5 36.375 \nQ 16.5 21.390625 20.328125 13.890625 \nQ 24.171875 6.390625 31.78125 6.390625 \nQ 39.453125 6.390625 43.28125 13.890625 \nQ 47.125 21.390625 47.125 36.375 \nQ 47.125 51.421875 43.28125 58.90625 \nQ 39.453125 66.40625 31.78125 66.40625 \nz\nM 31.78125 74.21875 \nQ 44.046875 74.21875 50.515625 64.515625 \nQ 56.984375 54.828125 56.984375 36.375 \nQ 56.984375 17.96875 50.515625 8.265625 \nQ 44.046875 -1.421875 31.78125 -1.421875 \nQ 19.53125 -1.421875 13.0625 8.265625 \nQ 6.59375 17.96875 6.59375 36.375 \nQ 6.59375 54.828125 13.0625 64.515625 \nQ 19.53125 74.21875 31.78125 74.21875 \nz\n\" id=\"DejaVuSans-48\"/>\n      </defs>\n      <g transform=\"translate(47.799277 254.617813)scale(0.14 -0.14)\">\n       <use xlink:href=\"#DejaVuSans-8722\"/>\n       <use x=\"83.789062\" xlink:href=\"#DejaVuSans-51\"/>\n       <use x=\"147.412109\" xlink:href=\"#DejaVuSans-48\"/>\n      </g>\n     </g>\n    </g>\n    <g id=\"xtick_2\">\n     <g id=\"line2d_3\">\n      <path clip-path=\"url(#pa5c0957ffd)\" d=\"M 118.844241 240.48 \nL 118.844241 7.2 \n\" style=\"fill:none;stroke:#cbcbcb;\"/>\n     </g>\n     <g id=\"line2d_4\"/>\n     <g id=\"text_2\">\n      <!-- −20 -->\n      <defs>\n       <path d=\"M 19.1875 8.296875 \nL 53.609375 8.296875 \nL 53.609375 0 \nL 7.328125 0 \nL 7.328125 8.296875 \nQ 12.9375 14.109375 22.625 23.890625 \nQ 32.328125 33.6875 34.8125 36.53125 \nQ 39.546875 41.84375 41.421875 45.53125 \nQ 43.3125 49.21875 43.3125 52.78125 \nQ 43.3125 58.59375 39.234375 62.25 \nQ 35.15625 65.921875 28.609375 65.921875 \nQ 23.96875 65.921875 18.8125 64.3125 \nQ 13.671875 62.703125 7.8125 59.421875 \nL 7.8125 69.390625 \nQ 13.765625 71.78125 18.9375 73 \nQ 24.125 74.21875 28.421875 74.21875 \nQ 39.75 74.21875 46.484375 68.546875 \nQ 53.21875 62.890625 53.21875 53.421875 \nQ 53.21875 48.921875 51.53125 44.890625 \nQ 49.859375 40.875 45.40625 35.40625 \nQ 44.1875 33.984375 37.640625 27.21875 \nQ 31.109375 20.453125 19.1875 8.296875 \nz\n\" id=\"DejaVuSans-50\"/>\n      </defs>\n      <g transform=\"translate(104.07096 254.617813)scale(0.14 -0.14)\">\n       <use xlink:href=\"#DejaVuSans-8722\"/>\n       <use x=\"83.789062\" xlink:href=\"#DejaVuSans-50\"/>\n       <use x=\"147.412109\" xlink:href=\"#DejaVuSans-48\"/>\n      </g>\n     </g>\n    </g>\n    <g id=\"xtick_3\">\n     <g id=\"line2d_5\">\n      <path clip-path=\"url(#pa5c0957ffd)\" d=\"M 175.115925 240.48 \nL 175.115925 7.2 \n\" style=\"fill:none;stroke:#cbcbcb;\"/>\n     </g>\n     <g id=\"line2d_6\"/>\n     <g id=\"text_3\">\n      <!-- −10 -->\n      <defs>\n       <path d=\"M 12.40625 8.296875 \nL 28.515625 8.296875 \nL 28.515625 63.921875 \nL 10.984375 60.40625 \nL 10.984375 69.390625 \nL 28.421875 72.90625 \nL 38.28125 72.90625 \nL 38.28125 8.296875 \nL 54.390625 8.296875 \nL 54.390625 0 \nL 12.40625 0 \nz\n\" id=\"DejaVuSans-49\"/>\n      </defs>\n      <g transform=\"translate(160.342643 254.617813)scale(0.14 -0.14)\">\n       <use xlink:href=\"#DejaVuSans-8722\"/>\n       <use x=\"83.789062\" xlink:href=\"#DejaVuSans-49\"/>\n       <use x=\"147.412109\" xlink:href=\"#DejaVuSans-48\"/>\n      </g>\n     </g>\n    </g>\n    <g id=\"xtick_4\">\n     <g id=\"line2d_7\">\n      <path clip-path=\"url(#pa5c0957ffd)\" d=\"M 231.387608 240.48 \nL 231.387608 7.2 \n\" style=\"fill:none;stroke:#cbcbcb;\"/>\n     </g>\n     <g id=\"line2d_8\"/>\n     <g id=\"text_4\">\n      <!-- 0 -->\n      <g transform=\"translate(226.933858 254.617813)scale(0.14 -0.14)\">\n       <use xlink:href=\"#DejaVuSans-48\"/>\n      </g>\n     </g>\n    </g>\n    <g id=\"xtick_5\">\n     <g id=\"line2d_9\">\n      <path clip-path=\"url(#pa5c0957ffd)\" d=\"M 287.659291 240.48 \nL 287.659291 7.2 \n\" style=\"fill:none;stroke:#cbcbcb;\"/>\n     </g>\n     <g id=\"line2d_10\"/>\n     <g id=\"text_5\">\n      <!-- 10 -->\n      <g transform=\"translate(278.751791 254.617813)scale(0.14 -0.14)\">\n       <use xlink:href=\"#DejaVuSans-49\"/>\n       <use x=\"63.623047\" xlink:href=\"#DejaVuSans-48\"/>\n      </g>\n     </g>\n    </g>\n    <g id=\"xtick_6\">\n     <g id=\"line2d_11\">\n      <path clip-path=\"url(#pa5c0957ffd)\" d=\"M 343.930974 240.48 \nL 343.930974 7.2 \n\" style=\"fill:none;stroke:#cbcbcb;\"/>\n     </g>\n     <g id=\"line2d_12\"/>\n     <g id=\"text_6\">\n      <!-- 20 -->\n      <g transform=\"translate(335.023474 254.617813)scale(0.14 -0.14)\">\n       <use xlink:href=\"#DejaVuSans-50\"/>\n       <use x=\"63.623047\" xlink:href=\"#DejaVuSans-48\"/>\n      </g>\n     </g>\n    </g>\n    <g id=\"xtick_7\">\n     <g id=\"line2d_13\">\n      <path clip-path=\"url(#pa5c0957ffd)\" d=\"M 400.202658 240.48 \nL 400.202658 7.2 \n\" style=\"fill:none;stroke:#cbcbcb;\"/>\n     </g>\n     <g id=\"line2d_14\"/>\n     <g id=\"text_7\">\n      <!-- 30 -->\n      <g transform=\"translate(391.295158 254.617813)scale(0.14 -0.14)\">\n       <use xlink:href=\"#DejaVuSans-51\"/>\n       <use x=\"63.623047\" xlink:href=\"#DejaVuSans-48\"/>\n      </g>\n     </g>\n    </g>\n   </g>\n   <g id=\"matplotlib.axis_2\">\n    <g id=\"ytick_1\">\n     <g id=\"line2d_15\">\n      <path clip-path=\"url(#pa5c0957ffd)\" d=\"M 40.246563 234.774214 \nL 416.086562 234.774214 \n\" style=\"fill:none;stroke:#cbcbcb;\"/>\n     </g>\n     <g id=\"line2d_16\"/>\n     <g id=\"text_8\">\n      <!-- −20 -->\n      <g transform=\"translate(7.2 240.093121)scale(0.14 -0.14)\">\n       <use xlink:href=\"#DejaVuSans-8722\"/>\n       <use x=\"83.789062\" xlink:href=\"#DejaVuSans-50\"/>\n       <use x=\"147.412109\" xlink:href=\"#DejaVuSans-48\"/>\n      </g>\n     </g>\n    </g>\n    <g id=\"ytick_2\">\n     <g id=\"line2d_17\">\n      <path clip-path=\"url(#pa5c0957ffd)\" d=\"M 40.246563 192.389254 \nL 416.086562 192.389254 \n\" style=\"fill:none;stroke:#cbcbcb;\"/>\n     </g>\n     <g id=\"line2d_18\"/>\n     <g id=\"text_9\">\n      <!-- −10 -->\n      <g transform=\"translate(7.2 197.70816)scale(0.14 -0.14)\">\n       <use xlink:href=\"#DejaVuSans-8722\"/>\n       <use x=\"83.789062\" xlink:href=\"#DejaVuSans-49\"/>\n       <use x=\"147.412109\" xlink:href=\"#DejaVuSans-48\"/>\n      </g>\n     </g>\n    </g>\n    <g id=\"ytick_3\">\n     <g id=\"line2d_19\">\n      <path clip-path=\"url(#pa5c0957ffd)\" d=\"M 40.246563 150.004294 \nL 416.086562 150.004294 \n\" style=\"fill:none;stroke:#cbcbcb;\"/>\n     </g>\n     <g id=\"line2d_20\"/>\n     <g id=\"text_10\">\n      <!-- 0 -->\n      <g transform=\"translate(27.839063 155.3232)scale(0.14 -0.14)\">\n       <use xlink:href=\"#DejaVuSans-48\"/>\n      </g>\n     </g>\n    </g>\n    <g id=\"ytick_4\">\n     <g id=\"line2d_21\">\n      <path clip-path=\"url(#pa5c0957ffd)\" d=\"M 40.246563 107.619334 \nL 416.086562 107.619334 \n\" style=\"fill:none;stroke:#cbcbcb;\"/>\n     </g>\n     <g id=\"line2d_22\"/>\n     <g id=\"text_11\">\n      <!-- 10 -->\n      <g transform=\"translate(18.931563 112.93824)scale(0.14 -0.14)\">\n       <use xlink:href=\"#DejaVuSans-49\"/>\n       <use x=\"63.623047\" xlink:href=\"#DejaVuSans-48\"/>\n      </g>\n     </g>\n    </g>\n    <g id=\"ytick_5\">\n     <g id=\"line2d_23\">\n      <path clip-path=\"url(#pa5c0957ffd)\" d=\"M 40.246563 65.234374 \nL 416.086562 65.234374 \n\" style=\"fill:none;stroke:#cbcbcb;\"/>\n     </g>\n     <g id=\"line2d_24\"/>\n     <g id=\"text_12\">\n      <!-- 20 -->\n      <g transform=\"translate(18.931563 70.55328)scale(0.14 -0.14)\">\n       <use xlink:href=\"#DejaVuSans-50\"/>\n       <use x=\"63.623047\" xlink:href=\"#DejaVuSans-48\"/>\n      </g>\n     </g>\n    </g>\n    <g id=\"ytick_6\">\n     <g id=\"line2d_25\">\n      <path clip-path=\"url(#pa5c0957ffd)\" d=\"M 40.246563 22.849413 \nL 416.086562 22.849413 \n\" style=\"fill:none;stroke:#cbcbcb;\"/>\n     </g>\n     <g id=\"line2d_26\"/>\n     <g id=\"text_13\">\n      <!-- 30 -->\n      <g transform=\"translate(18.931563 28.16832)scale(0.14 -0.14)\">\n       <use xlink:href=\"#DejaVuSans-51\"/>\n       <use x=\"63.623047\" xlink:href=\"#DejaVuSans-48\"/>\n      </g>\n     </g>\n    </g>\n   </g>\n   <g id=\"PathCollection_1\">\n    <defs>\n     <path d=\"M 0 3 \nC 0.795609 3 1.55874 2.683901 2.12132 2.12132 \nC 2.683901 1.55874 3 0.795609 3 0 \nC 3 -0.795609 2.683901 -1.55874 2.12132 -2.12132 \nC 1.55874 -2.683901 0.795609 -3 0 -3 \nC -0.795609 -3 -1.55874 -2.683901 -2.12132 -2.12132 \nC -2.683901 -1.55874 -3 -0.795609 -3 0 \nC -3 0.795609 -2.683901 1.55874 -2.12132 2.12132 \nC -1.55874 2.683901 -0.795609 3 0 3 \nz\n\" id=\"C0_0_2c801f6a0b\"/>\n    </defs>\n    <g clip-path=\"url(#pa5c0957ffd)\">\n     <use style=\"fill:#21918c;stroke:#21918c;stroke-width:0.5;\" x=\"333.262701\" xlink:href=\"#C0_0_2c801f6a0b\" y=\"26.307428\"/>\n    </g>\n    <g clip-path=\"url(#pa5c0957ffd)\">\n     <use style=\"fill:#fde725;stroke:#fde725;stroke-width:0.5;\" x=\"250.319997\" xlink:href=\"#C0_0_2c801f6a0b\" y=\"183.529392\"/>\n    </g>\n    <g clip-path=\"url(#pa5c0957ffd)\">\n     <use style=\"fill:#440154;stroke:#440154;stroke-width:0.5;\" x=\"114.810962\" xlink:href=\"#C0_0_2c801f6a0b\" y=\"187.927199\"/>\n    </g>\n    <g clip-path=\"url(#pa5c0957ffd)\">\n     <use style=\"fill:#21918c;stroke:#21918c;stroke-width:0.5;\" x=\"387.004623\" xlink:href=\"#C0_0_2c801f6a0b\" y=\"37.105767\"/>\n    </g>\n    <g clip-path=\"url(#pa5c0957ffd)\">\n     <use style=\"fill:#fde725;stroke:#fde725;stroke-width:0.5;\" x=\"255.918794\" xlink:href=\"#C0_0_2c801f6a0b\" y=\"181.535439\"/>\n    </g>\n    <g clip-path=\"url(#pa5c0957ffd)\">\n     <use style=\"fill:#fde725;stroke:#fde725;stroke-width:0.5;\" x=\"164.588242\" xlink:href=\"#C0_0_2c801f6a0b\" y=\"163.554618\"/>\n    </g>\n    <g clip-path=\"url(#pa5c0957ffd)\">\n     <use style=\"fill:#fde725;stroke:#fde725;stroke-width:0.5;\" x=\"175.767448\" xlink:href=\"#C0_0_2c801f6a0b\" y=\"163.224825\"/>\n    </g>\n    <g clip-path=\"url(#pa5c0957ffd)\">\n     <use style=\"fill:#440154;stroke:#440154;stroke-width:0.5;\" x=\"80.683976\" xlink:href=\"#C0_0_2c801f6a0b\" y=\"213.713617\"/>\n    </g>\n    <g clip-path=\"url(#pa5c0957ffd)\">\n     <use style=\"fill:#21918c;stroke:#21918c;stroke-width:0.5;\" x=\"391.795575\" xlink:href=\"#C0_0_2c801f6a0b\" y=\"33.560394\"/>\n    </g>\n    <g clip-path=\"url(#pa5c0957ffd)\">\n     <use style=\"fill:#21918c;stroke:#21918c;stroke-width:0.5;\" x=\"399.002926\" xlink:href=\"#C0_0_2c801f6a0b\" y=\"46.165442\"/>\n    </g>\n    <g clip-path=\"url(#pa5c0957ffd)\">\n     <use style=\"fill:#fde725;stroke:#fde725;stroke-width:0.5;\" x=\"173.263677\" xlink:href=\"#C0_0_2c801f6a0b\" y=\"161.464104\"/>\n    </g>\n    <g clip-path=\"url(#pa5c0957ffd)\">\n     <use style=\"fill:#fde725;stroke:#fde725;stroke-width:0.5;\" x=\"197.25628\" xlink:href=\"#C0_0_2c801f6a0b\" y=\"188.797679\"/>\n    </g>\n    <g clip-path=\"url(#pa5c0957ffd)\">\n     <use style=\"fill:#fde725;stroke:#fde725;stroke-width:0.5;\" x=\"199.774715\" xlink:href=\"#C0_0_2c801f6a0b\" y=\"207.58077\"/>\n    </g>\n    <g clip-path=\"url(#pa5c0957ffd)\">\n     <use style=\"fill:#21918c;stroke:#21918c;stroke-width:0.5;\" x=\"392.443342\" xlink:href=\"#C0_0_2c801f6a0b\" y=\"45.652187\"/>\n    </g>\n    <g clip-path=\"url(#pa5c0957ffd)\">\n     <use style=\"fill:#fde725;stroke:#fde725;stroke-width:0.5;\" x=\"191.349998\" xlink:href=\"#C0_0_2c801f6a0b\" y=\"211.638958\"/>\n    </g>\n    <g clip-path=\"url(#pa5c0957ffd)\">\n     <use style=\"fill:#fde725;stroke:#fde725;stroke-width:0.5;\" x=\"273.582537\" xlink:href=\"#C0_0_2c801f6a0b\" y=\"186.477722\"/>\n    </g>\n    <g clip-path=\"url(#pa5c0957ffd)\">\n     <use style=\"fill:#fde725;stroke:#fde725;stroke-width:0.5;\" x=\"238.299549\" xlink:href=\"#C0_0_2c801f6a0b\" y=\"174.607637\"/>\n    </g>\n    <g clip-path=\"url(#pa5c0957ffd)\">\n     <use style=\"fill:#440154;stroke:#440154;stroke-width:0.5;\" x=\"108.41337\" xlink:href=\"#C0_0_2c801f6a0b\" y=\"186.410429\"/>\n    </g>\n    <g clip-path=\"url(#pa5c0957ffd)\">\n     <use style=\"fill:#fde725;stroke:#fde725;stroke-width:0.5;\" x=\"136.49047\" xlink:href=\"#C0_0_2c801f6a0b\" y=\"193.770265\"/>\n    </g>\n    <g clip-path=\"url(#pa5c0957ffd)\">\n     <use style=\"fill:#440154;stroke:#440154;stroke-width:0.5;\" x=\"126.228837\" xlink:href=\"#C0_0_2c801f6a0b\" y=\"178.455219\"/>\n    </g>\n    <g clip-path=\"url(#pa5c0957ffd)\">\n     <use style=\"fill:#21918c;stroke:#21918c;stroke-width:0.5;\" x=\"367.05293\" xlink:href=\"#C0_0_2c801f6a0b\" y=\"27.527962\"/>\n    </g>\n    <g clip-path=\"url(#pa5c0957ffd)\">\n     <use style=\"fill:#fde725;stroke:#fde725;stroke-width:0.5;\" x=\"227.086019\" xlink:href=\"#C0_0_2c801f6a0b\" y=\"172.771309\"/>\n    </g>\n    <g clip-path=\"url(#pa5c0957ffd)\">\n     <use style=\"fill:#440154;stroke:#440154;stroke-width:0.5;\" x=\"155.054465\" xlink:href=\"#C0_0_2c801f6a0b\" y=\"165.409134\"/>\n    </g>\n    <g clip-path=\"url(#pa5c0957ffd)\">\n     <use style=\"fill:#fde725;stroke:#fde725;stroke-width:0.5;\" x=\"184.734943\" xlink:href=\"#C0_0_2c801f6a0b\" y=\"170.859756\"/>\n    </g>\n    <g clip-path=\"url(#pa5c0957ffd)\">\n     <use style=\"fill:#440154;stroke:#440154;stroke-width:0.5;\" x=\"78.691067\" xlink:href=\"#C0_0_2c801f6a0b\" y=\"213.042872\"/>\n    </g>\n    <g clip-path=\"url(#pa5c0957ffd)\">\n     <use style=\"fill:#fde725;stroke:#fde725;stroke-width:0.5;\" x=\"194.835732\" xlink:href=\"#C0_0_2c801f6a0b\" y=\"204.94931\"/>\n    </g>\n    <g clip-path=\"url(#pa5c0957ffd)\">\n     <use style=\"fill:#21918c;stroke:#21918c;stroke-width:0.5;\" x=\"226.994737\" xlink:href=\"#C0_0_2c801f6a0b\" y=\"114.043935\"/>\n    </g>\n    <g clip-path=\"url(#pa5c0957ffd)\">\n     <use style=\"fill:#440154;stroke:#440154;stroke-width:0.5;\" x=\"185.031548\" xlink:href=\"#C0_0_2c801f6a0b\" y=\"221.090552\"/>\n    </g>\n    <g clip-path=\"url(#pa5c0957ffd)\">\n     <use style=\"fill:#fde725;stroke:#fde725;stroke-width:0.5;\" x=\"289.007648\" xlink:href=\"#C0_0_2c801f6a0b\" y=\"139.427916\"/>\n    </g>\n    <g clip-path=\"url(#pa5c0957ffd)\">\n     <use style=\"fill:#440154;stroke:#440154;stroke-width:0.5;\" x=\"150.246679\" xlink:href=\"#C0_0_2c801f6a0b\" y=\"174.726656\"/>\n    </g>\n    <g clip-path=\"url(#pa5c0957ffd)\">\n     <use style=\"fill:#fde725;stroke:#fde725;stroke-width:0.5;\" x=\"268.480206\" xlink:href=\"#C0_0_2c801f6a0b\" y=\"179.01101\"/>\n    </g>\n    <g clip-path=\"url(#pa5c0957ffd)\">\n     <use style=\"fill:#fde725;stroke:#fde725;stroke-width:0.5;\" x=\"234.828592\" xlink:href=\"#C0_0_2c801f6a0b\" y=\"164.649541\"/>\n    </g>\n    <g clip-path=\"url(#pa5c0957ffd)\">\n     <use style=\"fill:#21918c;stroke:#21918c;stroke-width:0.5;\" x=\"258.801021\" xlink:href=\"#C0_0_2c801f6a0b\" y=\"117.771296\"/>\n    </g>\n    <g clip-path=\"url(#pa5c0957ffd)\">\n     <use style=\"fill:#21918c;stroke:#21918c;stroke-width:0.5;\" x=\"386.204931\" xlink:href=\"#C0_0_2c801f6a0b\" y=\"46.642658\"/>\n    </g>\n    <g clip-path=\"url(#pa5c0957ffd)\">\n     <use style=\"fill:#fde725;stroke:#fde725;stroke-width:0.5;\" x=\"179.336956\" xlink:href=\"#C0_0_2c801f6a0b\" y=\"165.195256\"/>\n    </g>\n    <g clip-path=\"url(#pa5c0957ffd)\">\n     <use style=\"fill:#440154;stroke:#440154;stroke-width:0.5;\" x=\"73.47612\" xlink:href=\"#C0_0_2c801f6a0b\" y=\"206.729567\"/>\n    </g>\n    <g clip-path=\"url(#pa5c0957ffd)\">\n     <use style=\"fill:#440154;stroke:#440154;stroke-width:0.5;\" x=\"84.341182\" xlink:href=\"#C0_0_2c801f6a0b\" y=\"198.361612\"/>\n    </g>\n    <g clip-path=\"url(#pa5c0957ffd)\">\n     <use style=\"fill:#fde725;stroke:#fde725;stroke-width:0.5;\" x=\"271.473546\" xlink:href=\"#C0_0_2c801f6a0b\" y=\"180.96434\"/>\n    </g>\n    <g clip-path=\"url(#pa5c0957ffd)\">\n     <use style=\"fill:#fde725;stroke:#fde725;stroke-width:0.5;\" x=\"265.743459\" xlink:href=\"#C0_0_2c801f6a0b\" y=\"181.954053\"/>\n    </g>\n    <g clip-path=\"url(#pa5c0957ffd)\">\n     <use style=\"fill:#440154;stroke:#440154;stroke-width:0.5;\" x=\"80.641881\" xlink:href=\"#C0_0_2c801f6a0b\" y=\"203.093868\"/>\n    </g>\n    <g clip-path=\"url(#pa5c0957ffd)\">\n     <use style=\"fill:#440154;stroke:#440154;stroke-width:0.5;\" x=\"85.967667\" xlink:href=\"#C0_0_2c801f6a0b\" y=\"207.887965\"/>\n    </g>\n    <g clip-path=\"url(#pa5c0957ffd)\">\n     <use style=\"fill:#fde725;stroke:#fde725;stroke-width:0.5;\" x=\"195.834478\" xlink:href=\"#C0_0_2c801f6a0b\" y=\"117.283013\"/>\n    </g>\n    <g clip-path=\"url(#pa5c0957ffd)\">\n     <use style=\"fill:#21918c;stroke:#21918c;stroke-width:0.5;\" x=\"350.397128\" xlink:href=\"#C0_0_2c801f6a0b\" y=\"26.813795\"/>\n    </g>\n    <g clip-path=\"url(#pa5c0957ffd)\">\n     <use style=\"fill:#fde725;stroke:#fde725;stroke-width:0.5;\" x=\"219.140876\" xlink:href=\"#C0_0_2c801f6a0b\" y=\"194.707707\"/>\n    </g>\n    <g clip-path=\"url(#pa5c0957ffd)\">\n     <use style=\"fill:#21918c;stroke:#21918c;stroke-width:0.5;\" x=\"223.73347\" xlink:href=\"#C0_0_2c801f6a0b\" y=\"112.783339\"/>\n    </g>\n    <g clip-path=\"url(#pa5c0957ffd)\">\n     <use style=\"fill:#21918c;stroke:#21918c;stroke-width:0.5;\" x=\"318.196281\" xlink:href=\"#C0_0_2c801f6a0b\" y=\"39.19803\"/>\n    </g>\n    <g clip-path=\"url(#pa5c0957ffd)\">\n     <use style=\"fill:#fde725;stroke:#fde725;stroke-width:0.5;\" x=\"276.09511\" xlink:href=\"#C0_0_2c801f6a0b\" y=\"180.434391\"/>\n    </g>\n    <g clip-path=\"url(#pa5c0957ffd)\">\n     <use style=\"fill:#fde725;stroke:#fde725;stroke-width:0.5;\" x=\"196.224769\" xlink:href=\"#C0_0_2c801f6a0b\" y=\"220.432935\"/>\n    </g>\n    <g clip-path=\"url(#pa5c0957ffd)\">\n     <use style=\"fill:#21918c;stroke:#21918c;stroke-width:0.5;\" x=\"391.455833\" xlink:href=\"#C0_0_2c801f6a0b\" y=\"44.050382\"/>\n    </g>\n    <g clip-path=\"url(#pa5c0957ffd)\">\n     <use style=\"fill:#21918c;stroke:#21918c;stroke-width:0.5;\" x=\"316.930252\" xlink:href=\"#C0_0_2c801f6a0b\" y=\"42.633004\"/>\n    </g>\n    <g clip-path=\"url(#pa5c0957ffd)\">\n     <use style=\"fill:#fde725;stroke:#fde725;stroke-width:0.5;\" x=\"174.030671\" xlink:href=\"#C0_0_2c801f6a0b\" y=\"189.170401\"/>\n    </g>\n    <g clip-path=\"url(#pa5c0957ffd)\">\n     <use style=\"fill:#fde725;stroke:#fde725;stroke-width:0.5;\" x=\"228.643842\" xlink:href=\"#C0_0_2c801f6a0b\" y=\"173.022005\"/>\n    </g>\n    <g clip-path=\"url(#pa5c0957ffd)\">\n     <use style=\"fill:#fde725;stroke:#fde725;stroke-width:0.5;\" x=\"166.865097\" xlink:href=\"#C0_0_2c801f6a0b\" y=\"174.752833\"/>\n    </g>\n    <g clip-path=\"url(#pa5c0957ffd)\">\n     <use style=\"fill:#fde725;stroke:#fde725;stroke-width:0.5;\" x=\"180.851539\" xlink:href=\"#C0_0_2c801f6a0b\" y=\"160.615674\"/>\n    </g>\n    <g clip-path=\"url(#pa5c0957ffd)\">\n     <use style=\"fill:#21918c;stroke:#21918c;stroke-width:0.5;\" x=\"329.975685\" xlink:href=\"#C0_0_2c801f6a0b\" y=\"53.393549\"/>\n    </g>\n    <g clip-path=\"url(#pa5c0957ffd)\">\n     <use style=\"fill:#21918c;stroke:#21918c;stroke-width:0.5;\" x=\"305.837768\" xlink:href=\"#C0_0_2c801f6a0b\" y=\"51.115809\"/>\n    </g>\n    <g clip-path=\"url(#pa5c0957ffd)\">\n     <use style=\"fill:#fde725;stroke:#fde725;stroke-width:0.5;\" x=\"172.669274\" xlink:href=\"#C0_0_2c801f6a0b\" y=\"191.81586\"/>\n    </g>\n    <g clip-path=\"url(#pa5c0957ffd)\">\n     <use style=\"fill:#21918c;stroke:#21918c;stroke-width:0.5;\" x=\"359.978667\" xlink:href=\"#C0_0_2c801f6a0b\" y=\"25.844416\"/>\n    </g>\n    <g clip-path=\"url(#pa5c0957ffd)\">\n     <use style=\"fill:#fde725;stroke:#fde725;stroke-width:0.5;\" x=\"197.408836\" xlink:href=\"#C0_0_2c801f6a0b\" y=\"186.394373\"/>\n    </g>\n    <g clip-path=\"url(#pa5c0957ffd)\">\n     <use style=\"fill:#fde725;stroke:#fde725;stroke-width:0.5;\" x=\"136.392167\" xlink:href=\"#C0_0_2c801f6a0b\" y=\"192.554283\"/>\n    </g>\n    <g clip-path=\"url(#pa5c0957ffd)\">\n     <use style=\"fill:#fde725;stroke:#fde725;stroke-width:0.5;\" x=\"248.446843\" xlink:href=\"#C0_0_2c801f6a0b\" y=\"176.109275\"/>\n    </g>\n    <g clip-path=\"url(#pa5c0957ffd)\">\n     <use style=\"fill:#fde725;stroke:#fde725;stroke-width:0.5;\" x=\"186.859467\" xlink:href=\"#C0_0_2c801f6a0b\" y=\"173.292206\"/>\n    </g>\n    <g clip-path=\"url(#pa5c0957ffd)\">\n     <use style=\"fill:#fde725;stroke:#fde725;stroke-width:0.5;\" x=\"227.274698\" xlink:href=\"#C0_0_2c801f6a0b\" y=\"222.07922\"/>\n    </g>\n    <g clip-path=\"url(#pa5c0957ffd)\">\n     <use style=\"fill:#fde725;stroke:#fde725;stroke-width:0.5;\" x=\"262.661961\" xlink:href=\"#C0_0_2c801f6a0b\" y=\"175.458173\"/>\n    </g>\n    <g clip-path=\"url(#pa5c0957ffd)\">\n     <use style=\"fill:#fde725;stroke:#fde725;stroke-width:0.5;\" x=\"211.37118\" xlink:href=\"#C0_0_2c801f6a0b\" y=\"229.579994\"/>\n    </g>\n    <g clip-path=\"url(#pa5c0957ffd)\">\n     <use style=\"fill:#21918c;stroke:#21918c;stroke-width:0.5;\" x=\"325.663875\" xlink:href=\"#C0_0_2c801f6a0b\" y=\"44.458016\"/>\n    </g>\n    <g clip-path=\"url(#pa5c0957ffd)\">\n     <use style=\"fill:#fde725;stroke:#fde725;stroke-width:0.5;\" x=\"269.152068\" xlink:href=\"#C0_0_2c801f6a0b\" y=\"182.977548\"/>\n    </g>\n    <g clip-path=\"url(#pa5c0957ffd)\">\n     <use style=\"fill:#fde725;stroke:#fde725;stroke-width:0.5;\" x=\"233.64569\" xlink:href=\"#C0_0_2c801f6a0b\" y=\"201.193159\"/>\n    </g>\n    <g clip-path=\"url(#pa5c0957ffd)\">\n     <use style=\"fill:#21918c;stroke:#21918c;stroke-width:0.5;\" x=\"304.268978\" xlink:href=\"#C0_0_2c801f6a0b\" y=\"138.466577\"/>\n    </g>\n    <g clip-path=\"url(#pa5c0957ffd)\">\n     <use style=\"fill:#fde725;stroke:#fde725;stroke-width:0.5;\" x=\"267.7785\" xlink:href=\"#C0_0_2c801f6a0b\" y=\"170.606758\"/>\n    </g>\n    <g clip-path=\"url(#pa5c0957ffd)\">\n     <use style=\"fill:#fde725;stroke:#fde725;stroke-width:0.5;\" x=\"180.183846\" xlink:href=\"#C0_0_2c801f6a0b\" y=\"171.280097\"/>\n    </g>\n    <g clip-path=\"url(#pa5c0957ffd)\">\n     <use style=\"fill:#fde725;stroke:#fde725;stroke-width:0.5;\" x=\"239.634733\" xlink:href=\"#C0_0_2c801f6a0b\" y=\"140.317371\"/>\n    </g>\n    <g clip-path=\"url(#pa5c0957ffd)\">\n     <use style=\"fill:#21918c;stroke:#21918c;stroke-width:0.5;\" x=\"318.232312\" xlink:href=\"#C0_0_2c801f6a0b\" y=\"57.117011\"/>\n    </g>\n    <g clip-path=\"url(#pa5c0957ffd)\">\n     <use style=\"fill:#fde725;stroke:#fde725;stroke-width:0.5;\" x=\"231.211726\" xlink:href=\"#C0_0_2c801f6a0b\" y=\"168.375775\"/>\n    </g>\n    <g clip-path=\"url(#pa5c0957ffd)\">\n     <use style=\"fill:#fde725;stroke:#fde725;stroke-width:0.5;\" x=\"227.382532\" xlink:href=\"#C0_0_2c801f6a0b\" y=\"174.879704\"/>\n    </g>\n    <g clip-path=\"url(#pa5c0957ffd)\">\n     <use style=\"fill:#fde725;stroke:#fde725;stroke-width:0.5;\" x=\"182.184708\" xlink:href=\"#C0_0_2c801f6a0b\" y=\"198.294035\"/>\n    </g>\n    <g clip-path=\"url(#pa5c0957ffd)\">\n     <use style=\"fill:#440154;stroke:#440154;stroke-width:0.5;\" x=\"89.916628\" xlink:href=\"#C0_0_2c801f6a0b\" y=\"191.566742\"/>\n    </g>\n    <g clip-path=\"url(#pa5c0957ffd)\">\n     <use style=\"fill:#fde725;stroke:#fde725;stroke-width:0.5;\" x=\"165.486243\" xlink:href=\"#C0_0_2c801f6a0b\" y=\"196.857417\"/>\n    </g>\n    <g clip-path=\"url(#pa5c0957ffd)\">\n     <use style=\"fill:#21918c;stroke:#21918c;stroke-width:0.5;\" x=\"261.041255\" xlink:href=\"#C0_0_2c801f6a0b\" y=\"117.64989\"/>\n    </g>\n    <g clip-path=\"url(#pa5c0957ffd)\">\n     <use style=\"fill:#21918c;stroke:#21918c;stroke-width:0.5;\" x=\"333.81517\" xlink:href=\"#C0_0_2c801f6a0b\" y=\"19.577944\"/>\n    </g>\n    <g clip-path=\"url(#pa5c0957ffd)\">\n     <use style=\"fill:#21918c;stroke:#21918c;stroke-width:0.5;\" x=\"326.33402\" xlink:href=\"#C0_0_2c801f6a0b\" y=\"27.539069\"/>\n    </g>\n    <g clip-path=\"url(#pa5c0957ffd)\">\n     <use style=\"fill:#21918c;stroke:#21918c;stroke-width:0.5;\" x=\"280.442795\" xlink:href=\"#C0_0_2c801f6a0b\" y=\"59.594304\"/>\n    </g>\n    <g clip-path=\"url(#pa5c0957ffd)\">\n     <use style=\"fill:#440154;stroke:#440154;stroke-width:0.5;\" x=\"144.794206\" xlink:href=\"#C0_0_2c801f6a0b\" y=\"222.830016\"/>\n    </g>\n    <g clip-path=\"url(#pa5c0957ffd)\">\n     <use style=\"fill:#fde725;stroke:#fde725;stroke-width:0.5;\" x=\"202.713317\" xlink:href=\"#C0_0_2c801f6a0b\" y=\"123.033297\"/>\n    </g>\n    <g clip-path=\"url(#pa5c0957ffd)\">\n     <use style=\"fill:#21918c;stroke:#21918c;stroke-width:0.5;\" x=\"389.852155\" xlink:href=\"#C0_0_2c801f6a0b\" y=\"39.532364\"/>\n    </g>\n    <g clip-path=\"url(#pa5c0957ffd)\">\n     <use style=\"fill:#21918c;stroke:#21918c;stroke-width:0.5;\" x=\"310.740343\" xlink:href=\"#C0_0_2c801f6a0b\" y=\"143.083273\"/>\n    </g>\n    <g clip-path=\"url(#pa5c0957ffd)\">\n     <use style=\"fill:#21918c;stroke:#21918c;stroke-width:0.5;\" x=\"276.984766\" xlink:href=\"#C0_0_2c801f6a0b\" y=\"64.051205\"/>\n    </g>\n    <g clip-path=\"url(#pa5c0957ffd)\">\n     <use style=\"fill:#440154;stroke:#440154;stroke-width:0.5;\" x=\"137.182372\" xlink:href=\"#C0_0_2c801f6a0b\" y=\"177.49049\"/>\n    </g>\n    <g clip-path=\"url(#pa5c0957ffd)\">\n     <use style=\"fill:#21918c;stroke:#21918c;stroke-width:0.5;\" x=\"308.330002\" xlink:href=\"#C0_0_2c801f6a0b\" y=\"46.062368\"/>\n    </g>\n    <g clip-path=\"url(#pa5c0957ffd)\">\n     <use style=\"fill:#fde725;stroke:#fde725;stroke-width:0.5;\" x=\"243.68008\" xlink:href=\"#C0_0_2c801f6a0b\" y=\"134.613908\"/>\n    </g>\n    <g clip-path=\"url(#pa5c0957ffd)\">\n     <use style=\"fill:#fde725;stroke:#fde725;stroke-width:0.5;\" x=\"238.300878\" xlink:href=\"#C0_0_2c801f6a0b\" y=\"170.543088\"/>\n    </g>\n    <g clip-path=\"url(#pa5c0957ffd)\">\n     <use style=\"fill:#21918c;stroke:#21918c;stroke-width:0.5;\" x=\"328.267254\" xlink:href=\"#C0_0_2c801f6a0b\" y=\"41.885417\"/>\n    </g>\n    <g clip-path=\"url(#pa5c0957ffd)\">\n     <use style=\"fill:#21918c;stroke:#21918c;stroke-width:0.5;\" x=\"339.994131\" xlink:href=\"#C0_0_2c801f6a0b\" y=\"31.054571\"/>\n    </g>\n    <g clip-path=\"url(#pa5c0957ffd)\">\n     <use style=\"fill:#440154;stroke:#440154;stroke-width:0.5;\" x=\"83.389683\" xlink:href=\"#C0_0_2c801f6a0b\" y=\"197.532067\"/>\n    </g>\n    <g clip-path=\"url(#pa5c0957ffd)\">\n     <use style=\"fill:#440154;stroke:#440154;stroke-width:0.5;\" x=\"124.337054\" xlink:href=\"#C0_0_2c801f6a0b\" y=\"178.248566\"/>\n    </g>\n    <g clip-path=\"url(#pa5c0957ffd)\">\n     <use style=\"fill:#fde725;stroke:#fde725;stroke-width:0.5;\" x=\"271.949955\" xlink:href=\"#C0_0_2c801f6a0b\" y=\"173.106732\"/>\n    </g>\n    <g clip-path=\"url(#pa5c0957ffd)\">\n     <use style=\"fill:#21918c;stroke:#21918c;stroke-width:0.5;\" x=\"311.391861\" xlink:href=\"#C0_0_2c801f6a0b\" y=\"39.641906\"/>\n    </g>\n    <g clip-path=\"url(#pa5c0957ffd)\">\n     <use style=\"fill:#21918c;stroke:#21918c;stroke-width:0.5;\" x=\"251.097483\" xlink:href=\"#C0_0_2c801f6a0b\" y=\"117.218914\"/>\n    </g>\n    <g clip-path=\"url(#pa5c0957ffd)\">\n     <use style=\"fill:#fde725;stroke:#fde725;stroke-width:0.5;\" x=\"218.615088\" xlink:href=\"#C0_0_2c801f6a0b\" y=\"195.115782\"/>\n    </g>\n    <g clip-path=\"url(#pa5c0957ffd)\">\n     <use style=\"fill:#21918c;stroke:#21918c;stroke-width:0.5;\" x=\"223.318558\" xlink:href=\"#C0_0_2c801f6a0b\" y=\"112.244008\"/>\n    </g>\n    <g clip-path=\"url(#pa5c0957ffd)\">\n     <use style=\"fill:#fde725;stroke:#fde725;stroke-width:0.5;\" x=\"201.713949\" xlink:href=\"#C0_0_2c801f6a0b\" y=\"122.969742\"/>\n    </g>\n    <g clip-path=\"url(#pa5c0957ffd)\">\n     <use style=\"fill:#440154;stroke:#440154;stroke-width:0.5;\" x=\"162.867162\" xlink:href=\"#C0_0_2c801f6a0b\" y=\"203.900082\"/>\n    </g>\n    <g clip-path=\"url(#pa5c0957ffd)\">\n     <use style=\"fill:#440154;stroke:#440154;stroke-width:0.5;\" x=\"152.802232\" xlink:href=\"#C0_0_2c801f6a0b\" y=\"192.215915\"/>\n    </g>\n    <g clip-path=\"url(#pa5c0957ffd)\">\n     <use style=\"fill:#440154;stroke:#440154;stroke-width:0.5;\" x=\"133.952949\" xlink:href=\"#C0_0_2c801f6a0b\" y=\"186.765228\"/>\n    </g>\n    <g clip-path=\"url(#pa5c0957ffd)\">\n     <use style=\"fill:#fde725;stroke:#fde725;stroke-width:0.5;\" x=\"242.914063\" xlink:href=\"#C0_0_2c801f6a0b\" y=\"132.455045\"/>\n    </g>\n    <g clip-path=\"url(#pa5c0957ffd)\">\n     <use style=\"fill:#fde725;stroke:#fde725;stroke-width:0.5;\" x=\"214.019246\" xlink:href=\"#C0_0_2c801f6a0b\" y=\"122.962467\"/>\n    </g>\n    <g clip-path=\"url(#pa5c0957ffd)\">\n     <use style=\"fill:#440154;stroke:#440154;stroke-width:0.5;\" x=\"71.993102\" xlink:href=\"#C0_0_2c801f6a0b\" y=\"210.169881\"/>\n    </g>\n    <g clip-path=\"url(#pa5c0957ffd)\">\n     <use style=\"fill:#fde725;stroke:#fde725;stroke-width:0.5;\" x=\"197.707344\" xlink:href=\"#C0_0_2c801f6a0b\" y=\"210.562939\"/>\n    </g>\n    <g clip-path=\"url(#pa5c0957ffd)\">\n     <use style=\"fill:#fde725;stroke:#fde725;stroke-width:0.5;\" x=\"161.02547\" xlink:href=\"#C0_0_2c801f6a0b\" y=\"167.73577\"/>\n    </g>\n    <g clip-path=\"url(#pa5c0957ffd)\">\n     <use style=\"fill:#fde725;stroke:#fde725;stroke-width:0.5;\" x=\"210.138666\" xlink:href=\"#C0_0_2c801f6a0b\" y=\"178.944195\"/>\n    </g>\n    <g clip-path=\"url(#pa5c0957ffd)\">\n     <use style=\"fill:#21918c;stroke:#21918c;stroke-width:0.5;\" x=\"390.492635\" xlink:href=\"#C0_0_2c801f6a0b\" y=\"41.541568\"/>\n    </g>\n    <g clip-path=\"url(#pa5c0957ffd)\">\n     <use style=\"fill:#440154;stroke:#440154;stroke-width:0.5;\" x=\"118.183691\" xlink:href=\"#C0_0_2c801f6a0b\" y=\"172.74191\"/>\n    </g>\n    <g clip-path=\"url(#pa5c0957ffd)\">\n     <use style=\"fill:#fde725;stroke:#fde725;stroke-width:0.5;\" x=\"232.299977\" xlink:href=\"#C0_0_2c801f6a0b\" y=\"171.144192\"/>\n    </g>\n    <g clip-path=\"url(#pa5c0957ffd)\">\n     <use style=\"fill:#440154;stroke:#440154;stroke-width:0.5;\" x=\"70.917991\" xlink:href=\"#C0_0_2c801f6a0b\" y=\"204.722747\"/>\n    </g>\n    <g clip-path=\"url(#pa5c0957ffd)\">\n     <use style=\"fill:#440154;stroke:#440154;stroke-width:0.5;\" x=\"105.07709\" xlink:href=\"#C0_0_2c801f6a0b\" y=\"187.975434\"/>\n    </g>\n    <g clip-path=\"url(#pa5c0957ffd)\">\n     <use style=\"fill:#21918c;stroke:#21918c;stroke-width:0.5;\" x=\"323.483364\" xlink:href=\"#C0_0_2c801f6a0b\" y=\"63.970128\"/>\n    </g>\n    <g clip-path=\"url(#pa5c0957ffd)\">\n     <use style=\"fill:#21918c;stroke:#21918c;stroke-width:0.5;\" x=\"278.694614\" xlink:href=\"#C0_0_2c801f6a0b\" y=\"60.561153\"/>\n    </g>\n    <g clip-path=\"url(#pa5c0957ffd)\">\n     <use style=\"fill:#21918c;stroke:#21918c;stroke-width:0.5;\" x=\"342.080707\" xlink:href=\"#C0_0_2c801f6a0b\" y=\"28.881385\"/>\n    </g>\n    <g clip-path=\"url(#pa5c0957ffd)\">\n     <use style=\"fill:#fde725;stroke:#fde725;stroke-width:0.5;\" x=\"178.134723\" xlink:href=\"#C0_0_2c801f6a0b\" y=\"213.101827\"/>\n    </g>\n    <g clip-path=\"url(#pa5c0957ffd)\">\n     <use style=\"fill:#fde725;stroke:#fde725;stroke-width:0.5;\" x=\"216.265685\" xlink:href=\"#C0_0_2c801f6a0b\" y=\"228.728475\"/>\n    </g>\n    <g clip-path=\"url(#pa5c0957ffd)\">\n     <use style=\"fill:#fde725;stroke:#fde725;stroke-width:0.5;\" x=\"197.285782\" xlink:href=\"#C0_0_2c801f6a0b\" y=\"210.33229\"/>\n    </g>\n    <g clip-path=\"url(#pa5c0957ffd)\">\n     <use style=\"fill:#21918c;stroke:#21918c;stroke-width:0.5;\" x=\"341.341044\" xlink:href=\"#C0_0_2c801f6a0b\" y=\"22.710129\"/>\n    </g>\n    <g clip-path=\"url(#pa5c0957ffd)\">\n     <use style=\"fill:#21918c;stroke:#21918c;stroke-width:0.5;\" x=\"322.072902\" xlink:href=\"#C0_0_2c801f6a0b\" y=\"47.34089\"/>\n    </g>\n    <g clip-path=\"url(#pa5c0957ffd)\">\n     <use style=\"fill:#fde725;stroke:#fde725;stroke-width:0.5;\" x=\"201.186933\" xlink:href=\"#C0_0_2c801f6a0b\" y=\"177.00762\"/>\n    </g>\n    <g clip-path=\"url(#pa5c0957ffd)\">\n     <use style=\"fill:#440154;stroke:#440154;stroke-width:0.5;\" x=\"68.869818\" xlink:href=\"#C0_0_2c801f6a0b\" y=\"198.586569\"/>\n    </g>\n    <g clip-path=\"url(#pa5c0957ffd)\">\n     <use style=\"fill:#21918c;stroke:#21918c;stroke-width:0.5;\" x=\"296.57838\" xlink:href=\"#C0_0_2c801f6a0b\" y=\"146.112412\"/>\n    </g>\n    <g clip-path=\"url(#pa5c0957ffd)\">\n     <use style=\"fill:#21918c;stroke:#21918c;stroke-width:0.5;\" x=\"341.409767\" xlink:href=\"#C0_0_2c801f6a0b\" y=\"50.383412\"/>\n    </g>\n    <g clip-path=\"url(#pa5c0957ffd)\">\n     <use style=\"fill:#440154;stroke:#440154;stroke-width:0.5;\" x=\"138.571261\" xlink:href=\"#C0_0_2c801f6a0b\" y=\"192.298447\"/>\n    </g>\n    <g clip-path=\"url(#pa5c0957ffd)\">\n     <use style=\"fill:#440154;stroke:#440154;stroke-width:0.5;\" x=\"94.140707\" xlink:href=\"#C0_0_2c801f6a0b\" y=\"202.493456\"/>\n    </g>\n    <g clip-path=\"url(#pa5c0957ffd)\">\n     <use style=\"fill:#21918c;stroke:#21918c;stroke-width:0.5;\" x=\"337.720072\" xlink:href=\"#C0_0_2c801f6a0b\" y=\"34.325539\"/>\n    </g>\n    <g clip-path=\"url(#pa5c0957ffd)\">\n     <use style=\"fill:#440154;stroke:#440154;stroke-width:0.5;\" x=\"136.741429\" xlink:href=\"#C0_0_2c801f6a0b\" y=\"187.308642\"/>\n    </g>\n    <g clip-path=\"url(#pa5c0957ffd)\">\n     <use style=\"fill:#fde725;stroke:#fde725;stroke-width:0.5;\" x=\"226.305709\" xlink:href=\"#C0_0_2c801f6a0b\" y=\"178.767996\"/>\n    </g>\n    <g clip-path=\"url(#pa5c0957ffd)\">\n     <use style=\"fill:#fde725;stroke:#fde725;stroke-width:0.5;\" x=\"188.738567\" xlink:href=\"#C0_0_2c801f6a0b\" y=\"204.471282\"/>\n    </g>\n    <g clip-path=\"url(#pa5c0957ffd)\">\n     <use style=\"fill:#fde725;stroke:#fde725;stroke-width:0.5;\" x=\"221.822467\" xlink:href=\"#C0_0_2c801f6a0b\" y=\"225.785252\"/>\n    </g>\n    <g clip-path=\"url(#pa5c0957ffd)\">\n     <use style=\"fill:#fde725;stroke:#fde725;stroke-width:0.5;\" x=\"137.284721\" xlink:href=\"#C0_0_2c801f6a0b\" y=\"204.693591\"/>\n    </g>\n    <g clip-path=\"url(#pa5c0957ffd)\">\n     <use style=\"fill:#21918c;stroke:#21918c;stroke-width:0.5;\" x=\"272.892225\" xlink:href=\"#C0_0_2c801f6a0b\" y=\"66.327458\"/>\n    </g>\n    <g clip-path=\"url(#pa5c0957ffd)\">\n     <use style=\"fill:#fde725;stroke:#fde725;stroke-width:0.5;\" x=\"260.178456\" xlink:href=\"#C0_0_2c801f6a0b\" y=\"164.090721\"/>\n    </g>\n    <g clip-path=\"url(#pa5c0957ffd)\">\n     <use style=\"fill:#440154;stroke:#440154;stroke-width:0.5;\" x=\"98.733614\" xlink:href=\"#C0_0_2c801f6a0b\" y=\"192.876967\"/>\n    </g>\n    <g clip-path=\"url(#pa5c0957ffd)\">\n     <use style=\"fill:#fde725;stroke:#fde725;stroke-width:0.5;\" x=\"245.519237\" xlink:href=\"#C0_0_2c801f6a0b\" y=\"137.471459\"/>\n    </g>\n    <g clip-path=\"url(#pa5c0957ffd)\">\n     <use style=\"fill:#21918c;stroke:#21918c;stroke-width:0.5;\" x=\"254.526663\" xlink:href=\"#C0_0_2c801f6a0b\" y=\"124.737714\"/>\n    </g>\n    <g clip-path=\"url(#pa5c0957ffd)\">\n     <use style=\"fill:#fde725;stroke:#fde725;stroke-width:0.5;\" x=\"201.273902\" xlink:href=\"#C0_0_2c801f6a0b\" y=\"194.465991\"/>\n    </g>\n    <g clip-path=\"url(#pa5c0957ffd)\">\n     <use style=\"fill:#21918c;stroke:#21918c;stroke-width:0.5;\" x=\"324.124101\" xlink:href=\"#C0_0_2c801f6a0b\" y=\"33.208161\"/>\n    </g>\n    <g clip-path=\"url(#pa5c0957ffd)\">\n     <use style=\"fill:#fde725;stroke:#fde725;stroke-width:0.5;\" x=\"198.550005\" xlink:href=\"#C0_0_2c801f6a0b\" y=\"183.275366\"/>\n    </g>\n    <g clip-path=\"url(#pa5c0957ffd)\">\n     <use style=\"fill:#fde725;stroke:#fde725;stroke-width:0.5;\" x=\"215.253234\" xlink:href=\"#C0_0_2c801f6a0b\" y=\"179.633296\"/>\n    </g>\n    <g clip-path=\"url(#pa5c0957ffd)\">\n     <use style=\"fill:#fde725;stroke:#fde725;stroke-width:0.5;\" x=\"233.711491\" xlink:href=\"#C0_0_2c801f6a0b\" y=\"201.215657\"/>\n    </g>\n    <g clip-path=\"url(#pa5c0957ffd)\">\n     <use style=\"fill:#21918c;stroke:#21918c;stroke-width:0.5;\" x=\"341.868634\" xlink:href=\"#C0_0_2c801f6a0b\" y=\"19.412677\"/>\n    </g>\n    <g clip-path=\"url(#pa5c0957ffd)\">\n     <use style=\"fill:#fde725;stroke:#fde725;stroke-width:0.5;\" x=\"269.428064\" xlink:href=\"#C0_0_2c801f6a0b\" y=\"173.105699\"/>\n    </g>\n    <g clip-path=\"url(#pa5c0957ffd)\">\n     <use style=\"fill:#fde725;stroke:#fde725;stroke-width:0.5;\" x=\"158.245979\" xlink:href=\"#C0_0_2c801f6a0b\" y=\"194.639156\"/>\n    </g>\n    <g clip-path=\"url(#pa5c0957ffd)\">\n     <use style=\"fill:#fde725;stroke:#fde725;stroke-width:0.5;\" x=\"176.3554\" xlink:href=\"#C0_0_2c801f6a0b\" y=\"170.856434\"/>\n    </g>\n    <g clip-path=\"url(#pa5c0957ffd)\">\n     <use style=\"fill:#fde725;stroke:#fde725;stroke-width:0.5;\" x=\"215.502716\" xlink:href=\"#C0_0_2c801f6a0b\" y=\"170.399661\"/>\n    </g>\n    <g clip-path=\"url(#pa5c0957ffd)\">\n     <use style=\"fill:#fde725;stroke:#fde725;stroke-width:0.5;\" x=\"243.526449\" xlink:href=\"#C0_0_2c801f6a0b\" y=\"131.082052\"/>\n    </g>\n    <g clip-path=\"url(#pa5c0957ffd)\">\n     <use style=\"fill:#21918c;stroke:#21918c;stroke-width:0.5;\" x=\"314.666346\" xlink:href=\"#C0_0_2c801f6a0b\" y=\"30.522754\"/>\n    </g>\n    <g clip-path=\"url(#pa5c0957ffd)\">\n     <use style=\"fill:#440154;stroke:#440154;stroke-width:0.5;\" x=\"75.329092\" xlink:href=\"#C0_0_2c801f6a0b\" y=\"201.544514\"/>\n    </g>\n    <g clip-path=\"url(#pa5c0957ffd)\">\n     <use style=\"fill:#fde725;stroke:#fde725;stroke-width:0.5;\" x=\"139.943944\" xlink:href=\"#C0_0_2c801f6a0b\" y=\"161.723039\"/>\n    </g>\n    <g clip-path=\"url(#pa5c0957ffd)\">\n     <use style=\"fill:#440154;stroke:#440154;stroke-width:0.5;\" x=\"69.693917\" xlink:href=\"#C0_0_2c801f6a0b\" y=\"197.84828\"/>\n    </g>\n    <g clip-path=\"url(#pa5c0957ffd)\">\n     <use style=\"fill:#21918c;stroke:#21918c;stroke-width:0.5;\" x=\"319.028773\" xlink:href=\"#C0_0_2c801f6a0b\" y=\"35.986732\"/>\n    </g>\n    <g clip-path=\"url(#pa5c0957ffd)\">\n     <use style=\"fill:#21918c;stroke:#21918c;stroke-width:0.5;\" x=\"248.814184\" xlink:href=\"#C0_0_2c801f6a0b\" y=\"119.325173\"/>\n    </g>\n    <g clip-path=\"url(#pa5c0957ffd)\">\n     <use style=\"fill:#21918c;stroke:#21918c;stroke-width:0.5;\" x=\"319.989584\" xlink:href=\"#C0_0_2c801f6a0b\" y=\"41.547122\"/>\n    </g>\n    <g clip-path=\"url(#pa5c0957ffd)\">\n     <use style=\"fill:#21918c;stroke:#21918c;stroke-width:0.5;\" x=\"260.887905\" xlink:href=\"#C0_0_2c801f6a0b\" y=\"117.574552\"/>\n    </g>\n    <g clip-path=\"url(#pa5c0957ffd)\">\n     <use style=\"fill:#21918c;stroke:#21918c;stroke-width:0.5;\" x=\"393.190893\" xlink:href=\"#C0_0_2c801f6a0b\" y=\"41.484558\"/>\n    </g>\n    <g clip-path=\"url(#pa5c0957ffd)\">\n     <use style=\"fill:#440154;stroke:#440154;stroke-width:0.5;\" x=\"92.843338\" xlink:href=\"#C0_0_2c801f6a0b\" y=\"200.813124\"/>\n    </g>\n    <g clip-path=\"url(#pa5c0957ffd)\">\n     <use style=\"fill:#fde725;stroke:#fde725;stroke-width:0.5;\" x=\"288.389675\" xlink:href=\"#C0_0_2c801f6a0b\" y=\"140.024561\"/>\n    </g>\n    <g clip-path=\"url(#pa5c0957ffd)\">\n     <use style=\"fill:#21918c;stroke:#21918c;stroke-width:0.5;\" x=\"310.563453\" xlink:href=\"#C0_0_2c801f6a0b\" y=\"140.017418\"/>\n    </g>\n    <g clip-path=\"url(#pa5c0957ffd)\">\n     <use style=\"fill:#fde725;stroke:#fde725;stroke-width:0.5;\" x=\"194.71487\" xlink:href=\"#C0_0_2c801f6a0b\" y=\"187.23978\"/>\n    </g>\n    <g clip-path=\"url(#pa5c0957ffd)\">\n     <use style=\"fill:#21918c;stroke:#21918c;stroke-width:0.5;\" x=\"259.525392\" xlink:href=\"#C0_0_2c801f6a0b\" y=\"119.276099\"/>\n    </g>\n    <g clip-path=\"url(#pa5c0957ffd)\">\n     <use style=\"fill:#440154;stroke:#440154;stroke-width:0.5;\" x=\"109.290512\" xlink:href=\"#C0_0_2c801f6a0b\" y=\"192.677318\"/>\n    </g>\n    <g clip-path=\"url(#pa5c0957ffd)\">\n     <use style=\"fill:#440154;stroke:#440154;stroke-width:0.5;\" x=\"156.436808\" xlink:href=\"#C0_0_2c801f6a0b\" y=\"201.997796\"/>\n    </g>\n    <g clip-path=\"url(#pa5c0957ffd)\">\n     <use style=\"fill:#fde725;stroke:#fde725;stroke-width:0.5;\" x=\"189.773335\" xlink:href=\"#C0_0_2c801f6a0b\" y=\"215.043479\"/>\n    </g>\n    <g clip-path=\"url(#pa5c0957ffd)\">\n     <use style=\"fill:#440154;stroke:#440154;stroke-width:0.5;\" x=\"78.03569\" xlink:href=\"#C0_0_2c801f6a0b\" y=\"218.076195\"/>\n    </g>\n    <g clip-path=\"url(#pa5c0957ffd)\">\n     <use style=\"fill:#fde725;stroke:#fde725;stroke-width:0.5;\" x=\"285.71116\" xlink:href=\"#C0_0_2c801f6a0b\" y=\"142.609705\"/>\n    </g>\n    <g clip-path=\"url(#pa5c0957ffd)\">\n     <use style=\"fill:#fde725;stroke:#fde725;stroke-width:0.5;\" x=\"196.503713\" xlink:href=\"#C0_0_2c801f6a0b\" y=\"199.527698\"/>\n    </g>\n    <g clip-path=\"url(#pa5c0957ffd)\">\n     <use style=\"fill:#440154;stroke:#440154;stroke-width:0.5;\" x=\"66.644808\" xlink:href=\"#C0_0_2c801f6a0b\" y=\"202.224112\"/>\n    </g>\n    <g clip-path=\"url(#pa5c0957ffd)\">\n     <use style=\"fill:#440154;stroke:#440154;stroke-width:0.5;\" x=\"132.84404\" xlink:href=\"#C0_0_2c801f6a0b\" y=\"183.783178\"/>\n    </g>\n    <g clip-path=\"url(#pa5c0957ffd)\">\n     <use style=\"fill:#21918c;stroke:#21918c;stroke-width:0.5;\" x=\"325.182362\" xlink:href=\"#C0_0_2c801f6a0b\" y=\"62.759603\"/>\n    </g>\n    <g clip-path=\"url(#pa5c0957ffd)\">\n     <use style=\"fill:#440154;stroke:#440154;stroke-width:0.5;\" x=\"106.976612\" xlink:href=\"#C0_0_2c801f6a0b\" y=\"192.355025\"/>\n    </g>\n    <g clip-path=\"url(#pa5c0957ffd)\">\n     <use style=\"fill:#440154;stroke:#440154;stroke-width:0.5;\" x=\"91.907927\" xlink:href=\"#C0_0_2c801f6a0b\" y=\"218.978846\"/>\n    </g>\n    <g clip-path=\"url(#pa5c0957ffd)\">\n     <use style=\"fill:#21918c;stroke:#21918c;stroke-width:0.5;\" x=\"371.348931\" xlink:href=\"#C0_0_2c801f6a0b\" y=\"29.203366\"/>\n    </g>\n    <g clip-path=\"url(#pa5c0957ffd)\">\n     <use style=\"fill:#21918c;stroke:#21918c;stroke-width:0.5;\" x=\"325.6657\" xlink:href=\"#C0_0_2c801f6a0b\" y=\"23.551558\"/>\n    </g>\n    <g clip-path=\"url(#pa5c0957ffd)\">\n     <use style=\"fill:#440154;stroke:#440154;stroke-width:0.5;\" x=\"84.776436\" xlink:href=\"#C0_0_2c801f6a0b\" y=\"215.95225\"/>\n    </g>\n    <g clip-path=\"url(#pa5c0957ffd)\">\n     <use style=\"fill:#fde725;stroke:#fde725;stroke-width:0.5;\" x=\"284.196861\" xlink:href=\"#C0_0_2c801f6a0b\" y=\"143.687001\"/>\n    </g>\n    <g clip-path=\"url(#pa5c0957ffd)\">\n     <use style=\"fill:#fde725;stroke:#fde725;stroke-width:0.5;\" x=\"164.505293\" xlink:href=\"#C0_0_2c801f6a0b\" y=\"201.539615\"/>\n    </g>\n    <g clip-path=\"url(#pa5c0957ffd)\">\n     <use style=\"fill:#fde725;stroke:#fde725;stroke-width:0.5;\" x=\"203.9361\" xlink:href=\"#C0_0_2c801f6a0b\" y=\"197.773237\"/>\n    </g>\n    <g clip-path=\"url(#pa5c0957ffd)\">\n     <use style=\"fill:#21918c;stroke:#21918c;stroke-width:0.5;\" x=\"335.240305\" xlink:href=\"#C0_0_2c801f6a0b\" y=\"47.430407\"/>\n    </g>\n    <g clip-path=\"url(#pa5c0957ffd)\">\n     <use style=\"fill:#fde725;stroke:#fde725;stroke-width:0.5;\" x=\"204.620716\" xlink:href=\"#C0_0_2c801f6a0b\" y=\"119.754507\"/>\n    </g>\n    <g clip-path=\"url(#pa5c0957ffd)\">\n     <use style=\"fill:#21918c;stroke:#21918c;stroke-width:0.5;\" x=\"301.323684\" xlink:href=\"#C0_0_2c801f6a0b\" y=\"145.394264\"/>\n    </g>\n    <g clip-path=\"url(#pa5c0957ffd)\">\n     <use style=\"fill:#21918c;stroke:#21918c;stroke-width:0.5;\" x=\"381.23931\" xlink:href=\"#C0_0_2c801f6a0b\" y=\"40.372426\"/>\n    </g>\n    <g clip-path=\"url(#pa5c0957ffd)\">\n     <use style=\"fill:#440154;stroke:#440154;stroke-width:0.5;\" x=\"62.521877\" xlink:href=\"#C0_0_2c801f6a0b\" y=\"213.691357\"/>\n    </g>\n    <g clip-path=\"url(#pa5c0957ffd)\">\n     <use style=\"fill:#440154;stroke:#440154;stroke-width:0.5;\" x=\"119.026648\" xlink:href=\"#C0_0_2c801f6a0b\" y=\"189.446928\"/>\n    </g>\n    <g clip-path=\"url(#pa5c0957ffd)\">\n     <use style=\"fill:#21918c;stroke:#21918c;stroke-width:0.5;\" x=\"361.231827\" xlink:href=\"#C0_0_2c801f6a0b\" y=\"25.75523\"/>\n    </g>\n    <g clip-path=\"url(#pa5c0957ffd)\">\n     <use style=\"fill:#21918c;stroke:#21918c;stroke-width:0.5;\" x=\"319.68451\" xlink:href=\"#C0_0_2c801f6a0b\" y=\"60.517619\"/>\n    </g>\n    <g clip-path=\"url(#pa5c0957ffd)\">\n     <use style=\"fill:#21918c;stroke:#21918c;stroke-width:0.5;\" x=\"279.343175\" xlink:href=\"#C0_0_2c801f6a0b\" y=\"60.686443\"/>\n    </g>\n    <g clip-path=\"url(#pa5c0957ffd)\">\n     <use style=\"fill:#fde725;stroke:#fde725;stroke-width:0.5;\" x=\"143.761694\" xlink:href=\"#C0_0_2c801f6a0b\" y=\"204.356974\"/>\n    </g>\n    <g clip-path=\"url(#pa5c0957ffd)\">\n     <use style=\"fill:#fde725;stroke:#fde725;stroke-width:0.5;\" x=\"141.399383\" xlink:href=\"#C0_0_2c801f6a0b\" y=\"163.819948\"/>\n    </g>\n    <g clip-path=\"url(#pa5c0957ffd)\">\n     <use style=\"fill:#21918c;stroke:#21918c;stroke-width:0.5;\" x=\"276.125256\" xlink:href=\"#C0_0_2c801f6a0b\" y=\"64.485599\"/>\n    </g>\n    <g clip-path=\"url(#pa5c0957ffd)\">\n     <use style=\"fill:#21918c;stroke:#21918c;stroke-width:0.5;\" x=\"394.593403\" xlink:href=\"#C0_0_2c801f6a0b\" y=\"30.96203\"/>\n    </g>\n    <g clip-path=\"url(#pa5c0957ffd)\">\n     <use style=\"fill:#fde725;stroke:#fde725;stroke-width:0.5;\" x=\"234.41384\" xlink:href=\"#C0_0_2c801f6a0b\" y=\"165.439013\"/>\n    </g>\n    <g clip-path=\"url(#pa5c0957ffd)\">\n     <use style=\"fill:#fde725;stroke:#fde725;stroke-width:0.5;\" x=\"187.164413\" xlink:href=\"#C0_0_2c801f6a0b\" y=\"203.105942\"/>\n    </g>\n    <g clip-path=\"url(#pa5c0957ffd)\">\n     <use style=\"fill:#fde725;stroke:#fde725;stroke-width:0.5;\" x=\"222.866562\" xlink:href=\"#C0_0_2c801f6a0b\" y=\"162.282839\"/>\n    </g>\n    <g clip-path=\"url(#pa5c0957ffd)\">\n     <use style=\"fill:#fde725;stroke:#fde725;stroke-width:0.5;\" x=\"152.407859\" xlink:href=\"#C0_0_2c801f6a0b\" y=\"180.70311\"/>\n    </g>\n    <g clip-path=\"url(#pa5c0957ffd)\">\n     <use style=\"fill:#fde725;stroke:#fde725;stroke-width:0.5;\" x=\"172.735609\" xlink:href=\"#C0_0_2c801f6a0b\" y=\"161.190315\"/>\n    </g>\n    <g clip-path=\"url(#pa5c0957ffd)\">\n     <use style=\"fill:#21918c;stroke:#21918c;stroke-width:0.5;\" x=\"323.851334\" xlink:href=\"#C0_0_2c801f6a0b\" y=\"60.520691\"/>\n    </g>\n    <g clip-path=\"url(#pa5c0957ffd)\">\n     <use style=\"fill:#21918c;stroke:#21918c;stroke-width:0.5;\" x=\"385.394377\" xlink:href=\"#C0_0_2c801f6a0b\" y=\"39.334913\"/>\n    </g>\n    <g clip-path=\"url(#pa5c0957ffd)\">\n     <use style=\"fill:#fde725;stroke:#fde725;stroke-width:0.5;\" x=\"192.690573\" xlink:href=\"#C0_0_2c801f6a0b\" y=\"217.846237\"/>\n    </g>\n    <g clip-path=\"url(#pa5c0957ffd)\">\n     <use style=\"fill:#fde725;stroke:#fde725;stroke-width:0.5;\" x=\"220.200519\" xlink:href=\"#C0_0_2c801f6a0b\" y=\"183.420867\"/>\n    </g>\n    <g clip-path=\"url(#pa5c0957ffd)\">\n     <use style=\"fill:#fde725;stroke:#fde725;stroke-width:0.5;\" x=\"249.092015\" xlink:href=\"#C0_0_2c801f6a0b\" y=\"136.145922\"/>\n    </g>\n    <g clip-path=\"url(#pa5c0957ffd)\">\n     <use style=\"fill:#21918c;stroke:#21918c;stroke-width:0.5;\" x=\"299.035216\" xlink:href=\"#C0_0_2c801f6a0b\" y=\"147.394239\"/>\n    </g>\n    <g clip-path=\"url(#pa5c0957ffd)\">\n     <use style=\"fill:#440154;stroke:#440154;stroke-width:0.5;\" x=\"71.14802\" xlink:href=\"#C0_0_2c801f6a0b\" y=\"197.115524\"/>\n    </g>\n    <g clip-path=\"url(#pa5c0957ffd)\">\n     <use style=\"fill:#fde725;stroke:#fde725;stroke-width:0.5;\" x=\"218.687003\" xlink:href=\"#C0_0_2c801f6a0b\" y=\"229.876364\"/>\n    </g>\n    <g clip-path=\"url(#pa5c0957ffd)\">\n     <use style=\"fill:#fde725;stroke:#fde725;stroke-width:0.5;\" x=\"192.961374\" xlink:href=\"#C0_0_2c801f6a0b\" y=\"219.067725\"/>\n    </g>\n    <g clip-path=\"url(#pa5c0957ffd)\">\n     <use style=\"fill:#fde725;stroke:#fde725;stroke-width:0.5;\" x=\"232.142374\" xlink:href=\"#C0_0_2c801f6a0b\" y=\"166.359915\"/>\n    </g>\n    <g clip-path=\"url(#pa5c0957ffd)\">\n     <use style=\"fill:#fde725;stroke:#fde725;stroke-width:0.5;\" x=\"282.516631\" xlink:href=\"#C0_0_2c801f6a0b\" y=\"143.832872\"/>\n    </g>\n    <g clip-path=\"url(#pa5c0957ffd)\">\n     <use style=\"fill:#440154;stroke:#440154;stroke-width:0.5;\" x=\"89.574697\" xlink:href=\"#C0_0_2c801f6a0b\" y=\"216.251122\"/>\n    </g>\n    <g clip-path=\"url(#pa5c0957ffd)\">\n     <use style=\"fill:#fde725;stroke:#fde725;stroke-width:0.5;\" x=\"195.776477\" xlink:href=\"#C0_0_2c801f6a0b\" y=\"217.901388\"/>\n    </g>\n    <g clip-path=\"url(#pa5c0957ffd)\">\n     <use style=\"fill:#21918c;stroke:#21918c;stroke-width:0.5;\" x=\"343.878426\" xlink:href=\"#C0_0_2c801f6a0b\" y=\"21.513565\"/>\n    </g>\n    <g clip-path=\"url(#pa5c0957ffd)\">\n     <use style=\"fill:#fde725;stroke:#fde725;stroke-width:0.5;\" x=\"188.358118\" xlink:href=\"#C0_0_2c801f6a0b\" y=\"167.131642\"/>\n    </g>\n    <g clip-path=\"url(#pa5c0957ffd)\">\n     <use style=\"fill:#21918c;stroke:#21918c;stroke-width:0.5;\" x=\"300.993828\" xlink:href=\"#C0_0_2c801f6a0b\" y=\"146.201984\"/>\n    </g>\n    <g clip-path=\"url(#pa5c0957ffd)\">\n     <use style=\"fill:#440154;stroke:#440154;stroke-width:0.5;\" x=\"87.617433\" xlink:href=\"#C0_0_2c801f6a0b\" y=\"200.93257\"/>\n    </g>\n    <g clip-path=\"url(#pa5c0957ffd)\">\n     <use style=\"fill:#21918c;stroke:#21918c;stroke-width:0.5;\" x=\"395.839501\" xlink:href=\"#C0_0_2c801f6a0b\" y=\"33.324721\"/>\n    </g>\n    <g clip-path=\"url(#pa5c0957ffd)\">\n     <use style=\"fill:#fde725;stroke:#fde725;stroke-width:0.5;\" x=\"271.439012\" xlink:href=\"#C0_0_2c801f6a0b\" y=\"171.451848\"/>\n    </g>\n    <g clip-path=\"url(#pa5c0957ffd)\">\n     <use style=\"fill:#21918c;stroke:#21918c;stroke-width:0.5;\" x=\"337.982246\" xlink:href=\"#C0_0_2c801f6a0b\" y=\"17.803636\"/>\n    </g>\n    <g clip-path=\"url(#pa5c0957ffd)\">\n     <use style=\"fill:#21918c;stroke:#21918c;stroke-width:0.5;\" x=\"311.038307\" xlink:href=\"#C0_0_2c801f6a0b\" y=\"37.556191\"/>\n    </g>\n    <g clip-path=\"url(#pa5c0957ffd)\">\n     <use style=\"fill:#21918c;stroke:#21918c;stroke-width:0.5;\" x=\"299.929831\" xlink:href=\"#C0_0_2c801f6a0b\" y=\"148.624001\"/>\n    </g>\n    <g clip-path=\"url(#pa5c0957ffd)\">\n     <use style=\"fill:#21918c;stroke:#21918c;stroke-width:0.5;\" x=\"357.267626\" xlink:href=\"#C0_0_2c801f6a0b\" y=\"39.794553\"/>\n    </g>\n    <g clip-path=\"url(#pa5c0957ffd)\">\n     <use style=\"fill:#fde725;stroke:#fde725;stroke-width:0.5;\" x=\"165.867124\" xlink:href=\"#C0_0_2c801f6a0b\" y=\"175.039035\"/>\n    </g>\n    <g clip-path=\"url(#pa5c0957ffd)\">\n     <use style=\"fill:#fde725;stroke:#fde725;stroke-width:0.5;\" x=\"238.222104\" xlink:href=\"#C0_0_2c801f6a0b\" y=\"179.952674\"/>\n    </g>\n    <g clip-path=\"url(#pa5c0957ffd)\">\n     <use style=\"fill:#440154;stroke:#440154;stroke-width:0.5;\" x=\"80.330163\" xlink:href=\"#C0_0_2c801f6a0b\" y=\"206.483635\"/>\n    </g>\n    <g clip-path=\"url(#pa5c0957ffd)\">\n     <use style=\"fill:#440154;stroke:#440154;stroke-width:0.5;\" x=\"57.330199\" xlink:href=\"#C0_0_2c801f6a0b\" y=\"195.820586\"/>\n    </g>\n    <g clip-path=\"url(#pa5c0957ffd)\">\n     <use style=\"fill:#fde725;stroke:#fde725;stroke-width:0.5;\" x=\"181.679416\" xlink:href=\"#C0_0_2c801f6a0b\" y=\"192.1711\"/>\n    </g>\n    <g clip-path=\"url(#pa5c0957ffd)\">\n     <use style=\"fill:#440154;stroke:#440154;stroke-width:0.5;\" x=\"118.387478\" xlink:href=\"#C0_0_2c801f6a0b\" y=\"195.458705\"/>\n    </g>\n    <g clip-path=\"url(#pa5c0957ffd)\">\n     <use style=\"fill:#fde725;stroke:#fde725;stroke-width:0.5;\" x=\"185.423125\" xlink:href=\"#C0_0_2c801f6a0b\" y=\"212.866533\"/>\n    </g>\n    <g clip-path=\"url(#pa5c0957ffd)\">\n     <use style=\"fill:#21918c;stroke:#21918c;stroke-width:0.5;\" x=\"388.469577\" xlink:href=\"#C0_0_2c801f6a0b\" y=\"34.084498\"/>\n    </g>\n    <g clip-path=\"url(#pa5c0957ffd)\">\n     <use style=\"fill:#fde725;stroke:#fde725;stroke-width:0.5;\" x=\"253.481519\" xlink:href=\"#C0_0_2c801f6a0b\" y=\"126.9107\"/>\n    </g>\n    <g clip-path=\"url(#pa5c0957ffd)\">\n     <use style=\"fill:#fde725;stroke:#fde725;stroke-width:0.5;\" x=\"137.052792\" xlink:href=\"#C0_0_2c801f6a0b\" y=\"204.714594\"/>\n    </g>\n    <g clip-path=\"url(#pa5c0957ffd)\">\n     <use style=\"fill:#fde725;stroke:#fde725;stroke-width:0.5;\" x=\"201.683319\" xlink:href=\"#C0_0_2c801f6a0b\" y=\"177.728896\"/>\n    </g>\n    <g clip-path=\"url(#pa5c0957ffd)\">\n     <use style=\"fill:#fde725;stroke:#fde725;stroke-width:0.5;\" x=\"264.244814\" xlink:href=\"#C0_0_2c801f6a0b\" y=\"177.011219\"/>\n    </g>\n    <g clip-path=\"url(#pa5c0957ffd)\">\n     <use style=\"fill:#fde725;stroke:#fde725;stroke-width:0.5;\" x=\"246.652254\" xlink:href=\"#C0_0_2c801f6a0b\" y=\"132.592086\"/>\n    </g>\n    <g clip-path=\"url(#pa5c0957ffd)\">\n     <use style=\"fill:#21918c;stroke:#21918c;stroke-width:0.5;\" x=\"223.757427\" xlink:href=\"#C0_0_2c801f6a0b\" y=\"110.979937\"/>\n    </g>\n    <g clip-path=\"url(#pa5c0957ffd)\">\n     <use style=\"fill:#21918c;stroke:#21918c;stroke-width:0.5;\" x=\"321.582394\" xlink:href=\"#C0_0_2c801f6a0b\" y=\"38.565749\"/>\n    </g>\n    <g clip-path=\"url(#pa5c0957ffd)\">\n     <use style=\"fill:#440154;stroke:#440154;stroke-width:0.5;\" x=\"115.509979\" xlink:href=\"#C0_0_2c801f6a0b\" y=\"207.096857\"/>\n    </g>\n    <g clip-path=\"url(#pa5c0957ffd)\">\n     <use style=\"fill:#fde725;stroke:#fde725;stroke-width:0.5;\" x=\"198.158472\" xlink:href=\"#C0_0_2c801f6a0b\" y=\"118.227019\"/>\n    </g>\n    <g clip-path=\"url(#pa5c0957ffd)\">\n     <use style=\"fill:#fde725;stroke:#fde725;stroke-width:0.5;\" x=\"186.306148\" xlink:href=\"#C0_0_2c801f6a0b\" y=\"195.589723\"/>\n    </g>\n    <g clip-path=\"url(#pa5c0957ffd)\">\n     <use style=\"fill:#440154;stroke:#440154;stroke-width:0.5;\" x=\"124.841107\" xlink:href=\"#C0_0_2c801f6a0b\" y=\"195.737848\"/>\n    </g>\n    <g clip-path=\"url(#pa5c0957ffd)\">\n     <use style=\"fill:#440154;stroke:#440154;stroke-width:0.5;\" x=\"112.043594\" xlink:href=\"#C0_0_2c801f6a0b\" y=\"195.630569\"/>\n    </g>\n    <g clip-path=\"url(#pa5c0957ffd)\">\n     <use style=\"fill:#21918c;stroke:#21918c;stroke-width:0.5;\" x=\"329.290331\" xlink:href=\"#C0_0_2c801f6a0b\" y=\"36.796672\"/>\n    </g>\n    <g clip-path=\"url(#pa5c0957ffd)\">\n     <use style=\"fill:#21918c;stroke:#21918c;stroke-width:0.5;\" x=\"327.510697\" xlink:href=\"#C0_0_2c801f6a0b\" y=\"28.655364\"/>\n    </g>\n    <g clip-path=\"url(#pa5c0957ffd)\">\n     <use style=\"fill:#fde725;stroke:#fde725;stroke-width:0.5;\" x=\"200.239399\" xlink:href=\"#C0_0_2c801f6a0b\" y=\"201.86481\"/>\n    </g>\n    <g clip-path=\"url(#pa5c0957ffd)\">\n     <use style=\"fill:#440154;stroke:#440154;stroke-width:0.5;\" x=\"154.468805\" xlink:href=\"#C0_0_2c801f6a0b\" y=\"163.322953\"/>\n    </g>\n    <g clip-path=\"url(#pa5c0957ffd)\">\n     <use style=\"fill:#21918c;stroke:#21918c;stroke-width:0.5;\" x=\"338.193697\" xlink:href=\"#C0_0_2c801f6a0b\" y=\"31.078096\"/>\n    </g>\n    <g clip-path=\"url(#pa5c0957ffd)\">\n     <use style=\"fill:#21918c;stroke:#21918c;stroke-width:0.5;\" x=\"317.366488\" xlink:href=\"#C0_0_2c801f6a0b\" y=\"45.528675\"/>\n    </g>\n    <g clip-path=\"url(#pa5c0957ffd)\">\n     <use style=\"fill:#fde725;stroke:#fde725;stroke-width:0.5;\" x=\"184.753119\" xlink:href=\"#C0_0_2c801f6a0b\" y=\"177.017784\"/>\n    </g>\n    <g clip-path=\"url(#pa5c0957ffd)\">\n     <use style=\"fill:#440154;stroke:#440154;stroke-width:0.5;\" x=\"147.136892\" xlink:href=\"#C0_0_2c801f6a0b\" y=\"224.486697\"/>\n    </g>\n    <g clip-path=\"url(#pa5c0957ffd)\">\n     <use style=\"fill:#440154;stroke:#440154;stroke-width:0.5;\" x=\"83.379937\" xlink:href=\"#C0_0_2c801f6a0b\" y=\"212.252301\"/>\n    </g>\n    <g clip-path=\"url(#pa5c0957ffd)\">\n     <use style=\"fill:#21918c;stroke:#21918c;stroke-width:0.5;\" x=\"397.375561\" xlink:href=\"#C0_0_2c801f6a0b\" y=\"36.382757\"/>\n    </g>\n    <g clip-path=\"url(#pa5c0957ffd)\">\n     <use style=\"fill:#fde725;stroke:#fde725;stroke-width:0.5;\" x=\"173.074546\" xlink:href=\"#C0_0_2c801f6a0b\" y=\"192.337252\"/>\n    </g>\n    <g clip-path=\"url(#pa5c0957ffd)\">\n     <use style=\"fill:#440154;stroke:#440154;stroke-width:0.5;\" x=\"66.042678\" xlink:href=\"#C0_0_2c801f6a0b\" y=\"205.471955\"/>\n    </g>\n    <g clip-path=\"url(#pa5c0957ffd)\">\n     <use style=\"fill:#21918c;stroke:#21918c;stroke-width:0.5;\" x=\"304.158552\" xlink:href=\"#C0_0_2c801f6a0b\" y=\"36.199227\"/>\n    </g>\n    <g clip-path=\"url(#pa5c0957ffd)\">\n     <use style=\"fill:#fde725;stroke:#fde725;stroke-width:0.5;\" x=\"263.7049\" xlink:href=\"#C0_0_2c801f6a0b\" y=\"169.828856\"/>\n    </g>\n    <g clip-path=\"url(#pa5c0957ffd)\">\n     <use style=\"fill:#fde725;stroke:#fde725;stroke-width:0.5;\" x=\"196.410269\" xlink:href=\"#C0_0_2c801f6a0b\" y=\"216.198522\"/>\n    </g>\n    <g clip-path=\"url(#pa5c0957ffd)\">\n     <use style=\"fill:#21918c;stroke:#21918c;stroke-width:0.5;\" x=\"396.656656\" xlink:href=\"#C0_0_2c801f6a0b\" y=\"43.964115\"/>\n    </g>\n    <g clip-path=\"url(#pa5c0957ffd)\">\n     <use style=\"fill:#fde725;stroke:#fde725;stroke-width:0.5;\" x=\"176.974854\" xlink:href=\"#C0_0_2c801f6a0b\" y=\"175.20256\"/>\n    </g>\n    <g clip-path=\"url(#pa5c0957ffd)\">\n     <use style=\"fill:#21918c;stroke:#21918c;stroke-width:0.5;\" x=\"381.617744\" xlink:href=\"#C0_0_2c801f6a0b\" y=\"42.963967\"/>\n    </g>\n    <g clip-path=\"url(#pa5c0957ffd)\">\n     <use style=\"fill:#fde725;stroke:#fde725;stroke-width:0.5;\" x=\"247.953612\" xlink:href=\"#C0_0_2c801f6a0b\" y=\"134.792039\"/>\n    </g>\n    <g clip-path=\"url(#pa5c0957ffd)\">\n     <use style=\"fill:#fde725;stroke:#fde725;stroke-width:0.5;\" x=\"181.43603\" xlink:href=\"#C0_0_2c801f6a0b\" y=\"212.748187\"/>\n    </g>\n    <g clip-path=\"url(#pa5c0957ffd)\">\n     <use style=\"fill:#440154;stroke:#440154;stroke-width:0.5;\" x=\"63.189693\" xlink:href=\"#C0_0_2c801f6a0b\" y=\"214.331504\"/>\n    </g>\n    <g clip-path=\"url(#pa5c0957ffd)\">\n     <use style=\"fill:#fde725;stroke:#fde725;stroke-width:0.5;\" x=\"180.377356\" xlink:href=\"#C0_0_2c801f6a0b\" y=\"175.838676\"/>\n    </g>\n    <g clip-path=\"url(#pa5c0957ffd)\">\n     <use style=\"fill:#fde725;stroke:#fde725;stroke-width:0.5;\" x=\"138.944897\" xlink:href=\"#C0_0_2c801f6a0b\" y=\"195.054972\"/>\n    </g>\n    <g clip-path=\"url(#pa5c0957ffd)\">\n     <use style=\"fill:#fde725;stroke:#fde725;stroke-width:0.5;\" x=\"207.300114\" xlink:href=\"#C0_0_2c801f6a0b\" y=\"165.676876\"/>\n    </g>\n    <g clip-path=\"url(#pa5c0957ffd)\">\n     <use style=\"fill:#fde725;stroke:#fde725;stroke-width:0.5;\" x=\"281.679384\" xlink:href=\"#C0_0_2c801f6a0b\" y=\"187.579866\"/>\n    </g>\n    <g clip-path=\"url(#pa5c0957ffd)\">\n     <use style=\"fill:#fde725;stroke:#fde725;stroke-width:0.5;\" x=\"209.83147\" xlink:href=\"#C0_0_2c801f6a0b\" y=\"227.60526\"/>\n    </g>\n    <g clip-path=\"url(#pa5c0957ffd)\">\n     <use style=\"fill:#fde725;stroke:#fde725;stroke-width:0.5;\" x=\"180.953234\" xlink:href=\"#C0_0_2c801f6a0b\" y=\"168.275409\"/>\n    </g>\n    <g clip-path=\"url(#pa5c0957ffd)\">\n     <use style=\"fill:#440154;stroke:#440154;stroke-width:0.5;\" x=\"70.613518\" xlink:href=\"#C0_0_2c801f6a0b\" y=\"209.565601\"/>\n    </g>\n    <g clip-path=\"url(#pa5c0957ffd)\">\n     <use style=\"fill:#21918c;stroke:#21918c;stroke-width:0.5;\" x=\"312.273779\" xlink:href=\"#C0_0_2c801f6a0b\" y=\"42.324871\"/>\n    </g>\n    <g clip-path=\"url(#pa5c0957ffd)\">\n     <use style=\"fill:#fde725;stroke:#fde725;stroke-width:0.5;\" x=\"274.829555\" xlink:href=\"#C0_0_2c801f6a0b\" y=\"185.992807\"/>\n    </g>\n    <g clip-path=\"url(#pa5c0957ffd)\">\n     <use style=\"fill:#21918c;stroke:#21918c;stroke-width:0.5;\" x=\"320.54838\" xlink:href=\"#C0_0_2c801f6a0b\" y=\"44.971174\"/>\n    </g>\n    <g clip-path=\"url(#pa5c0957ffd)\">\n     <use style=\"fill:#fde725;stroke:#fde725;stroke-width:0.5;\" x=\"205.910299\" xlink:href=\"#C0_0_2c801f6a0b\" y=\"183.697408\"/>\n    </g>\n    <g clip-path=\"url(#pa5c0957ffd)\">\n     <use style=\"fill:#fde725;stroke:#fde725;stroke-width:0.5;\" x=\"219.113518\" xlink:href=\"#C0_0_2c801f6a0b\" y=\"226.609179\"/>\n    </g>\n    <g clip-path=\"url(#pa5c0957ffd)\">\n     <use style=\"fill:#440154;stroke:#440154;stroke-width:0.5;\" x=\"96.147365\" xlink:href=\"#C0_0_2c801f6a0b\" y=\"202.540426\"/>\n    </g>\n    <g clip-path=\"url(#pa5c0957ffd)\">\n     <use style=\"fill:#fde725;stroke:#fde725;stroke-width:0.5;\" x=\"213.613093\" xlink:href=\"#C0_0_2c801f6a0b\" y=\"122.483822\"/>\n    </g>\n    <g clip-path=\"url(#pa5c0957ffd)\">\n     <use style=\"fill:#21918c;stroke:#21918c;stroke-width:0.5;\" x=\"393.426643\" xlink:href=\"#C0_0_2c801f6a0b\" y=\"38.293834\"/>\n    </g>\n    <g clip-path=\"url(#pa5c0957ffd)\">\n     <use style=\"fill:#21918c;stroke:#21918c;stroke-width:0.5;\" x=\"299.343\" xlink:href=\"#C0_0_2c801f6a0b\" y=\"144.207605\"/>\n    </g>\n    <g clip-path=\"url(#pa5c0957ffd)\">\n     <use style=\"fill:#440154;stroke:#440154;stroke-width:0.5;\" x=\"141.470875\" xlink:href=\"#C0_0_2c801f6a0b\" y=\"190.129141\"/>\n    </g>\n    <g clip-path=\"url(#pa5c0957ffd)\">\n     <use style=\"fill:#21918c;stroke:#21918c;stroke-width:0.5;\" x=\"295.65564\" xlink:href=\"#C0_0_2c801f6a0b\" y=\"148.110764\"/>\n    </g>\n    <g clip-path=\"url(#pa5c0957ffd)\">\n     <use style=\"fill:#fde725;stroke:#fde725;stroke-width:0.5;\" x=\"295.421822\" xlink:href=\"#C0_0_2c801f6a0b\" y=\"149.45041\"/>\n    </g>\n    <g clip-path=\"url(#pa5c0957ffd)\">\n     <use style=\"fill:#21918c;stroke:#21918c;stroke-width:0.5;\" x=\"313.739404\" xlink:href=\"#C0_0_2c801f6a0b\" y=\"60.750754\"/>\n    </g>\n    <g clip-path=\"url(#pa5c0957ffd)\">\n     <use style=\"fill:#fde725;stroke:#fde725;stroke-width:0.5;\" x=\"235.958494\" xlink:href=\"#C0_0_2c801f6a0b\" y=\"198.535634\"/>\n    </g>\n    <g clip-path=\"url(#pa5c0957ffd)\">\n     <use style=\"fill:#fde725;stroke:#fde725;stroke-width:0.5;\" x=\"169.389396\" xlink:href=\"#C0_0_2c801f6a0b\" y=\"164.781475\"/>\n    </g>\n    <g clip-path=\"url(#pa5c0957ffd)\">\n     <use style=\"fill:#21918c;stroke:#21918c;stroke-width:0.5;\" x=\"328.560285\" xlink:href=\"#C0_0_2c801f6a0b\" y=\"56.73464\"/>\n    </g>\n    <g clip-path=\"url(#pa5c0957ffd)\">\n     <use style=\"fill:#440154;stroke:#440154;stroke-width:0.5;\" x=\"122.497809\" xlink:href=\"#C0_0_2c801f6a0b\" y=\"205.529964\"/>\n    </g>\n    <g clip-path=\"url(#pa5c0957ffd)\">\n     <use style=\"fill:#440154;stroke:#440154;stroke-width:0.5;\" x=\"76.91169\" xlink:href=\"#C0_0_2c801f6a0b\" y=\"200.021207\"/>\n    </g>\n    <g clip-path=\"url(#pa5c0957ffd)\">\n     <use style=\"fill:#fde725;stroke:#fde725;stroke-width:0.5;\" x=\"261.934029\" xlink:href=\"#C0_0_2c801f6a0b\" y=\"180.176944\"/>\n    </g>\n    <g clip-path=\"url(#pa5c0957ffd)\">\n     <use style=\"fill:#21918c;stroke:#21918c;stroke-width:0.5;\" x=\"247.288341\" xlink:href=\"#C0_0_2c801f6a0b\" y=\"118.649346\"/>\n    </g>\n    <g clip-path=\"url(#pa5c0957ffd)\">\n     <use style=\"fill:#440154;stroke:#440154;stroke-width:0.5;\" x=\"63.288544\" xlink:href=\"#C0_0_2c801f6a0b\" y=\"212.632679\"/>\n    </g>\n    <g clip-path=\"url(#pa5c0957ffd)\">\n     <use style=\"fill:#21918c;stroke:#21918c;stroke-width:0.5;\" x=\"333.015306\" xlink:href=\"#C0_0_2c801f6a0b\" y=\"35.483517\"/>\n    </g>\n    <g clip-path=\"url(#pa5c0957ffd)\">\n     <use style=\"fill:#21918c;stroke:#21918c;stroke-width:0.5;\" x=\"327.841241\" xlink:href=\"#C0_0_2c801f6a0b\" y=\"61.436188\"/>\n    </g>\n    <g clip-path=\"url(#pa5c0957ffd)\">\n     <use style=\"fill:#21918c;stroke:#21918c;stroke-width:0.5;\" x=\"335.695855\" xlink:href=\"#C0_0_2c801f6a0b\" y=\"46.37658\"/>\n    </g>\n    <g clip-path=\"url(#pa5c0957ffd)\">\n     <use style=\"fill:#fde725;stroke:#fde725;stroke-width:0.5;\" x=\"201.371333\" xlink:href=\"#C0_0_2c801f6a0b\" y=\"118.42294\"/>\n    </g>\n    <g clip-path=\"url(#pa5c0957ffd)\">\n     <use style=\"fill:#440154;stroke:#440154;stroke-width:0.5;\" x=\"99.672932\" xlink:href=\"#C0_0_2c801f6a0b\" y=\"182.118358\"/>\n    </g>\n    <g clip-path=\"url(#pa5c0957ffd)\">\n     <use style=\"fill:#21918c;stroke:#21918c;stroke-width:0.5;\" x=\"324.44067\" xlink:href=\"#C0_0_2c801f6a0b\" y=\"29.487585\"/>\n    </g>\n    <g clip-path=\"url(#pa5c0957ffd)\">\n     <use style=\"fill:#fde725;stroke:#fde725;stroke-width:0.5;\" x=\"259.9965\" xlink:href=\"#C0_0_2c801f6a0b\" y=\"164.718538\"/>\n    </g>\n    <g clip-path=\"url(#pa5c0957ffd)\">\n     <use style=\"fill:#fde725;stroke:#fde725;stroke-width:0.5;\" x=\"188.145723\" xlink:href=\"#C0_0_2c801f6a0b\" y=\"165.268245\"/>\n    </g>\n    <g clip-path=\"url(#pa5c0957ffd)\">\n     <use style=\"fill:#fde725;stroke:#fde725;stroke-width:0.5;\" x=\"200.675928\" xlink:href=\"#C0_0_2c801f6a0b\" y=\"122.611732\"/>\n    </g>\n    <g clip-path=\"url(#pa5c0957ffd)\">\n     <use style=\"fill:#fde725;stroke:#fde725;stroke-width:0.5;\" x=\"212.895238\" xlink:href=\"#C0_0_2c801f6a0b\" y=\"168.42266\"/>\n    </g>\n    <g clip-path=\"url(#pa5c0957ffd)\">\n     <use style=\"fill:#fde725;stroke:#fde725;stroke-width:0.5;\" x=\"196.71112\" xlink:href=\"#C0_0_2c801f6a0b\" y=\"119.713692\"/>\n    </g>\n    <g clip-path=\"url(#pa5c0957ffd)\">\n     <use style=\"fill:#fde725;stroke:#fde725;stroke-width:0.5;\" x=\"140.844236\" xlink:href=\"#C0_0_2c801f6a0b\" y=\"161.571237\"/>\n    </g>\n    <g clip-path=\"url(#pa5c0957ffd)\">\n     <use style=\"fill:#21918c;stroke:#21918c;stroke-width:0.5;\" x=\"314.746854\" xlink:href=\"#C0_0_2c801f6a0b\" y=\"49.937653\"/>\n    </g>\n    <g clip-path=\"url(#pa5c0957ffd)\">\n     <use style=\"fill:#440154;stroke:#440154;stroke-width:0.5;\" x=\"125.600905\" xlink:href=\"#C0_0_2c801f6a0b\" y=\"177.279197\"/>\n    </g>\n    <g clip-path=\"url(#pa5c0957ffd)\">\n     <use style=\"fill:#fde725;stroke:#fde725;stroke-width:0.5;\" x=\"238.941315\" xlink:href=\"#C0_0_2c801f6a0b\" y=\"176.752858\"/>\n    </g>\n    <g clip-path=\"url(#pa5c0957ffd)\">\n     <use style=\"fill:#21918c;stroke:#21918c;stroke-width:0.5;\" x=\"320.110265\" xlink:href=\"#C0_0_2c801f6a0b\" y=\"54.614527\"/>\n    </g>\n    <g clip-path=\"url(#pa5c0957ffd)\">\n     <use style=\"fill:#440154;stroke:#440154;stroke-width:0.5;\" x=\"100.348508\" xlink:href=\"#C0_0_2c801f6a0b\" y=\"187.38828\"/>\n    </g>\n    <g clip-path=\"url(#pa5c0957ffd)\">\n     <use style=\"fill:#440154;stroke:#440154;stroke-width:0.5;\" x=\"115.471705\" xlink:href=\"#C0_0_2c801f6a0b\" y=\"207.209624\"/>\n    </g>\n    <g clip-path=\"url(#pa5c0957ffd)\">\n     <use style=\"fill:#fde725;stroke:#fde725;stroke-width:0.5;\" x=\"195.721371\" xlink:href=\"#C0_0_2c801f6a0b\" y=\"121.187838\"/>\n    </g>\n    <g clip-path=\"url(#pa5c0957ffd)\">\n     <use style=\"fill:#440154;stroke:#440154;stroke-width:0.5;\" x=\"82.954783\" xlink:href=\"#C0_0_2c801f6a0b\" y=\"205.572354\"/>\n    </g>\n    <g clip-path=\"url(#pa5c0957ffd)\">\n     <use style=\"fill:#fde725;stroke:#fde725;stroke-width:0.5;\" x=\"237.030464\" xlink:href=\"#C0_0_2c801f6a0b\" y=\"142.421169\"/>\n    </g>\n    <g clip-path=\"url(#pa5c0957ffd)\">\n     <use style=\"fill:#440154;stroke:#440154;stroke-width:0.5;\" x=\"155.095481\" xlink:href=\"#C0_0_2c801f6a0b\" y=\"165.614152\"/>\n    </g>\n    <g clip-path=\"url(#pa5c0957ffd)\">\n     <use style=\"fill:#fde725;stroke:#fde725;stroke-width:0.5;\" x=\"223.784402\" xlink:href=\"#C0_0_2c801f6a0b\" y=\"185.599849\"/>\n    </g>\n    <g clip-path=\"url(#pa5c0957ffd)\">\n     <use style=\"fill:#21918c;stroke:#21918c;stroke-width:0.5;\" x=\"326.137639\" xlink:href=\"#C0_0_2c801f6a0b\" y=\"37.832165\"/>\n    </g>\n    <g clip-path=\"url(#pa5c0957ffd)\">\n     <use style=\"fill:#440154;stroke:#440154;stroke-width:0.5;\" x=\"90.931431\" xlink:href=\"#C0_0_2c801f6a0b\" y=\"192.447825\"/>\n    </g>\n    <g clip-path=\"url(#pa5c0957ffd)\">\n     <use style=\"fill:#fde725;stroke:#fde725;stroke-width:0.5;\" x=\"218.30032\" xlink:href=\"#C0_0_2c801f6a0b\" y=\"177.088804\"/>\n    </g>\n    <g clip-path=\"url(#pa5c0957ffd)\">\n     <use style=\"fill:#fde725;stroke:#fde725;stroke-width:0.5;\" x=\"222.505097\" xlink:href=\"#C0_0_2c801f6a0b\" y=\"228.456164\"/>\n    </g>\n    <g clip-path=\"url(#pa5c0957ffd)\">\n     <use style=\"fill:#fde725;stroke:#fde725;stroke-width:0.5;\" x=\"275.954497\" xlink:href=\"#C0_0_2c801f6a0b\" y=\"173.371719\"/>\n    </g>\n    <g clip-path=\"url(#pa5c0957ffd)\">\n     <use style=\"fill:#440154;stroke:#440154;stroke-width:0.5;\" x=\"117.222146\" xlink:href=\"#C0_0_2c801f6a0b\" y=\"185.584716\"/>\n    </g>\n    <g clip-path=\"url(#pa5c0957ffd)\">\n     <use style=\"fill:#21918c;stroke:#21918c;stroke-width:0.5;\" x=\"327.101514\" xlink:href=\"#C0_0_2c801f6a0b\" y=\"30.534727\"/>\n    </g>\n    <g clip-path=\"url(#pa5c0957ffd)\">\n     <use style=\"fill:#fde725;stroke:#fde725;stroke-width:0.5;\" x=\"189.943176\" xlink:href=\"#C0_0_2c801f6a0b\" y=\"190.288487\"/>\n    </g>\n    <g clip-path=\"url(#pa5c0957ffd)\">\n     <use style=\"fill:#21918c;stroke:#21918c;stroke-width:0.5;\" x=\"309.75504\" xlink:href=\"#C0_0_2c801f6a0b\" y=\"40.945562\"/>\n    </g>\n    <g clip-path=\"url(#pa5c0957ffd)\">\n     <use style=\"fill:#21918c;stroke:#21918c;stroke-width:0.5;\" x=\"305.721289\" xlink:href=\"#C0_0_2c801f6a0b\" y=\"138.925084\"/>\n    </g>\n    <g clip-path=\"url(#pa5c0957ffd)\">\n     <use style=\"fill:#fde725;stroke:#fde725;stroke-width:0.5;\" x=\"204.278297\" xlink:href=\"#C0_0_2c801f6a0b\" y=\"165.554856\"/>\n    </g>\n    <g clip-path=\"url(#pa5c0957ffd)\">\n     <use style=\"fill:#21918c;stroke:#21918c;stroke-width:0.5;\" x=\"397.058992\" xlink:href=\"#C0_0_2c801f6a0b\" y=\"38.871723\"/>\n    </g>\n    <g clip-path=\"url(#pa5c0957ffd)\">\n     <use style=\"fill:#440154;stroke:#440154;stroke-width:0.5;\" x=\"152.77834\" xlink:href=\"#C0_0_2c801f6a0b\" y=\"194.158667\"/>\n    </g>\n    <g clip-path=\"url(#pa5c0957ffd)\">\n     <use style=\"fill:#fde725;stroke:#fde725;stroke-width:0.5;\" x=\"172.024271\" xlink:href=\"#C0_0_2c801f6a0b\" y=\"172.164581\"/>\n    </g>\n    <g clip-path=\"url(#pa5c0957ffd)\">\n     <use style=\"fill:#fde725;stroke:#fde725;stroke-width:0.5;\" x=\"279.073423\" xlink:href=\"#C0_0_2c801f6a0b\" y=\"188.57197\"/>\n    </g>\n    <g clip-path=\"url(#pa5c0957ffd)\">\n     <use style=\"fill:#21918c;stroke:#21918c;stroke-width:0.5;\" x=\"388.4563\" xlink:href=\"#C0_0_2c801f6a0b\" y=\"44.795341\"/>\n    </g>\n    <g clip-path=\"url(#pa5c0957ffd)\">\n     <use style=\"fill:#fde725;stroke:#fde725;stroke-width:0.5;\" x=\"218.431639\" xlink:href=\"#C0_0_2c801f6a0b\" y=\"227.186058\"/>\n    </g>\n    <g clip-path=\"url(#pa5c0957ffd)\">\n     <use style=\"fill:#21918c;stroke:#21918c;stroke-width:0.5;\" x=\"374.256976\" xlink:href=\"#C0_0_2c801f6a0b\" y=\"30.33262\"/>\n    </g>\n    <g clip-path=\"url(#pa5c0957ffd)\">\n     <use style=\"fill:#21918c;stroke:#21918c;stroke-width:0.5;\" x=\"341.858341\" xlink:href=\"#C0_0_2c801f6a0b\" y=\"46.326215\"/>\n    </g>\n    <g clip-path=\"url(#pa5c0957ffd)\">\n     <use style=\"fill:#fde725;stroke:#fde725;stroke-width:0.5;\" x=\"196.306549\" xlink:href=\"#C0_0_2c801f6a0b\" y=\"192.8847\"/>\n    </g>\n    <g clip-path=\"url(#pa5c0957ffd)\">\n     <use style=\"fill:#fde725;stroke:#fde725;stroke-width:0.5;\" x=\"183.342447\" xlink:href=\"#C0_0_2c801f6a0b\" y=\"165.982163\"/>\n    </g>\n    <g clip-path=\"url(#pa5c0957ffd)\">\n     <use style=\"fill:#21918c;stroke:#21918c;stroke-width:0.5;\" x=\"328.035797\" xlink:href=\"#C0_0_2c801f6a0b\" y=\"48.614141\"/>\n    </g>\n    <g clip-path=\"url(#pa5c0957ffd)\">\n     <use style=\"fill:#440154;stroke:#440154;stroke-width:0.5;\" x=\"113.084295\" xlink:href=\"#C0_0_2c801f6a0b\" y=\"183.718387\"/>\n    </g>\n    <g clip-path=\"url(#pa5c0957ffd)\">\n     <use style=\"fill:#fde725;stroke:#fde725;stroke-width:0.5;\" x=\"139.888422\" xlink:href=\"#C0_0_2c801f6a0b\" y=\"183.027447\"/>\n    </g>\n    <g clip-path=\"url(#pa5c0957ffd)\">\n     <use style=\"fill:#fde725;stroke:#fde725;stroke-width:0.5;\" x=\"219.838427\" xlink:href=\"#C0_0_2c801f6a0b\" y=\"228.948239\"/>\n    </g>\n    <g clip-path=\"url(#pa5c0957ffd)\">\n     <use style=\"fill:#440154;stroke:#440154;stroke-width:0.5;\" x=\"122.950644\" xlink:href=\"#C0_0_2c801f6a0b\" y=\"196.400941\"/>\n    </g>\n    <g clip-path=\"url(#pa5c0957ffd)\">\n     <use style=\"fill:#fde725;stroke:#fde725;stroke-width:0.5;\" x=\"251.428626\" xlink:href=\"#C0_0_2c801f6a0b\" y=\"183.541482\"/>\n    </g>\n    <g clip-path=\"url(#pa5c0957ffd)\">\n     <use style=\"fill:#fde725;stroke:#fde725;stroke-width:0.5;\" x=\"217.239144\" xlink:href=\"#C0_0_2c801f6a0b\" y=\"173.47828\"/>\n    </g>\n    <g clip-path=\"url(#pa5c0957ffd)\">\n     <use style=\"fill:#fde725;stroke:#fde725;stroke-width:0.5;\" x=\"195.386094\" xlink:href=\"#C0_0_2c801f6a0b\" y=\"203.509704\"/>\n    </g>\n    <g clip-path=\"url(#pa5c0957ffd)\">\n     <use style=\"fill:#21918c;stroke:#21918c;stroke-width:0.5;\" x=\"338.404567\" xlink:href=\"#C0_0_2c801f6a0b\" y=\"22.085222\"/>\n    </g>\n    <g clip-path=\"url(#pa5c0957ffd)\">\n     <use style=\"fill:#fde725;stroke:#fde725;stroke-width:0.5;\" x=\"147.902115\" xlink:href=\"#C0_0_2c801f6a0b\" y=\"222.69614\"/>\n    </g>\n    <g clip-path=\"url(#pa5c0957ffd)\">\n     <use style=\"fill:#fde725;stroke:#fde725;stroke-width:0.5;\" x=\"236.353171\" xlink:href=\"#C0_0_2c801f6a0b\" y=\"142.951371\"/>\n    </g>\n    <g clip-path=\"url(#pa5c0957ffd)\">\n     <use style=\"fill:#fde725;stroke:#fde725;stroke-width:0.5;\" x=\"150.470381\" xlink:href=\"#C0_0_2c801f6a0b\" y=\"175.440963\"/>\n    </g>\n    <g clip-path=\"url(#pa5c0957ffd)\">\n     <use style=\"fill:#fde725;stroke:#fde725;stroke-width:0.5;\" x=\"237.281438\" xlink:href=\"#C0_0_2c801f6a0b\" y=\"173.280009\"/>\n    </g>\n    <g clip-path=\"url(#pa5c0957ffd)\">\n     <use style=\"fill:#21918c;stroke:#21918c;stroke-width:0.5;\" x=\"303.842697\" xlink:href=\"#C0_0_2c801f6a0b\" y=\"149.932299\"/>\n    </g>\n    <g clip-path=\"url(#pa5c0957ffd)\">\n     <use style=\"fill:#fde725;stroke:#fde725;stroke-width:0.5;\" x=\"168.28508\" xlink:href=\"#C0_0_2c801f6a0b\" y=\"205.724831\"/>\n    </g>\n    <g clip-path=\"url(#pa5c0957ffd)\">\n     <use style=\"fill:#21918c;stroke:#21918c;stroke-width:0.5;\" x=\"321.795744\" xlink:href=\"#C0_0_2c801f6a0b\" y=\"55.994532\"/>\n    </g>\n    <g clip-path=\"url(#pa5c0957ffd)\">\n     <use style=\"fill:#fde725;stroke:#fde725;stroke-width:0.5;\" x=\"211.785598\" xlink:href=\"#C0_0_2c801f6a0b\" y=\"175.212445\"/>\n    </g>\n    <g clip-path=\"url(#pa5c0957ffd)\">\n     <use style=\"fill:#440154;stroke:#440154;stroke-width:0.5;\" x=\"110.114182\" xlink:href=\"#C0_0_2c801f6a0b\" y=\"183.907005\"/>\n    </g>\n    <g clip-path=\"url(#pa5c0957ffd)\">\n     <use style=\"fill:#440154;stroke:#440154;stroke-width:0.5;\" x=\"95.756299\" xlink:href=\"#C0_0_2c801f6a0b\" y=\"218.645256\"/>\n    </g>\n    <g clip-path=\"url(#pa5c0957ffd)\">\n     <use style=\"fill:#21918c;stroke:#21918c;stroke-width:0.5;\" x=\"281.188812\" xlink:href=\"#C0_0_2c801f6a0b\" y=\"60.353516\"/>\n    </g>\n    <g clip-path=\"url(#pa5c0957ffd)\">\n     <use style=\"fill:#440154;stroke:#440154;stroke-width:0.5;\" x=\"123.744594\" xlink:href=\"#C0_0_2c801f6a0b\" y=\"193.499769\"/>\n    </g>\n    <g clip-path=\"url(#pa5c0957ffd)\">\n     <use style=\"fill:#21918c;stroke:#21918c;stroke-width:0.5;\" x=\"312.888134\" xlink:href=\"#C0_0_2c801f6a0b\" y=\"47.707173\"/>\n    </g>\n    <g clip-path=\"url(#pa5c0957ffd)\">\n     <use style=\"fill:#fde725;stroke:#fde725;stroke-width:0.5;\" x=\"204.069718\" xlink:href=\"#C0_0_2c801f6a0b\" y=\"188.216487\"/>\n    </g>\n    <g clip-path=\"url(#pa5c0957ffd)\">\n     <use style=\"fill:#21918c;stroke:#21918c;stroke-width:0.5;\" x=\"393.340489\" xlink:href=\"#C0_0_2c801f6a0b\" y=\"36.676984\"/>\n    </g>\n    <g clip-path=\"url(#pa5c0957ffd)\">\n     <use style=\"fill:#440154;stroke:#440154;stroke-width:0.5;\" x=\"91.430879\" xlink:href=\"#C0_0_2c801f6a0b\" y=\"187.369302\"/>\n    </g>\n    <g clip-path=\"url(#pa5c0957ffd)\">\n     <use style=\"fill:#fde725;stroke:#fde725;stroke-width:0.5;\" x=\"256.275105\" xlink:href=\"#C0_0_2c801f6a0b\" y=\"168.774094\"/>\n    </g>\n    <g clip-path=\"url(#pa5c0957ffd)\">\n     <use style=\"fill:#21918c;stroke:#21918c;stroke-width:0.5;\" x=\"310.507819\" xlink:href=\"#C0_0_2c801f6a0b\" y=\"52.104355\"/>\n    </g>\n    <g clip-path=\"url(#pa5c0957ffd)\">\n     <use style=\"fill:#440154;stroke:#440154;stroke-width:0.5;\" x=\"92.597349\" xlink:href=\"#C0_0_2c801f6a0b\" y=\"185.7133\"/>\n    </g>\n    <g clip-path=\"url(#pa5c0957ffd)\">\n     <use style=\"fill:#fde725;stroke:#fde725;stroke-width:0.5;\" x=\"244.074023\" xlink:href=\"#C0_0_2c801f6a0b\" y=\"135.911056\"/>\n    </g>\n    <g clip-path=\"url(#pa5c0957ffd)\">\n     <use style=\"fill:#440154;stroke:#440154;stroke-width:0.5;\" x=\"130.858011\" xlink:href=\"#C0_0_2c801f6a0b\" y=\"182.232207\"/>\n    </g>\n    <g clip-path=\"url(#pa5c0957ffd)\">\n     <use style=\"fill:#fde725;stroke:#fde725;stroke-width:0.5;\" x=\"211.665278\" xlink:href=\"#C0_0_2c801f6a0b\" y=\"160.512484\"/>\n    </g>\n    <g clip-path=\"url(#pa5c0957ffd)\">\n     <use style=\"fill:#440154;stroke:#440154;stroke-width:0.5;\" x=\"96.428247\" xlink:href=\"#C0_0_2c801f6a0b\" y=\"197.113301\"/>\n    </g>\n    <g clip-path=\"url(#pa5c0957ffd)\">\n     <use style=\"fill:#fde725;stroke:#fde725;stroke-width:0.5;\" x=\"205.61975\" xlink:href=\"#C0_0_2c801f6a0b\" y=\"183.863376\"/>\n    </g>\n    <g clip-path=\"url(#pa5c0957ffd)\">\n     <use style=\"fill:#440154;stroke:#440154;stroke-width:0.5;\" x=\"121.500233\" xlink:href=\"#C0_0_2c801f6a0b\" y=\"175.442724\"/>\n    </g>\n    <g clip-path=\"url(#pa5c0957ffd)\">\n     <use style=\"fill:#fde725;stroke:#fde725;stroke-width:0.5;\" x=\"267.221746\" xlink:href=\"#C0_0_2c801f6a0b\" y=\"180.122044\"/>\n    </g>\n    <g clip-path=\"url(#pa5c0957ffd)\">\n     <use style=\"fill:#fde725;stroke:#fde725;stroke-width:0.5;\" x=\"219.163259\" xlink:href=\"#C0_0_2c801f6a0b\" y=\"181.530806\"/>\n    </g>\n    <g clip-path=\"url(#pa5c0957ffd)\">\n     <use style=\"fill:#21918c;stroke:#21918c;stroke-width:0.5;\" x=\"316.703496\" xlink:href=\"#C0_0_2c801f6a0b\" y=\"48.977611\"/>\n    </g>\n    <g clip-path=\"url(#pa5c0957ffd)\">\n     <use style=\"fill:#fde725;stroke:#fde725;stroke-width:0.5;\" x=\"210.989426\" xlink:href=\"#C0_0_2c801f6a0b\" y=\"118.440816\"/>\n    </g>\n    <g clip-path=\"url(#pa5c0957ffd)\">\n     <use style=\"fill:#440154;stroke:#440154;stroke-width:0.5;\" x=\"145.801871\" xlink:href=\"#C0_0_2c801f6a0b\" y=\"222.916583\"/>\n    </g>\n    <g clip-path=\"url(#pa5c0957ffd)\">\n     <use style=\"fill:#21918c;stroke:#21918c;stroke-width:0.5;\" x=\"316.935232\" xlink:href=\"#C0_0_2c801f6a0b\" y=\"38.922307\"/>\n    </g>\n    <g clip-path=\"url(#pa5c0957ffd)\">\n     <use style=\"fill:#440154;stroke:#440154;stroke-width:0.5;\" x=\"92.735053\" xlink:href=\"#C0_0_2c801f6a0b\" y=\"192.741725\"/>\n    </g>\n    <g clip-path=\"url(#pa5c0957ffd)\">\n     <use style=\"fill:#21918c;stroke:#21918c;stroke-width:0.5;\" x=\"334.58262\" xlink:href=\"#C0_0_2c801f6a0b\" y=\"22.914678\"/>\n    </g>\n    <g clip-path=\"url(#pa5c0957ffd)\">\n     <use style=\"fill:#fde725;stroke:#fde725;stroke-width:0.5;\" x=\"143.731143\" xlink:href=\"#C0_0_2c801f6a0b\" y=\"163.197368\"/>\n    </g>\n    <g clip-path=\"url(#pa5c0957ffd)\">\n     <use style=\"fill:#21918c;stroke:#21918c;stroke-width:0.5;\" x=\"351.251419\" xlink:href=\"#C0_0_2c801f6a0b\" y=\"30.980802\"/>\n    </g>\n    <g clip-path=\"url(#pa5c0957ffd)\">\n     <use style=\"fill:#440154;stroke:#440154;stroke-width:0.5;\" x=\"101.641938\" xlink:href=\"#C0_0_2c801f6a0b\" y=\"198.700004\"/>\n    </g>\n    <g clip-path=\"url(#pa5c0957ffd)\">\n     <use style=\"fill:#fde725;stroke:#fde725;stroke-width:0.5;\" x=\"209.324993\" xlink:href=\"#C0_0_2c801f6a0b\" y=\"229.607424\"/>\n    </g>\n    <g clip-path=\"url(#pa5c0957ffd)\">\n     <use style=\"fill:#fde725;stroke:#fde725;stroke-width:0.5;\" x=\"218.302142\" xlink:href=\"#C0_0_2c801f6a0b\" y=\"185.753564\"/>\n    </g>\n    <g clip-path=\"url(#pa5c0957ffd)\">\n     <use style=\"fill:#21918c;stroke:#21918c;stroke-width:0.5;\" x=\"256.627914\" xlink:href=\"#C0_0_2c801f6a0b\" y=\"120.559973\"/>\n    </g>\n    <g clip-path=\"url(#pa5c0957ffd)\">\n     <use style=\"fill:#fde725;stroke:#fde725;stroke-width:0.5;\" x=\"295.59144\" xlink:href=\"#C0_0_2c801f6a0b\" y=\"150.853398\"/>\n    </g>\n    <g clip-path=\"url(#pa5c0957ffd)\">\n     <use style=\"fill:#21918c;stroke:#21918c;stroke-width:0.5;\" x=\"254.34639\" xlink:href=\"#C0_0_2c801f6a0b\" y=\"123.060662\"/>\n    </g>\n    <g clip-path=\"url(#pa5c0957ffd)\">\n     <use style=\"fill:#21918c;stroke:#21918c;stroke-width:0.5;\" x=\"309.324653\" xlink:href=\"#C0_0_2c801f6a0b\" y=\"49.312171\"/>\n    </g>\n    <g clip-path=\"url(#pa5c0957ffd)\">\n     <use style=\"fill:#fde725;stroke:#fde725;stroke-width:0.5;\" x=\"187.326886\" xlink:href=\"#C0_0_2c801f6a0b\" y=\"208.34041\"/>\n    </g>\n    <g clip-path=\"url(#pa5c0957ffd)\">\n     <use style=\"fill:#21918c;stroke:#21918c;stroke-width:0.5;\" x=\"280.372827\" xlink:href=\"#C0_0_2c801f6a0b\" y=\"62.76109\"/>\n    </g>\n    <g clip-path=\"url(#pa5c0957ffd)\">\n     <use style=\"fill:#fde725;stroke:#fde725;stroke-width:0.5;\" x=\"189.622601\" xlink:href=\"#C0_0_2c801f6a0b\" y=\"184.79404\"/>\n    </g>\n    <g clip-path=\"url(#pa5c0957ffd)\">\n     <use style=\"fill:#21918c;stroke:#21918c;stroke-width:0.5;\" x=\"305.783256\" xlink:href=\"#C0_0_2c801f6a0b\" y=\"41.701896\"/>\n    </g>\n    <g clip-path=\"url(#pa5c0957ffd)\">\n     <use style=\"fill:#fde725;stroke:#fde725;stroke-width:0.5;\" x=\"150.375528\" xlink:href=\"#C0_0_2c801f6a0b\" y=\"176.341846\"/>\n    </g>\n    <g clip-path=\"url(#pa5c0957ffd)\">\n     <use style=\"fill:#fde725;stroke:#fde725;stroke-width:0.5;\" x=\"237.489232\" xlink:href=\"#C0_0_2c801f6a0b\" y=\"184.255634\"/>\n    </g>\n    <g clip-path=\"url(#pa5c0957ffd)\">\n     <use style=\"fill:#21918c;stroke:#21918c;stroke-width:0.5;\" x=\"385.718791\" xlink:href=\"#C0_0_2c801f6a0b\" y=\"41.874164\"/>\n    </g>\n    <g clip-path=\"url(#pa5c0957ffd)\">\n     <use style=\"fill:#fde725;stroke:#fde725;stroke-width:0.5;\" x=\"283.588151\" xlink:href=\"#C0_0_2c801f6a0b\" y=\"143.794119\"/>\n    </g>\n    <g clip-path=\"url(#pa5c0957ffd)\">\n     <use style=\"fill:#fde725;stroke:#fde725;stroke-width:0.5;\" x=\"256.207433\" xlink:href=\"#C0_0_2c801f6a0b\" y=\"168.811161\"/>\n    </g>\n    <g clip-path=\"url(#pa5c0957ffd)\">\n     <use style=\"fill:#fde725;stroke:#fde725;stroke-width:0.5;\" x=\"278.197178\" xlink:href=\"#C0_0_2c801f6a0b\" y=\"180.894253\"/>\n    </g>\n    <g clip-path=\"url(#pa5c0957ffd)\">\n     <use style=\"fill:#440154;stroke:#440154;stroke-width:0.5;\" x=\"93.979283\" xlink:href=\"#C0_0_2c801f6a0b\" y=\"187.766488\"/>\n    </g>\n    <g clip-path=\"url(#pa5c0957ffd)\">\n     <use style=\"fill:#fde725;stroke:#fde725;stroke-width:0.5;\" x=\"162.993843\" xlink:href=\"#C0_0_2c801f6a0b\" y=\"169.44335\"/>\n    </g>\n    <g clip-path=\"url(#pa5c0957ffd)\">\n     <use style=\"fill:#fde725;stroke:#fde725;stroke-width:0.5;\" x=\"277.144692\" xlink:href=\"#C0_0_2c801f6a0b\" y=\"174.434459\"/>\n    </g>\n    <g clip-path=\"url(#pa5c0957ffd)\">\n     <use style=\"fill:#fde725;stroke:#fde725;stroke-width:0.5;\" x=\"170.933328\" xlink:href=\"#C0_0_2c801f6a0b\" y=\"178.689948\"/>\n    </g>\n    <g clip-path=\"url(#pa5c0957ffd)\">\n     <use style=\"fill:#440154;stroke:#440154;stroke-width:0.5;\" x=\"78.309756\" xlink:href=\"#C0_0_2c801f6a0b\" y=\"210.891024\"/>\n    </g>\n    <g clip-path=\"url(#pa5c0957ffd)\">\n     <use style=\"fill:#21918c;stroke:#21918c;stroke-width:0.5;\" x=\"398.315984\" xlink:href=\"#C0_0_2c801f6a0b\" y=\"40.245899\"/>\n    </g>\n    <g clip-path=\"url(#pa5c0957ffd)\">\n     <use style=\"fill:#fde725;stroke:#fde725;stroke-width:0.5;\" x=\"279.707404\" xlink:href=\"#C0_0_2c801f6a0b\" y=\"192.381133\"/>\n    </g>\n   </g>\n   <g id=\"patch_3\">\n    <path d=\"M 40.246563 240.48 \nL 40.246563 7.2 \n\" style=\"fill:none;stroke:#f0f0f0;stroke-linecap:square;stroke-linejoin:miter;stroke-width:3;\"/>\n   </g>\n   <g id=\"patch_4\">\n    <path d=\"M 416.086562 240.48 \nL 416.086562 7.2 \n\" style=\"fill:none;stroke:#f0f0f0;stroke-linecap:square;stroke-linejoin:miter;stroke-width:3;\"/>\n   </g>\n   <g id=\"patch_5\">\n    <path d=\"M 40.246563 240.48 \nL 416.086562 240.48 \n\" style=\"fill:none;stroke:#f0f0f0;stroke-linecap:square;stroke-linejoin:miter;stroke-width:3;\"/>\n   </g>\n   <g id=\"patch_6\">\n    <path d=\"M 40.246563 7.2 \nL 416.086562 7.2 \n\" style=\"fill:none;stroke:#f0f0f0;stroke-linecap:square;stroke-linejoin:miter;stroke-width:3;\"/>\n   </g>\n  </g>\n </g>\n <defs>\n  <clipPath id=\"pa5c0957ffd\">\n   <rect height=\"233.28\" width=\"375.84\" x=\"40.246563\" y=\"7.2\"/>\n  </clipPath>\n </defs>\n</svg>\n"
          },
          "metadata": {}
        }
      ]
    },
    {
      "cell_type": "code",
      "source": [
        "#Вычислите средние значения price и CRIM в разных кластерах.\n",
        "\n",
        "print('Средние значения CRIM:')\n",
        "print('Кластер 0: {}'.format(X_train.loc[labels_train == 0, 'CRIM'].mean()))\n",
        "print('Кластер 1: {}'.format(X_train.loc[labels_train == 1, 'CRIM'].mean()))\n",
        "print('Кластер 2: {}'.format(X_train.loc[labels_train == 2, 'CRIM'].mean()))\n"
      ],
      "metadata": {
        "id": "hIjOy36xWrC9",
        "colab": {
          "base_uri": "https://localhost:8080/"
        },
        "outputId": "3415c954-f3ff-403d-fca3-2ed0e422d61b"
      },
      "id": "hIjOy36xWrC9",
      "execution_count": 64,
      "outputs": [
        {
          "output_type": "stream",
          "name": "stdout",
          "text": [
            "Средние значения CRIM:\n",
            "Кластер 0: 0.07356558139534886\n",
            "Кластер 1: 10.797028425196853\n",
            "Кластер 2: 0.42166020942408367\n"
          ]
        }
      ]
    },
    {
      "cell_type": "code",
      "source": [
        "print('Средние значения price:')\n",
        "print('Кластер 0: {}'.format(Y_train[labels_train == 0].mean()))\n",
        "print('Кластер 1: {}'.format(Y_train[labels_train == 1].mean()))\n",
        "print('Кластер 2: {}'.format(Y_train[labels_train == 2].mean()))"
      ],
      "metadata": {
        "colab": {
          "base_uri": "https://localhost:8080/"
        },
        "id": "5H0QE7vaDQ98",
        "outputId": "9723cd51-3705-4677-c514-a65e79a4ba14"
      },
      "id": "5H0QE7vaDQ98",
      "execution_count": 65,
      "outputs": [
        {
          "output_type": "stream",
          "name": "stdout",
          "text": [
            "Средние значения price:\n",
            "Кластер 0: price    27.788372\n",
            "dtype: float64\n",
            "Кластер 1: price    16.165354\n",
            "dtype: float64\n",
            "Кластер 2: price    24.958115\n",
            "dtype: float64\n"
          ]
        }
      ]
    },
    {
      "cell_type": "markdown",
      "source": [
        "Задание 3"
      ],
      "metadata": {
        "id": "JJhzq1hLEsP8"
      },
      "id": "JJhzq1hLEsP8"
    },
    {
      "cell_type": "code",
      "source": [
        "#Примените модели KMeans, построенной в предыдущем задании, к данным из тестового набора\n",
        "labels_test = kmeans.predict(X_test_scaled)\n"
      ],
      "metadata": {
        "id": "mrqFNimhWtB2"
      },
      "id": "mrqFNimhWtB2",
      "execution_count": 66,
      "outputs": []
    },
    {
      "cell_type": "code",
      "source": [
        "#Вычислите средние значения price и CRIM в разных кластерах на тестовых данных.\n",
        "print('Средние значения price:')\n",
        "print('Кластер 0: {}'.format(Y_test[labels_test == 0].mean()))\n",
        "print('Кластер 1: {}'.format(Y_test[labels_test == 1].mean()))\n",
        "print('Кластер 2: {}'.format(Y_test[labels_test == 2].mean()))\n",
        "print('Средние значения CRIM:')\n",
        "print('Кластер 0: {}'.format(X_test.loc[labels_test == 0, 'CRIM'].mean()))\n",
        "print('Кластер 1: {}'.format(X_test.loc[labels_test == 1, 'CRIM'].mean()))\n",
        "print('Кластер 2: {}'.format(X_test.loc[labels_test == 2, 'CRIM'].mean()))"
      ],
      "metadata": {
        "colab": {
          "base_uri": "https://localhost:8080/"
        },
        "id": "HnHsLnMcEf4U",
        "outputId": "2b1676fd-e07a-4493-e391-3926a8c4504b"
      },
      "id": "HnHsLnMcEf4U",
      "execution_count": 68,
      "outputs": [
        {
          "output_type": "stream",
          "name": "stdout",
          "text": [
            "Средние значения price:\n",
            "Кластер 0: price    28.413636\n",
            "dtype: float64\n",
            "Кластер 1: price    16.437143\n",
            "dtype: float64\n",
            "Кластер 2: price    22.031111\n",
            "dtype: float64\n",
            "Средние значения CRIM:\n",
            "Кластер 0: 0.07985181818181818\n",
            "Кластер 1: 10.165531142857143\n",
            "Кластер 2: 0.2845831111111111\n"
          ]
        }
      ]
    }
  ],
  "metadata": {
    "kernelspec": {
      "display_name": "Python 3",
      "language": "python",
      "name": "python3"
    },
    "language_info": {
      "codemirror_mode": {
        "name": "ipython",
        "version": 3
      },
      "file_extension": ".py",
      "mimetype": "text/x-python",
      "name": "python",
      "nbconvert_exporter": "python",
      "pygments_lexer": "ipython3",
      "version": "3.8.8"
    },
    "colab": {
      "name": "WithoutTeacherHW.ipynb\"",
      "provenance": [],
      "collapsed_sections": [],
      "include_colab_link": true
    }
  },
  "nbformat": 4,
  "nbformat_minor": 5
}