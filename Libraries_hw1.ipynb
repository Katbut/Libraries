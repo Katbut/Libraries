{
 "cells": [
  {
   "cell_type": "code",
   "execution_count": 5,
   "id": "9a4b5072",
   "metadata": {},
   "outputs": [
    {
     "name": "stdout",
     "output_type": "stream",
     "text": [
      "Вычисления с помощью Numpy\n",
      "Задание1\n",
      "[[ 1  6]\n",
      " [ 2  8]\n",
      " [ 3 11]\n",
      " [ 3 10]\n",
      " [ 1  7]]\n",
      "Количество наблюдений,признаков (5, 2)\n",
      "Средние значения : [2.  8.4]\n",
      "\n",
      "Задание 2\n",
      "Частное массивов исходного и среднего\n",
      "[[-1.  -2.4]\n",
      " [ 0.  -0.4]\n",
      " [ 1.   2.6]\n",
      " [ 1.   1.6]\n",
      " [-1.  -1.4]]\n",
      "\n",
      "Задание 3\n",
      "8.0\n",
      "5\n",
      "My_cov: 2.0\n",
      "\n",
      "Задание 4\n",
      "For commit str\n"
     ]
    }
   ],
   "source": [
    "print('Вычисления с помощью Numpy')\n",
    "print('Задание1')\n",
    "import numpy as np\n",
    "a = np.array([[1, 6],\n",
    "[2, 8,],\n",
    "[3, 11,],\n",
    "[3, 10,],\n",
    "[1, 7,]])\n",
    "print(a)\n",
    "print(\"Количество наблюдений,признаков {}\".format(a.shape))\n",
    "N= a.shape\n",
    "\n",
    "\n",
    "print(\"Средние значения : {}\".format(a.mean(axis=0)))\n",
    "\n",
    "mean_a= a.mean(axis=0)\n",
    "print('')\n",
    "print('Задание 2')\n",
    "\n",
    "a_centered = np.subtract(a, mean_a)\n",
    "print('Частное массивов исходного и среднего')\n",
    "print (a_centered)\n",
    "\n",
    "print('')\n",
    "print('Задание 3')\n",
    "a1=a_centered[:,0]\n",
    "a2=a_centered[:,1]\n",
    "a_centered_sp=np.dot(a1,a2)\n",
    "print(a_centered_sp)\n",
    "N=a.shape[0]\n",
    "print(N)\n",
    "my_cov=a_centered_sp/(N-1)\n",
    "print(\"My_cov:\", my_cov)\n",
    "\n",
    "print('')\n",
    "print('Задание 4')\n",
    "np.cov(a.transpose())\n",
    "print('For commit str')\n"
   ]
  },
  {
   "cell_type": "code",
   "execution_count": null,
   "id": "b669467b",
   "metadata": {},
   "outputs": [],
   "source": []
  }
 ],
 "metadata": {
  "kernelspec": {
   "display_name": "Python 3",
   "language": "python",
   "name": "python3"
  },
  "language_info": {
   "codemirror_mode": {
    "name": "ipython",
    "version": 3
   },
   "file_extension": ".py",
   "mimetype": "text/x-python",
   "name": "python",
   "nbconvert_exporter": "python",
   "pygments_lexer": "ipython3",
   "version": "3.8.8"
  }
 },
 "nbformat": 4,
 "nbformat_minor": 5
}
